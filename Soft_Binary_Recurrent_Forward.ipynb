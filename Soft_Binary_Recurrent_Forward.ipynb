{
  "cells": [
    {
      "cell_type": "markdown",
      "id": "141370fc-54a4-4a6b-afcf-a7677dc6dc87",
      "metadata": {
        "id": "141370fc-54a4-4a6b-afcf-a7677dc6dc87"
      },
      "source": [
        "# Soft Binary Neural Network with Recurrent Crossbar Recycling"
      ]
    },
    {
      "cell_type": "markdown",
      "id": "508058d8-e23a-4c29-aad7-c2b233d621c9",
      "metadata": {
        "id": "508058d8-e23a-4c29-aad7-c2b233d621c9"
      },
      "source": [
        "## Imports and Dataset"
      ]
    },
    {
      "cell_type": "code",
      "execution_count": 129,
      "id": "9a70e539-1dc9-4e36-9c9f-18fbdaeede1f",
      "metadata": {
        "id": "9a70e539-1dc9-4e36-9c9f-18fbdaeede1f"
      },
      "outputs": [],
      "source": [
        "import numpy as np\n",
        "import torch\n",
        "import cv2 as cv\n",
        "import matplotlib.pyplot as plt\n",
        "import torch\n",
        "import torch.nn as nn\n",
        "import torch.optim as optim\n",
        "import torch.nn.functional as F\n",
        "from torch.utils.data import Dataset, DataLoader\n",
        "import os\n",
        "import ast\n",
        "import pandas as pd\n",
        "from sklearn.metrics import confusion_matrix\n",
        "import seaborn as sns\n",
        "import torchvision\n",
        "import torchvision.transforms as transforms\n",
        "from torch.utils.data import DataLoader\n",
        "device = torch.device(\"cuda\" if torch.cuda.is_available() else \"cpu\")"
      ]
    },
    {
      "cell_type": "code",
      "execution_count": 130,
      "id": "d406d54c-db27-4536-a8c1-f46437f6fb71",
      "metadata": {
        "id": "d406d54c-db27-4536-a8c1-f46437f6fb71"
      },
      "outputs": [],
      "source": [
        "def plot_history(history, num_epochs, element):\n",
        "    epochs = range(len(history[list(history.keys())[0]]))\n",
        "\n",
        "    fig, ax1 = plt.subplots(figsize=(12, 8))\n",
        "\n",
        "    ax1.plot(epochs, history[\"train_loss\"], label=\"Train Loss\", color=\"blue\")\n",
        "    ax1.plot(epochs, history[\"val_loss\"], label=\"Validation Loss\", color=\"red\")\n",
        "    ax1.set_xlabel(\"Epochs\", fontsize=14)\n",
        "    ax1.set_ylabel(\"Loss\", fontsize=14, color=\"blue\")\n",
        "    ax1.tick_params(axis=\"y\", labelcolor=\"blue\")\n",
        "    ax1.legend(loc=\"upper left\")\n",
        "    ax1.grid(True)\n",
        "\n",
        "    ax2 = ax1.twinx()\n",
        "    ax2.plot(epochs, history[\"train_accuracy\"], label=\"Train Accuracy\", color=\"green\")\n",
        "    ax2.plot(epochs, history[\"val_accuracy\"], label=\"Validation Accuracy\", color=\"orange\")\n",
        "    ax2.set_ylabel(\"Accuracy (%)\", fontsize=14, color=\"green\")\n",
        "    ax2.tick_params(axis=\"y\", labelcolor=\"green\")\n",
        "    ax2.legend(loc=\"upper right\")\n",
        "\n",
        "    plt.title(f\"Training and Validation Metrics for {element}\", fontsize=16)\n",
        "    plt.tight_layout()\n",
        "    plt.show()"
      ]
    },
    {
      "cell_type": "code",
      "execution_count": 131,
      "id": "7c658023-75df-4754-a617-a8ba6d08d068",
      "metadata": {
        "id": "7c658023-75df-4754-a617-a8ba6d08d068"
      },
      "outputs": [],
      "source": [
        "def test(model, test_loader, class_names=None):\n",
        "    model.eval()\n",
        "    total_loss = 0\n",
        "    total_correct = 0\n",
        "    total_samples = 0\n",
        "    all_predictions = []\n",
        "    all_labels = []\n",
        "\n",
        "    with torch.no_grad():\n",
        "        for inputs, labels in test_loader:\n",
        "            inputs, labels = inputs.to(device), labels.to(device)\n",
        "            outputs = model(inputs)\n",
        "            loss = criterion(outputs, labels)\n",
        "            total_loss += loss.item() * inputs.size(0)\n",
        "\n",
        "            _, predicted = torch.max(outputs, dim=1)\n",
        "            total_correct += (predicted == labels).sum().item()\n",
        "            total_samples += labels.size(0)\n",
        "\n",
        "            all_predictions.extend(predicted.cpu().numpy())\n",
        "            all_labels.extend(labels.cpu().numpy())\n",
        "\n",
        "    avg_loss = total_loss / total_samples\n",
        "    accuracy = (total_correct / total_samples) * 100\n",
        "\n",
        "    print(f\"Validation Loss: {avg_loss:.4f}\")\n",
        "    print(f\"Validation Accuracy: {accuracy:.2f}%\")\n",
        "\n",
        "    cm = confusion_matrix(all_labels, all_predictions)\n",
        "\n",
        "    plt.figure(figsize=(8, 6))\n",
        "    sns.heatmap(cm, annot=True, fmt=\"d\", cmap=\"Blues\", xticklabels=class_names, yticklabels=class_names)\n",
        "    plt.xlabel('Predicted Labels')\n",
        "    plt.ylabel('True Labels')\n",
        "    plt.title('Confusion Matrix')\n",
        "    plt.show()\n",
        "\n",
        "    return cm"
      ]
    },
    {
      "cell_type": "markdown",
      "id": "be5e8ced-6bb5-445a-9b04-bc268eec917e",
      "metadata": {
        "id": "be5e8ced-6bb5-445a-9b04-bc268eec917e"
      },
      "source": [
        "### MNIST Handwritten Digits"
      ]
    },
    {
      "cell_type": "code",
      "execution_count": 132,
      "id": "d3bbad17-7067-4f06-8755-012646ca9567",
      "metadata": {
        "id": "d3bbad17-7067-4f06-8755-012646ca9567"
      },
      "outputs": [],
      "source": [
        "class BinarizeAndAddNoiseTransform:\n",
        "    def __init__(self, threshold, noise_std):\n",
        "        self.threshold = threshold\n",
        "        self.noise_std = noise_std\n",
        "\n",
        "    def __call__(self, img):\n",
        "        img = transforms.ToTensor()(img).to(device)\n",
        "        img = (img > self.threshold).float()\n",
        "        img = img[:,1:-1, 1:-1]\n",
        "        noise = torch.randn(img.size(), device=device) * self.noise_std\n",
        "        noisy_img = img + noise\n",
        "        return noisy_img\n",
        "\n",
        "binary_noise_transform = transforms.Compose([\n",
        "    BinarizeAndAddNoiseTransform(threshold=0.48, noise_std=0.05)\n",
        "])\n",
        "\n",
        "train_dataset = torchvision.datasets.MNIST(root='./data', train=True, download=True, transform=binary_noise_transform)\n",
        "train_loader = DataLoader(dataset=train_dataset, batch_size=1000, shuffle=True)\n",
        "\n",
        "test_dataset = torchvision.datasets.MNIST(root='./data', train=False, download=True, transform=binary_noise_transform)\n",
        "test_loader = DataLoader(dataset=test_dataset, batch_size=10000, shuffle=False)"
      ]
    },
    {
      "cell_type": "code",
      "execution_count": 133,
      "id": "bc40653e-ebac-4013-9ecb-27dfe1370edd",
      "metadata": {
        "id": "bc40653e-ebac-4013-9ecb-27dfe1370edd"
      },
      "outputs": [],
      "source": [
        "# Get a subset of the dataset\n",
        "train_in, train_lab = next(iter(train_loader))\n",
        "val_in, val_lab = next(iter(test_loader))\n",
        "\n",
        "# Move data to the appropriate device\n",
        "train_in, train_lab = train_in.to(device), train_lab.to(device)\n",
        "val_in, val_lab = val_in.to(device), val_lab.to(device)"
      ]
    },
    {
      "cell_type": "code",
      "execution_count": 134,
      "id": "d76599e3-3d87-4d1d-bd5f-41ca0adab18f",
      "metadata": {
        "colab": {
          "base_uri": "https://localhost:8080/",
          "height": 283
        },
        "id": "d76599e3-3d87-4d1d-bd5f-41ca0adab18f",
        "outputId": "a5f75f09-b671-4734-cc1c-4f4c11cdb9ee"
      },
      "outputs": [
        {
          "output_type": "display_data",
          "data": {
            "text/plain": [
              "<Figure size 1500x400 with 20 Axes>"
            ],
            "image/png": "[encoded data removed]"
          },
          "metadata": {}
        },
        {
          "output_type": "execute_result",
          "data": {
            "text/plain": [
              "torch.Size([1000, 1, 26, 26])"
            ]
          },
          "metadata": {},
          "execution_count": 134
        }
      ],
      "source": [
        "fig, axes = plt.subplots(nrows=2, ncols=10, figsize=(15, 4))\n",
        "for i, ax in enumerate(axes.flat):\n",
        "    ax.imshow(train_in[i].cpu().squeeze(), cmap='gray')\n",
        "    ax.set_title(f\"Label: {train_lab[i].item()}\", fontsize=10)\n",
        "    ax.axis('off')\n",
        "plt.tight_layout()\n",
        "plt.show()\n",
        "train_in.shape"
      ]
    },
    {
      "cell_type": "markdown",
      "id": "d1b44def-df85-406b-87e8-fbc5b4f7fe7a",
      "metadata": {
        "id": "d1b44def-df85-406b-87e8-fbc5b4f7fe7a"
      },
      "source": [
        "## Custom Neural Network"
      ]
    },
    {
      "cell_type": "code",
      "execution_count": 142,
      "id": "391dfb3d-1a2b-42d7-9ff7-e3f0e831d50a",
      "metadata": {
        "id": "391dfb3d-1a2b-42d7-9ff7-e3f0e831d50a"
      },
      "outputs": [],
      "source": [
        "torch.backends.cudnn.benchmark = True\n",
        "\n",
        "def tensor_stats(tensor, name=\"Tensor\"):\n",
        "    tensor = tensor.to(device)\n",
        "    mean_magnitude = tensor.abs().mean().item()\n",
        "    print(f\"{name} - Mean Magnitude: {mean_magnitude:.2e}, Max: {tensor.max().item():.2e}, Min: {tensor.min().item():.2e}\")\n",
        "\n",
        "import torch\n",
        "import torch.nn as nn\n",
        "\n",
        "class SoftBinaryRecurrentForwardNetwork(nn.Module):\n",
        "    def __init__(self, scaling, G_ON, G_OFF, V_INV, R_INV, V_1, V_0, zeta, initial_factor, crossbar=(64,64),\n",
        "                 input_size=676, encoding_size=4, output_size=10, data_in=52, bin_active=True,\n",
        "                 monitor_volts=False, monitor_grads=True, monitor_latents=False, dropout=0.01,\n",
        "                 int_lr=0.01, int_norm=True, temperature_1 = 500, temperature_2 = 10000,monitor_annealing=False):\n",
        "        super().__init__()\n",
        "\n",
        "        self.w = nn.Parameter(initial_factor * torch.empty(crossbar, device=device))\n",
        "        nn.init.xavier_uniform_(self.w)\n",
        "        self.w.data = (initial_factor*(self.w.data))\n",
        "\n",
        "        self.G_ON, self.G_OFF = torch.tensor(G_ON, device=device)*scaling, torch.tensor(G_OFF, device=device)*scaling\n",
        "        self.V_INV, self.R_INV = torch.tensor(V_INV, device=device), torch.tensor(R_INV, device=device)\n",
        "        self.V_1, self.V_0 = torch.tensor(V_1, device=device), torch.tensor(V_0, device=device)\n",
        "\n",
        "        self.crossbar_in, self.crossbar_out = crossbar\n",
        "        self.encoding, self.data_in, self.output_size = encoding_size, data_in, output_size\n",
        "        self.r_passes = input_size // data_in\n",
        "\n",
        "        self.first_bias = (crossbar[0] - data_in) % encoding_size\n",
        "        self.extra_final = crossbar[1] - self.encoding * self.r_passes - output_size\n",
        "        self.final_bias = (crossbar[0] - self.encoding * self.r_passes - self.extra_final) % (self.extra_final + self.encoding)\n",
        "\n",
        "        self.feed_repeats = (crossbar[0] - data_in)//encoding_size\n",
        "        self.final_repeats = (crossbar[0] - self.encoding * self.r_passes - self.extra_final)//(self.extra_final + self.encoding)\n",
        "\n",
        "        self.zeta, self.int_lr = torch.tensor(zeta, device=device), torch.tensor(int_lr, device=device)\n",
        "        self.bin_active, self.int_norm = bin_active, int_norm\n",
        "        self.monitor_volts, self.monitor_grads, self.monitor_latents = monitor_volts, monitor_grads, monitor_latents\n",
        "        self.monitor_annealing = monitor_annealing\n",
        "        self.dropout = nn.Dropout(p=dropout)\n",
        "\n",
        "        self.temperature_1 = temperature_1\n",
        "        self.temperature_2 = temperature_2\n",
        "        self.device = device\n",
        "\n",
        "    def INV_AMP(self, x, R_INV):\n",
        "        return -self.V_INV * torch.tanh(R_INV * x / self.V_INV)\n",
        "\n",
        "    def SOFT_BIN(self, x):\n",
        "        if self.bin_active: return ((self.G_ON - self.G_OFF) * torch.sigmoid(x * self.zeta) + self.G_OFF)\n",
        "        else: return self.G_ON * x * self.zeta * 0.4\n",
        "\n",
        "    def PREPROCESS(self, img):\n",
        "        return (self.V_1 - self.V_0) * img.to(device) + self.V_0\n",
        "\n",
        "    def ANNEALER(self):\n",
        "        prob = torch.exp(torch.tensor(-1.0, device=self.device) / self.temperature_1)\n",
        "        prob = torch.clamp(prob, min=1e-3, max=0.5)\n",
        "\n",
        "        rand_vals = torch.rand((64, 64), device=self.device)\n",
        "        annealed_mask = torch.where(rand_vals < prob, -1, torch.where(rand_vals < 2 * prob, 0, 1))\n",
        "\n",
        "        return annealed_mask\n",
        "\n",
        "    def forward(self, img):\n",
        "        # Preprocessing: Two States of input (V_ON and V_OFF)\n",
        "        img = self.PREPROCESS(img.view(img.size(0), -1))\n",
        "        bias = self.PREPROCESS(((-1) ** torch.arange(self.first_bias, device=device)).repeat(img.shape[0], 1))\n",
        "        bias2 = self.PREPROCESS(((-1) ** torch.arange(self.final_bias, device=device)).repeat(img.shape[0], 1))\n",
        "\n",
        "        # RRAM Soft Binarization\n",
        "        g = self.SOFT_BIN(self.w)\n",
        "        if self.monitor_latents: tensor_stats(self.w, \"Latent Weights:\")\n",
        "\n",
        "        # Recurrent Encoding Layer\n",
        "        out1size = self.crossbar_out - self.output_size\n",
        "        feedback = torch.zeros((img.shape[0], self.encoding*self.feed_repeats), device=device)\n",
        "        out1 = torch.zeros((img.shape[0], out1size), device = device)\n",
        "\n",
        "        for r_pass in range(self.r_passes - 1):\n",
        "            ind_s, ind_f = self.crossbar_out - (r_pass+1)*self.encoding, self.crossbar_out - (r_pass)*self.encoding\n",
        "            ind_a, ind_b = out1size - (r_pass+1)*self.encoding, out1size - (r_pass)*self.encoding\n",
        "\n",
        "            x = torch.cat((feedback, bias, img[:, r_pass * self.data_in:(r_pass + 1) * self.data_in]), dim=1)\n",
        "            x = F.linear(x, g[ind_s:ind_f, : ], bias=None)\n",
        "\n",
        "            out1[:, ind_a:ind_b] = self.INV_AMP(x, self.R_INV)\n",
        "            if self.monitor_volts: tensor_stats(feedback, f\"Voltages in Recurrent Stage after pass {r_pass}\")\n",
        "\n",
        "            feedback = out1[:, ind_a:ind_b].repeat(1,self.feed_repeats)\n",
        "\n",
        "        else:\n",
        "            r_pass += 1\n",
        "            ind_s, ind_f = self.crossbar_out - (r_pass+1)*self.encoding - self.extra_final, self.crossbar_out - (r_pass)*self.encoding\n",
        "            ind_a, ind_b = out1size - (r_pass+1)*self.encoding - self.extra_final, out1size - (r_pass)*self.encoding\n",
        "\n",
        "            x = torch.cat((feedback, bias, img[:, r_pass * self.data_in:(r_pass + 1) * self.data_in]), dim=1)\n",
        "            x = F.linear(x, g[-(r_pass+1)*self.encoding - self.extra_final:-r_pass*self.encoding, : ], bias=None)\n",
        "\n",
        "            out1[:, ind_a:ind_b] = self.INV_AMP(x, self.R_INV)\n",
        "            if self.monitor_volts: tensor_stats(out1, f\"All Voltages in Recurrent Stage\")\n",
        "\n",
        "            feedback = out1[:, ind_a:ind_b].repeat(1,self.final_repeats)\n",
        "\n",
        "        x = torch.cat((feedback, bias2, out1), dim = 1)\n",
        "        x = self.dropout(x)\n",
        "\n",
        "        # Feature Extraction Layer\n",
        "        x = F.linear(x, g[:self.output_size, : ], bias=None)\n",
        "        x = self.INV_AMP(x, self.R_INV)\n",
        "        if self.monitor_volts: tensor_stats(x, f\"Voltages after h_layer {h_pass}\")\n",
        "\n",
        "        return x\n",
        "\n",
        "    def backprop(self, ext_lr):\n",
        "        with torch.no_grad():\n",
        "            if self.w.grad is not None:\n",
        "                grad = self.w.grad.to(device)\n",
        "                for i in range(grad.shape[0]):\n",
        "                    if self.int_norm:\n",
        "                        grad[i] = self.int_lr * grad[i] / (torch.norm(grad[i]) + 1e-20)\n",
        "                    grad[i] = ext_lr * grad[i]\n",
        "                if self.monitor_grads: tensor_stats(grad, \"Gradients\")\n",
        "                self.w -= grad\n",
        "                self.w.grad.zero_()\n",
        "\n",
        "    def anneal(self, inputs, labels, old_loss, decay1, decay2):\n",
        "        with torch.no_grad():\n",
        "            old_w = self.w.data\n",
        "            self.w.data = self.w.data*self.ANNEALER()\n",
        "\n",
        "            outputs = self.forward(inputs)\n",
        "            loss = criterion(outputs, labels)\n",
        "\n",
        "            new_loss = loss.item() * inputs.size(0)\n",
        "\n",
        "            acceptance_prob = torch.exp(torch.tensor(-(new_loss - old_loss) / self.temperature_2, device=self.device))\n",
        "            if new_loss < old_loss or torch.rand(1, device=self.device) < acceptance_prob:\n",
        "                if self.monitor_annealing: print(\"Annealed weights accepted\")\n",
        "                pass\n",
        "            else:\n",
        "                self.w.data = old_w\n",
        "\n",
        "            self.temperature_1 *= decay1\n",
        "            self.temperature_2 *= decay2"
      ]
    },
    {
      "cell_type": "markdown",
      "id": "845d51da-8368-4c97-89a2-9fc1374f408b",
      "metadata": {
        "id": "845d51da-8368-4c97-89a2-9fc1374f408b"
      },
      "source": [
        "## Model Parameters"
      ]
    },
    {
      "cell_type": "code",
      "execution_count": 143,
      "id": "d332b5ba-a9e0-4e8a-bff9-3176267bef00",
      "metadata": {
        "id": "d332b5ba-a9e0-4e8a-bff9-3176267bef00"
      },
      "outputs": [],
      "source": [
        "params_RRAM = {\n",
        "    \"scaling\": 5,\n",
        "    \"G_ON\": 6e-5,\n",
        "    \"G_OFF\": 2.88e-6,\n",
        "    \"V_INV\": 0.6,\n",
        "    \"R_INV\": 1000.0,\n",
        "    \"V_1\": 0.1,\n",
        "    \"V_0\": -0.1,\n",
        "    \"zeta\": 10.0,\n",
        "    \"initial_factor\": 0.01,\n",
        "    \"crossbar\": (64, 64),\n",
        "    \"input_size\": 676,\n",
        "    \"encoding_size\": 4,\n",
        "    \"output_size\": 10,\n",
        "    \"data_in\": 52,\n",
        "    \"bin_active\": True,\n",
        "    \"monitor_volts\": False,\n",
        "    \"monitor_grads\": False,\n",
        "    \"monitor_latents\": False,\n",
        "    \"dropout\": 0.1,\n",
        "    \"int_lr\": 0.01,\n",
        "    \"int_norm\": True,\n",
        "    \"ext_lr\": 500,\n",
        "    \"epochs\": 200,\n",
        "    \"temperature_1\": 500,\n",
        "    \"temperature_2\": 10000,\n",
        "    \"monitor_annealing\":False\n",
        "}\n",
        "\n",
        "\n",
        "model_params = {k: v for k, v in params_RRAM.items() if k not in [\"noise_std\", \"batch_size\", \"lr\", \"epochs\",\"ext_lr\"]}"
      ]
    },
    {
      "cell_type": "code",
      "execution_count": 144,
      "id": "83a6271e-f7f2-4be1-8a71-b162ad2055e9",
      "metadata": {
        "scrolled": true,
        "id": "83a6271e-f7f2-4be1-8a71-b162ad2055e9"
      },
      "outputs": [],
      "source": [
        "model_RRAM = SoftBinaryRecurrentForwardNetwork(**model_params).to(device)"
      ]
    },
    {
      "cell_type": "markdown",
      "id": "241d1155-be9e-4a7a-9a74-a1d608188350",
      "metadata": {
        "id": "241d1155-be9e-4a7a-9a74-a1d608188350"
      },
      "source": [
        "## Training:"
      ]
    },
    {
      "cell_type": "markdown",
      "id": "25c0b7d2-7c19-4b3e-8856-76d2e9f32792",
      "metadata": {
        "id": "25c0b7d2-7c19-4b3e-8856-76d2e9f32792"
      },
      "source": [
        "### Training to a subset of Dataset First\n",
        "\n",
        "This is just to see if the model is backpropagating before putting in into the full training"
      ]
    },
    {
      "cell_type": "code",
      "execution_count": 145,
      "id": "efd13def-9751-4e0e-89bf-666a98444d02",
      "metadata": {
        "colab": {
          "base_uri": "https://localhost:8080/"
        },
        "id": "efd13def-9751-4e0e-89bf-666a98444d02",
        "outputId": "be4be628-e785-43e3-c9a9-199a6a8fefe4"
      },
      "outputs": [
        {
          "output_type": "stream",
          "name": "stdout",
          "text": [
            "Epoch 1, LR: 20.0000, Train Loss: 2.3026, Train Accuracy: 8.40%\n",
            "Epoch 2, LR: 100.0000, Train Loss: 2.3049, Train Accuracy: 9.00%\n",
            "Epoch 3, LR: 500.0000, Train Loss: 2.3930, Train Accuracy: 6.10%\n",
            "Epoch 4, LR: 500.0000, Train Loss: 2.4756, Train Accuracy: 11.10%\n",
            "Epoch 5, LR: 500.0000, Train Loss: 2.3043, Train Accuracy: 10.80%\n",
            "Epoch 6, LR: 500.0000, Train Loss: 2.2608, Train Accuracy: 15.20%\n",
            "Epoch 7, LR: 500.0000, Train Loss: 2.4280, Train Accuracy: 9.50%\n",
            "Epoch 8, LR: 500.0000, Train Loss: 2.3083, Train Accuracy: 14.10%\n",
            "Epoch 9, LR: 500.0000, Train Loss: 2.3266, Train Accuracy: 9.50%\n",
            "Epoch 10, LR: 500.0000, Train Loss: 2.3133, Train Accuracy: 12.40%\n",
            "Epoch 11, LR: 500.0000, Train Loss: 2.4032, Train Accuracy: 12.20%\n",
            "Epoch 12, LR: 500.0000, Train Loss: 2.3353, Train Accuracy: 8.10%\n",
            "Epoch 13, LR: 500.0000, Train Loss: 2.3238, Train Accuracy: 9.50%\n",
            "Epoch 14, LR: 500.0000, Train Loss: 2.3271, Train Accuracy: 10.80%\n",
            "Epoch 15, LR: 500.0000, Train Loss: 2.3073, Train Accuracy: 11.60%\n",
            "Epoch 16, LR: 500.0000, Train Loss: 2.4001, Train Accuracy: 9.00%\n",
            "Epoch 17, LR: 500.0000, Train Loss: 2.3303, Train Accuracy: 9.70%\n",
            "Epoch 18, LR: 500.0000, Train Loss: 2.3563, Train Accuracy: 10.00%\n",
            "Epoch 19, LR: 500.0000, Train Loss: 2.3190, Train Accuracy: 10.00%\n",
            "Epoch 20, LR: 500.0000, Train Loss: 2.3215, Train Accuracy: 9.40%\n",
            "Epoch 21, LR: 500.0000, Train Loss: 2.3364, Train Accuracy: 11.40%\n",
            "Epoch 22, LR: 500.0000, Train Loss: 2.3113, Train Accuracy: 9.40%\n",
            "Epoch 23, LR: 500.0000, Train Loss: 2.3657, Train Accuracy: 8.10%\n",
            "Epoch 24, LR: 500.0000, Train Loss: 2.3592, Train Accuracy: 8.50%\n",
            "Epoch 25, LR: 500.0000, Train Loss: 2.3030, Train Accuracy: 9.60%\n",
            "Epoch 26, LR: 500.0000, Train Loss: 2.3131, Train Accuracy: 9.60%\n",
            "Epoch 27, LR: 500.0000, Train Loss: 2.3194, Train Accuracy: 11.40%\n",
            "Epoch 28, LR: 500.0000, Train Loss: 2.3113, Train Accuracy: 12.00%\n",
            "Epoch 29, LR: 500.0000, Train Loss: 2.3352, Train Accuracy: 9.30%\n",
            "Epoch 30, LR: 500.0000, Train Loss: 2.4199, Train Accuracy: 10.10%\n",
            "Epoch 31, LR: 500.0000, Train Loss: 2.3209, Train Accuracy: 20.20%\n",
            "Epoch 32, LR: 500.0000, Train Loss: 2.3369, Train Accuracy: 10.20%\n",
            "Epoch 33, LR: 500.0000, Train Loss: 2.3145, Train Accuracy: 9.90%\n",
            "Epoch 34, LR: 500.0000, Train Loss: 2.2859, Train Accuracy: 13.60%\n",
            "Epoch 35, LR: 500.0000, Train Loss: 2.3522, Train Accuracy: 9.00%\n",
            "Epoch 36, LR: 500.0000, Train Loss: 2.4360, Train Accuracy: 9.50%\n",
            "Epoch 37, LR: 500.0000, Train Loss: 2.3260, Train Accuracy: 9.50%\n",
            "Epoch 38, LR: 500.0000, Train Loss: 2.3777, Train Accuracy: 10.10%\n",
            "Epoch 39, LR: 500.0000, Train Loss: 2.3251, Train Accuracy: 10.60%\n",
            "Epoch 40, LR: 500.0000, Train Loss: 2.3908, Train Accuracy: 11.00%\n",
            "Epoch 41, LR: 500.0000, Train Loss: 2.3090, Train Accuracy: 9.20%\n",
            "Epoch 42, LR: 500.0000, Train Loss: 2.4094, Train Accuracy: 11.10%\n",
            "Epoch 43, LR: 500.0000, Train Loss: 2.3064, Train Accuracy: 11.80%\n",
            "Epoch 44, LR: 500.0000, Train Loss: 2.3310, Train Accuracy: 10.30%\n",
            "Epoch 45, LR: 500.0000, Train Loss: 2.3098, Train Accuracy: 9.80%\n",
            "Epoch 46, LR: 500.0000, Train Loss: 2.3576, Train Accuracy: 10.20%\n",
            "Epoch 47, LR: 500.0000, Train Loss: 2.3009, Train Accuracy: 8.30%\n",
            "Epoch 48, LR: 500.0000, Train Loss: 2.3294, Train Accuracy: 10.40%\n",
            "Epoch 49, LR: 500.0000, Train Loss: 2.3107, Train Accuracy: 9.70%\n",
            "Epoch 50, LR: 500.0000, Train Loss: 2.3072, Train Accuracy: 8.60%\n",
            "Epoch 51, LR: 500.0000, Train Loss: 2.2609, Train Accuracy: 14.00%\n",
            "Epoch 52, LR: 250.0000, Train Loss: 2.3720, Train Accuracy: 9.50%\n",
            "Epoch 53, LR: 250.0000, Train Loss: 2.3343, Train Accuracy: 10.10%\n",
            "Epoch 54, LR: 250.0000, Train Loss: 2.3246, Train Accuracy: 9.50%\n",
            "Epoch 55, LR: 250.0000, Train Loss: 2.3856, Train Accuracy: 9.30%\n",
            "Epoch 56, LR: 250.0000, Train Loss: 2.3130, Train Accuracy: 10.50%\n",
            "Epoch 57, LR: 250.0000, Train Loss: 2.3058, Train Accuracy: 9.50%\n",
            "Epoch 58, LR: 250.0000, Train Loss: 2.3046, Train Accuracy: 6.90%\n",
            "Epoch 59, LR: 250.0000, Train Loss: 2.3141, Train Accuracy: 10.70%\n",
            "Epoch 60, LR: 250.0000, Train Loss: 2.2893, Train Accuracy: 18.90%\n",
            "Epoch 61, LR: 250.0000, Train Loss: 2.2082, Train Accuracy: 23.60%\n",
            "Epoch 62, LR: 250.0000, Train Loss: 2.3115, Train Accuracy: 9.10%\n",
            "Epoch 63, LR: 250.0000, Train Loss: 2.3808, Train Accuracy: 9.00%\n",
            "Epoch 64, LR: 250.0000, Train Loss: 2.3105, Train Accuracy: 9.60%\n",
            "Epoch 65, LR: 250.0000, Train Loss: 2.3093, Train Accuracy: 11.30%\n",
            "Epoch 66, LR: 250.0000, Train Loss: 2.4531, Train Accuracy: 9.80%\n",
            "Epoch 67, LR: 250.0000, Train Loss: 2.3190, Train Accuracy: 10.70%\n",
            "Epoch 68, LR: 250.0000, Train Loss: 2.3141, Train Accuracy: 10.50%\n",
            "Epoch 69, LR: 250.0000, Train Loss: 2.3635, Train Accuracy: 10.10%\n",
            "Epoch 70, LR: 250.0000, Train Loss: 2.3216, Train Accuracy: 10.50%\n",
            "Epoch 71, LR: 250.0000, Train Loss: 2.3227, Train Accuracy: 9.80%\n",
            "Epoch 72, LR: 250.0000, Train Loss: 2.4297, Train Accuracy: 10.00%\n",
            "Epoch 73, LR: 250.0000, Train Loss: 2.2942, Train Accuracy: 15.30%\n",
            "Epoch 74, LR: 250.0000, Train Loss: 2.2462, Train Accuracy: 18.30%\n",
            "Epoch 75, LR: 250.0000, Train Loss: 2.2978, Train Accuracy: 15.40%\n",
            "Epoch 76, LR: 250.0000, Train Loss: 2.4147, Train Accuracy: 8.80%\n",
            "Epoch 77, LR: 250.0000, Train Loss: 2.3041, Train Accuracy: 13.20%\n",
            "Epoch 78, LR: 250.0000, Train Loss: 2.2559, Train Accuracy: 11.20%\n",
            "Epoch 79, LR: 250.0000, Train Loss: 2.2306, Train Accuracy: 16.80%\n",
            "Epoch 80, LR: 250.0000, Train Loss: 2.3110, Train Accuracy: 10.70%\n",
            "Epoch 81, LR: 250.0000, Train Loss: 2.3016, Train Accuracy: 10.20%\n",
            "Epoch 82, LR: 250.0000, Train Loss: 2.2725, Train Accuracy: 13.50%\n",
            "Epoch 83, LR: 250.0000, Train Loss: 2.3037, Train Accuracy: 11.90%\n",
            "Epoch 84, LR: 250.0000, Train Loss: 2.4561, Train Accuracy: 9.00%\n",
            "Epoch 85, LR: 250.0000, Train Loss: 2.2118, Train Accuracy: 22.00%\n",
            "Epoch 86, LR: 250.0000, Train Loss: 2.2662, Train Accuracy: 16.90%\n",
            "Epoch 87, LR: 250.0000, Train Loss: 2.1452, Train Accuracy: 24.40%\n",
            "Epoch 88, LR: 250.0000, Train Loss: 2.1264, Train Accuracy: 25.90%\n",
            "Epoch 89, LR: 250.0000, Train Loss: 2.2831, Train Accuracy: 11.20%\n",
            "Epoch 90, LR: 250.0000, Train Loss: 2.4626, Train Accuracy: 11.00%\n",
            "Epoch 91, LR: 250.0000, Train Loss: 2.3114, Train Accuracy: 9.30%\n",
            "Epoch 92, LR: 250.0000, Train Loss: 2.3208, Train Accuracy: 7.90%\n",
            "Epoch 93, LR: 250.0000, Train Loss: 2.2889, Train Accuracy: 15.80%\n",
            "Epoch 94, LR: 250.0000, Train Loss: 2.2999, Train Accuracy: 12.90%\n",
            "Epoch 95, LR: 250.0000, Train Loss: 2.3070, Train Accuracy: 11.00%\n",
            "Epoch 96, LR: 250.0000, Train Loss: 2.4312, Train Accuracy: 10.80%\n",
            "Epoch 97, LR: 250.0000, Train Loss: 2.3133, Train Accuracy: 10.00%\n",
            "Epoch 98, LR: 250.0000, Train Loss: 2.3067, Train Accuracy: 10.50%\n",
            "Epoch 99, LR: 250.0000, Train Loss: 2.4001, Train Accuracy: 12.40%\n",
            "Epoch 100, LR: 250.0000, Train Loss: 2.4029, Train Accuracy: 10.00%\n",
            "Epoch 101, LR: 250.0000, Train Loss: 2.3180, Train Accuracy: 10.70%\n",
            "Epoch 102, LR: 125.0000, Train Loss: 2.3441, Train Accuracy: 13.30%\n",
            "Epoch 103, LR: 125.0000, Train Loss: 2.3076, Train Accuracy: 9.50%\n",
            "Epoch 104, LR: 125.0000, Train Loss: 2.3107, Train Accuracy: 11.80%\n",
            "Epoch 105, LR: 125.0000, Train Loss: 2.2726, Train Accuracy: 11.30%\n",
            "Epoch 106, LR: 125.0000, Train Loss: 2.3014, Train Accuracy: 10.30%\n",
            "Epoch 107, LR: 125.0000, Train Loss: 2.4241, Train Accuracy: 9.30%\n",
            "Epoch 108, LR: 125.0000, Train Loss: 2.3009, Train Accuracy: 13.70%\n",
            "Epoch 109, LR: 125.0000, Train Loss: 2.3317, Train Accuracy: 14.70%\n",
            "Epoch 110, LR: 125.0000, Train Loss: 2.3048, Train Accuracy: 10.10%\n",
            "Epoch 111, LR: 125.0000, Train Loss: 2.4187, Train Accuracy: 11.90%\n",
            "Epoch 112, LR: 125.0000, Train Loss: 2.3038, Train Accuracy: 9.30%\n",
            "Epoch 113, LR: 125.0000, Train Loss: 2.2801, Train Accuracy: 17.10%\n",
            "Epoch 114, LR: 125.0000, Train Loss: 2.3179, Train Accuracy: 11.60%\n",
            "Epoch 115, LR: 125.0000, Train Loss: 2.3692, Train Accuracy: 10.20%\n",
            "Epoch 116, LR: 125.0000, Train Loss: 2.3034, Train Accuracy: 9.60%\n",
            "Epoch 117, LR: 125.0000, Train Loss: 2.3694, Train Accuracy: 11.40%\n",
            "Epoch 118, LR: 125.0000, Train Loss: 2.3054, Train Accuracy: 8.60%\n",
            "Epoch 119, LR: 125.0000, Train Loss: 2.2932, Train Accuracy: 13.40%\n",
            "Epoch 120, LR: 125.0000, Train Loss: 2.2873, Train Accuracy: 10.90%\n",
            "Epoch 121, LR: 125.0000, Train Loss: 2.3014, Train Accuracy: 9.50%\n",
            "Epoch 122, LR: 125.0000, Train Loss: 2.2906, Train Accuracy: 12.10%\n",
            "Epoch 123, LR: 125.0000, Train Loss: 2.3113, Train Accuracy: 10.60%\n",
            "Epoch 124, LR: 125.0000, Train Loss: 2.2987, Train Accuracy: 13.20%\n",
            "Epoch 125, LR: 125.0000, Train Loss: 2.3345, Train Accuracy: 9.10%\n",
            "Epoch 126, LR: 125.0000, Train Loss: 2.4086, Train Accuracy: 10.70%\n",
            "Epoch 127, LR: 125.0000, Train Loss: 2.2886, Train Accuracy: 13.10%\n",
            "Epoch 128, LR: 125.0000, Train Loss: 2.2970, Train Accuracy: 9.70%\n",
            "Epoch 129, LR: 125.0000, Train Loss: 2.3231, Train Accuracy: 10.20%\n",
            "Epoch 130, LR: 125.0000, Train Loss: 2.3017, Train Accuracy: 15.40%\n",
            "Epoch 131, LR: 125.0000, Train Loss: 2.2991, Train Accuracy: 10.90%\n",
            "Epoch 132, LR: 125.0000, Train Loss: 2.3331, Train Accuracy: 13.00%\n",
            "Epoch 133, LR: 125.0000, Train Loss: 2.3238, Train Accuracy: 11.80%\n",
            "Epoch 134, LR: 125.0000, Train Loss: 2.3061, Train Accuracy: 10.30%\n",
            "Epoch 135, LR: 125.0000, Train Loss: 2.2949, Train Accuracy: 12.40%\n",
            "Epoch 136, LR: 125.0000, Train Loss: 2.3759, Train Accuracy: 13.60%\n",
            "Epoch 137, LR: 125.0000, Train Loss: 2.2528, Train Accuracy: 19.00%\n",
            "Epoch 138, LR: 125.0000, Train Loss: 2.2970, Train Accuracy: 14.80%\n",
            "Epoch 139, LR: 125.0000, Train Loss: 2.3678, Train Accuracy: 9.40%\n",
            "Epoch 140, LR: 125.0000, Train Loss: 2.3325, Train Accuracy: 21.70%\n",
            "Epoch 141, LR: 125.0000, Train Loss: 2.2974, Train Accuracy: 12.30%\n",
            "Epoch 142, LR: 125.0000, Train Loss: 2.4216, Train Accuracy: 11.70%\n",
            "Epoch 143, LR: 125.0000, Train Loss: 2.3023, Train Accuracy: 14.20%\n",
            "Epoch 144, LR: 125.0000, Train Loss: 2.2944, Train Accuracy: 11.90%\n",
            "Epoch 145, LR: 125.0000, Train Loss: 2.2842, Train Accuracy: 15.60%\n",
            "Epoch 146, LR: 125.0000, Train Loss: 2.3543, Train Accuracy: 11.20%\n",
            "Epoch 147, LR: 125.0000, Train Loss: 2.2866, Train Accuracy: 10.80%\n",
            "Epoch 148, LR: 125.0000, Train Loss: 2.2140, Train Accuracy: 18.20%\n",
            "Epoch 149, LR: 125.0000, Train Loss: 2.2202, Train Accuracy: 20.30%\n",
            "Epoch 150, LR: 125.0000, Train Loss: 2.3116, Train Accuracy: 9.60%\n",
            "Epoch 151, LR: 125.0000, Train Loss: 2.3443, Train Accuracy: 14.70%\n",
            "Epoch 152, LR: 62.5000, Train Loss: 2.3122, Train Accuracy: 11.60%\n",
            "Epoch 153, LR: 62.5000, Train Loss: 2.2081, Train Accuracy: 16.80%\n",
            "Epoch 154, LR: 62.5000, Train Loss: 2.1877, Train Accuracy: 18.90%\n",
            "Epoch 155, LR: 62.5000, Train Loss: 2.1461, Train Accuracy: 22.30%\n",
            "Epoch 156, LR: 62.5000, Train Loss: 2.3216, Train Accuracy: 10.10%\n",
            "Epoch 157, LR: 62.5000, Train Loss: 2.2666, Train Accuracy: 19.70%\n",
            "Epoch 158, LR: 62.5000, Train Loss: 2.3188, Train Accuracy: 11.60%\n",
            "Epoch 159, LR: 62.5000, Train Loss: 2.1979, Train Accuracy: 22.40%\n",
            "Epoch 160, LR: 62.5000, Train Loss: 2.3056, Train Accuracy: 10.80%\n",
            "Epoch 161, LR: 62.5000, Train Loss: 2.3000, Train Accuracy: 10.90%\n",
            "Epoch 162, LR: 62.5000, Train Loss: 2.3016, Train Accuracy: 11.40%\n",
            "Epoch 163, LR: 62.5000, Train Loss: 2.2783, Train Accuracy: 16.60%\n",
            "Epoch 164, LR: 62.5000, Train Loss: 2.3045, Train Accuracy: 10.40%\n",
            "Epoch 165, LR: 62.5000, Train Loss: 2.2400, Train Accuracy: 20.20%\n",
            "Epoch 166, LR: 62.5000, Train Loss: 2.1455, Train Accuracy: 26.00%\n",
            "Epoch 167, LR: 62.5000, Train Loss: 2.0924, Train Accuracy: 29.60%\n",
            "Epoch 168, LR: 62.5000, Train Loss: 2.0940, Train Accuracy: 30.10%\n",
            "Epoch 169, LR: 62.5000, Train Loss: 2.2963, Train Accuracy: 9.20%\n",
            "Epoch 170, LR: 62.5000, Train Loss: 2.3403, Train Accuracy: 13.20%\n",
            "Epoch 171, LR: 62.5000, Train Loss: 2.3056, Train Accuracy: 8.20%\n",
            "Epoch 172, LR: 62.5000, Train Loss: 2.3051, Train Accuracy: 12.20%\n",
            "Epoch 173, LR: 62.5000, Train Loss: 2.2920, Train Accuracy: 10.00%\n",
            "Epoch 174, LR: 62.5000, Train Loss: 2.2989, Train Accuracy: 9.20%\n",
            "Epoch 175, LR: 62.5000, Train Loss: 2.4222, Train Accuracy: 8.50%\n",
            "Epoch 176, LR: 62.5000, Train Loss: 2.3028, Train Accuracy: 11.10%\n",
            "Epoch 177, LR: 62.5000, Train Loss: 2.2470, Train Accuracy: 10.30%\n",
            "Epoch 178, LR: 62.5000, Train Loss: 2.2699, Train Accuracy: 16.20%\n",
            "Epoch 179, LR: 62.5000, Train Loss: 2.1401, Train Accuracy: 20.10%\n",
            "Epoch 180, LR: 62.5000, Train Loss: 2.1821, Train Accuracy: 21.10%\n",
            "Epoch 181, LR: 62.5000, Train Loss: 2.2425, Train Accuracy: 14.80%\n",
            "Epoch 182, LR: 62.5000, Train Loss: 2.2941, Train Accuracy: 10.70%\n",
            "Epoch 183, LR: 62.5000, Train Loss: 2.3075, Train Accuracy: 12.30%\n",
            "Epoch 184, LR: 62.5000, Train Loss: 2.3041, Train Accuracy: 15.00%\n",
            "Epoch 185, LR: 62.5000, Train Loss: 2.2750, Train Accuracy: 18.00%\n",
            "Epoch 186, LR: 62.5000, Train Loss: 2.3175, Train Accuracy: 14.50%\n",
            "Epoch 187, LR: 62.5000, Train Loss: 2.1982, Train Accuracy: 29.40%\n",
            "Epoch 188, LR: 62.5000, Train Loss: 2.1514, Train Accuracy: 26.80%\n",
            "Epoch 189, LR: 62.5000, Train Loss: 2.1106, Train Accuracy: 28.20%\n",
            "Epoch 190, LR: 62.5000, Train Loss: 2.0504, Train Accuracy: 35.60%\n",
            "Epoch 191, LR: 62.5000, Train Loss: 2.1517, Train Accuracy: 22.80%\n",
            "Epoch 192, LR: 62.5000, Train Loss: 2.3179, Train Accuracy: 10.40%\n",
            "Epoch 193, LR: 62.5000, Train Loss: 2.2980, Train Accuracy: 14.30%\n",
            "Epoch 194, LR: 62.5000, Train Loss: 2.2739, Train Accuracy: 17.90%\n",
            "Epoch 195, LR: 62.5000, Train Loss: 2.2940, Train Accuracy: 12.90%\n",
            "Epoch 196, LR: 62.5000, Train Loss: 2.2009, Train Accuracy: 20.10%\n",
            "Epoch 197, LR: 62.5000, Train Loss: 2.4446, Train Accuracy: 10.10%\n",
            "Epoch 198, LR: 62.5000, Train Loss: 2.1998, Train Accuracy: 17.50%\n",
            "Epoch 199, LR: 62.5000, Train Loss: 2.2100, Train Accuracy: 21.80%\n",
            "Epoch 200, LR: 62.5000, Train Loss: 2.1442, Train Accuracy: 28.60%\n"
          ]
        }
      ],
      "source": [
        "# Training parameters\n",
        "lr = params_RRAM[\"ext_lr\"] / 25  # Initial learning rate\n",
        "num_epochs = params_RRAM[\"epochs\"]\n",
        "\n",
        "criterion = nn.CrossEntropyLoss().to(device)\n",
        "\n",
        "for epoch in range(num_epochs):\n",
        "    if epoch == 1:\n",
        "        lr *= 5\n",
        "    elif epoch == 2:\n",
        "        lr *= 5\n",
        "\n",
        "    model_RRAM.train()\n",
        "    outputs = model_RRAM(train_in)\n",
        "    loss = criterion(outputs, train_lab)\n",
        "    loss.backward()\n",
        "    model_RRAM.backprop(lr)\n",
        "    model_RRAM.anneal(train_in, train_lab, loss.item(),0.999, 0.99)\n",
        "\n",
        "    _, train_preds = torch.max(outputs, dim=1)\n",
        "    train_accuracy = (train_preds == train_lab).float().mean().item() * 100\n",
        "\n",
        "    print(f\"Epoch {epoch + 1}, LR: {lr:.4f}, Train Loss: {loss.item():.4f}, \"\n",
        "          f\"Train Accuracy: {train_accuracy:.2f}%\")\n",
        "\n",
        "    if epoch % 50 == 0 and epoch != 0:\n",
        "        lr /= 2\n",
        "\n",
        "model_RRAM = SoftBinaryRecurrentForwardNetwork(**model_params).to(device)"
      ]
    },
    {
      "cell_type": "markdown",
      "id": "282eeb54-9acf-4ce6-b5f0-13e5c60f8614",
      "metadata": {
        "id": "282eeb54-9acf-4ce6-b5f0-13e5c60f8614"
      },
      "source": [
        "### Loading Past Best Model"
      ]
    },
    {
      "cell_type": "code",
      "execution_count": 146,
      "id": "e0de620a-e0e4-49cf-863d-721e2680dd58",
      "metadata": {
        "colab": {
          "base_uri": "https://localhost:8080/"
        },
        "id": "e0de620a-e0e4-49cf-863d-721e2680dd58",
        "outputId": "5f51b17c-13f4-48e6-bedc-b8b1aabccaca"
      },
      "outputs": [
        {
          "output_type": "stream",
          "name": "stdout",
          "text": [
            "Best Validation Loss: 1.821556\n",
            "Parameters for Best Loss Model: {'scaling': 5, 'G_ON': 6e-05, 'G_OFF': 2.88e-06, 'V_INV': 0.6, 'R_INV': 1000.0, 'V_1': 0.1, 'V_0': -0.1, 'zeta': 10.0, 'initial_factor': 0.01, 'crossbar': (64, 64), 'input_size': 676, 'encoding_size': 4, 'output_size': 10, 'data_in': 52, 'bin_active': True, 'monitor_volts': False, 'monitor_grads': False, 'monitor_latents': False, 'dropout': 0.1, 'int_lr': 0.01, 'int_norm': True, 'ext_lr': 500, 'epochs': 40, 'temperature': 1, 'decayrate': 0.9}\n",
            "Best Validation Accuracy: 61.51\n",
            "Parameters for Best Accuracy Model: {'scaling': 5, 'G_ON': 6e-05, 'G_OFF': 2.88e-06, 'V_INV': 0.6, 'R_INV': 1000.0, 'V_1': 0.1, 'V_0': -0.1, 'zeta': 10.0, 'initial_factor': 0.01, 'crossbar': (64, 64), 'input_size': 676, 'encoding_size': 4, 'output_size': 10, 'data_in': 52, 'bin_active': True, 'monitor_volts': False, 'monitor_grads': False, 'monitor_latents': False, 'dropout': 0.1, 'int_lr': 0.01, 'int_norm': True, 'ext_lr': 500, 'epochs': 40, 'temperature': 1, 'decayrate': 0.9}\n"
          ]
        },
        {
          "output_type": "stream",
          "name": "stderr",
          "text": [
            "<ipython-input-146-9a709494f6b6>:13: FutureWarning: You are using `torch.load` with `weights_only=False` (the current default value), which uses the default pickle module implicitly. It is possible to construct malicious pickle data which will execute arbitrary code during unpickling (See https://github.com/pytorch/pytorch/blob/main/SECURITY.md#untrusted-models for more details). In a future release, the default value for `weights_only` will be flipped to `True`. This limits the functions that could be executed during unpickling. Arbitrary objects will no longer be allowed to be loaded via this mode unless they are explicitly allowlisted by the user via `torch.serialization.add_safe_globals`. We recommend you start setting `weights_only=True` for any use case where you don't have full control of the loaded file. Please open an issue on GitHub for any issues related to this experimental feature.\n",
            "  checkpoint_loss = torch.load(\"Best_model_loss.pth\")\n",
            "<ipython-input-146-9a709494f6b6>:33: FutureWarning: You are using `torch.load` with `weights_only=False` (the current default value), which uses the default pickle module implicitly. It is possible to construct malicious pickle data which will execute arbitrary code during unpickling (See https://github.com/pytorch/pytorch/blob/main/SECURITY.md#untrusted-models for more details). In a future release, the default value for `weights_only` will be flipped to `True`. This limits the functions that could be executed during unpickling. Arbitrary objects will no longer be allowed to be loaded via this mode unless they are explicitly allowlisted by the user via `torch.serialization.add_safe_globals`. We recommend you start setting `weights_only=True` for any use case where you don't have full control of the loaded file. Please open an issue on GitHub for any issues related to this experimental feature.\n",
            "  checkpoint_acc = torch.load(\"Best_model_acc.pth\")\n"
          ]
        }
      ],
      "source": [
        "try:\n",
        "    # Load best validation loss model\n",
        "    with open(\"Best_Val_Loss.txt\", 'r') as f:\n",
        "        global_best_val_loss = float(f.read())\n",
        "    with open(\"Best_Params_Loss.txt\", 'r') as f:\n",
        "        params_best_loss = ast.literal_eval(f.read())\n",
        "\n",
        "    model_best_loss = SoftBinaryRecurrentForwardNetwork(**model_params).to(device)\n",
        "\n",
        "    print(\"Best Validation Loss:\", global_best_val_loss)\n",
        "    print(\"Parameters for Best Loss Model:\", params_best_loss)\n",
        "\n",
        "    checkpoint_loss = torch.load(\"Best_model_loss.pth\")\n",
        "    model_best_loss.load_state_dict(checkpoint_loss)\n",
        "\n",
        "except Exception as e:\n",
        "    print(\"Error loading best loss model:\", e)\n",
        "    global_best_val_loss = float('inf')\n",
        "    print(\"No Saved Model for Best Loss\")\n",
        "\n",
        "try:\n",
        "    # Load best validation accuracy model\n",
        "    with open(\"Best_Val_Acc.txt\", 'r') as f:\n",
        "        global_best_val_acc = float(f.read())\n",
        "    with open(\"Best_Params_Acc.txt\", 'r') as f:\n",
        "        params_best_acc = ast.literal_eval(f.read())\n",
        "\n",
        "    model_best_acc = SoftBinaryRecurrentForwardNetwork(**model_params).to(device)\n",
        "\n",
        "    print(\"Best Validation Accuracy:\", global_best_val_acc)\n",
        "    print(\"Parameters for Best Accuracy Model:\", params_best_acc)\n",
        "\n",
        "    checkpoint_acc = torch.load(\"Best_model_acc.pth\")\n",
        "    model_best_acc.load_state_dict(checkpoint_acc)\n",
        "\n",
        "except Exception as e:\n",
        "    print(\"Error loading best accuracy model:\", e)\n",
        "    global_best_val_acc = 0.0\n",
        "    print(\"No Saved Model for Best Accuracy\")\n"
      ]
    },
    {
      "cell_type": "code",
      "execution_count": 147,
      "id": "786757d6-3ef8-4327-900a-94924d5a1b57",
      "metadata": {
        "id": "786757d6-3ef8-4327-900a-94924d5a1b57"
      },
      "outputs": [],
      "source": [
        "history_RRAM = {\n",
        "    \"train_loss\": [],\n",
        "    \"train_accuracy\": [],\n",
        "    \"val_loss\": [],\n",
        "    \"val_accuracy\": []\n",
        "}"
      ]
    },
    {
      "cell_type": "markdown",
      "id": "8dc53685-ceb0-4b1c-a03f-04ca24416013",
      "metadata": {
        "id": "8dc53685-ceb0-4b1c-a03f-04ca24416013"
      },
      "source": [
        "### Complete Training"
      ]
    },
    {
      "cell_type": "code",
      "execution_count": null,
      "id": "a9ed1842-f618-4562-8e82-c5355ca39f90",
      "metadata": {
        "colab": {
          "base_uri": "https://localhost:8080/"
        },
        "id": "a9ed1842-f618-4562-8e82-c5355ca39f90",
        "outputId": "3603a0bd-d41d-44f3-8499-8e8afe96c8e4"
      },
      "outputs": [
        {
          "output_type": "stream",
          "name": "stdout",
          "text": [
            "Epoch 1, LR: 20.0000, Train Loss: 2.3010, Train Acc: 10.39%, Val Loss: 2.3979, Val Acc: 10.87%\n",
            "Epoch 2, LR: 100.0000, Train Loss: 2.3204, Train Acc: 10.96%, Val Loss: 2.3078, Val Acc: 10.09%\n",
            "Epoch 3, LR: 500.0000, Train Loss: 2.2914, Train Acc: 14.09%, Val Loss: 2.0874, Val Acc: 31.41%\n",
            "Epoch 4, LR: 500.0000, Train Loss: 2.2202, Train Acc: 18.01%, Val Loss: 2.1309, Val Acc: 19.39%\n",
            "Epoch 5, LR: 500.0000, Train Loss: 2.0796, Train Acc: 28.47%, Val Loss: 2.1258, Val Acc: 29.68%\n",
            "Epoch 6, LR: 500.0000, Train Loss: 2.0550, Train Acc: 32.85%, Val Loss: 2.0182, Val Acc: 34.35%\n"
          ]
        }
      ],
      "source": [
        "lr = params_RRAM[\"ext_lr\"] / 25\n",
        "num_epochs = params_RRAM[\"epochs\"]\n",
        "patience, wait, wait_2 = 25, 0, 10  # Early stopping patience and LR reduction patience\n",
        "wait_lr = 0  # Counter for LR reduction\n",
        "cur_best_val_loss, cur_best_val_acc = float('inf'), 0\n",
        "\n",
        "for epoch in range(num_epochs):\n",
        "    if epoch == 0:\n",
        "        lr = lr\n",
        "    elif epoch <= 2:\n",
        "        lr *= 5\n",
        "    elif epoch % 10 == 0:\n",
        "        lr /= 2\n",
        "\n",
        "    model_RRAM.train().to(device)\n",
        "    train_loss, train_correct, total_samples = 0, 0, 0\n",
        "\n",
        "    for inputs, labels in train_loader:\n",
        "        inputs, labels = inputs.to(device), labels.to(device)\n",
        "        outputs = model_RRAM(inputs)\n",
        "        loss = criterion(outputs, labels)\n",
        "\n",
        "        loss.backward()\n",
        "        model_RRAM.backprop(lr)\n",
        "\n",
        "        cur_loss = loss.item()\n",
        "        model_RRAM.anneal(inputs, labels, cur_loss, 0.999, 0.99)\n",
        "\n",
        "        train_loss += cur_loss * inputs.size(0)\n",
        "        train_correct += (outputs.argmax(1) == labels).sum().item()\n",
        "        total_samples += inputs.size(0)\n",
        "\n",
        "    train_loss /= total_samples\n",
        "    train_accuracy = 100 * train_correct / total_samples\n",
        "\n",
        "    model_RRAM.eval()\n",
        "    val_loss, val_correct, total_test_samples = 0, 0, 0\n",
        "\n",
        "    with torch.no_grad():\n",
        "        for inputs, labels in test_loader:\n",
        "            inputs, labels = inputs.to(device), labels.to(device)\n",
        "            outputs = model_RRAM(inputs)\n",
        "            loss = criterion(outputs, labels)\n",
        "\n",
        "            val_loss += loss.item() * inputs.size(0)\n",
        "            val_correct += (outputs.argmax(1) == labels).sum().item()\n",
        "            total_test_samples += inputs.size(0)\n",
        "\n",
        "    val_loss /= total_test_samples\n",
        "    val_accuracy = 100 * val_correct / total_test_samples\n",
        "\n",
        "    history_RRAM[\"train_loss\"].append(train_loss)\n",
        "    history_RRAM[\"train_accuracy\"].append(train_accuracy)\n",
        "    history_RRAM[\"val_loss\"].append(val_loss)\n",
        "    history_RRAM[\"val_accuracy\"].append(val_accuracy)\n",
        "\n",
        "    print(f\"Epoch {epoch + 1}, LR: {lr:.4f}, Train Loss: {train_loss:.4f}, Train Acc: {train_accuracy:.2f}%, \"\n",
        "          f\"Val Loss: {val_loss:.4f}, Val Acc: {val_accuracy:.2f}%\")\n",
        "\n",
        "    if val_loss < global_best_val_loss:\n",
        "        global_best_val_loss = val_loss\n",
        "        torch.save(model_RRAM.state_dict(), \"Best_model_loss.pth\")\n",
        "        with open(\"Best_Val_Loss.txt\", \"w\") as f:\n",
        "            f.write(f\"{val_loss:.6f}\")\n",
        "        with open(\"Best_Params_Loss.txt\", \"w\") as f:\n",
        "            f.write(f\"{params_RRAM}\")\n",
        "        print(f\"Model saved with best validation loss: {val_loss:.6f}\")\n",
        "\n",
        "    if val_accuracy > global_best_val_acc:\n",
        "        global_best_val_acc = val_accuracy\n",
        "        torch.save(model_RRAM.state_dict(), \"Best_model_acc.pth\")\n",
        "        with open(\"Best_Val_Acc.txt\", \"w\") as f:\n",
        "            f.write(f\"{val_accuracy:.6f}\")\n",
        "        with open(\"Best_Params_Acc.txt\", \"w\") as f:\n",
        "            f.write(f\"{params_RRAM}\")\n",
        "        print(f\"Model saved with best validation accuracy: {val_accuracy:.6f}\")\n",
        "\n",
        "    if wait_lr >= wait_2 and epoch > 3:\n",
        "        lr /= 10\n",
        "        wait_lr = 0\n",
        "        print(f\"No improvement for {wait_2} epochs. Reducing LR to {lr:.4f}\")\n",
        "\n",
        "    if wait >= patience and epoch > 6:\n",
        "        print(\"Early stopping triggered.\")\n",
        "        break\n",
        "\n",
        "    if val_loss < cur_best_val_loss - 0.001 or val_accuracy > cur_best_val_acc + 0.1:\n",
        "        cur_best_val_loss = min(cur_best_val_loss, val_loss)\n",
        "        cur_best_val_acc = max(cur_best_val_acc, val_accuracy)\n",
        "        wait = 0\n",
        "        wait_lr = 0\n",
        "    else:\n",
        "        wait += 1\n",
        "        wait_lr += 1"
      ]
    },
    {
      "cell_type": "code",
      "execution_count": null,
      "id": "070a2ef8-94c5-49ca-bd35-3ed75ae2327b",
      "metadata": {
        "id": "070a2ef8-94c5-49ca-bd35-3ed75ae2327b"
      },
      "outputs": [],
      "source": [
        "plot_history(history_RRAM, num_epochs, \"RRAM\")"
      ]
    },
    {
      "cell_type": "markdown",
      "id": "c93e55bc-1bae-4483-a3cf-01cde188dc69",
      "metadata": {
        "id": "c93e55bc-1bae-4483-a3cf-01cde188dc69"
      },
      "source": [
        "## Testing"
      ]
    },
    {
      "cell_type": "markdown",
      "id": "af52e53e-15ed-441f-8412-d94c5d6a0bdb",
      "metadata": {
        "id": "af52e53e-15ed-441f-8412-d94c5d6a0bdb"
      },
      "source": [
        "### Current Model"
      ]
    },
    {
      "cell_type": "code",
      "execution_count": null,
      "id": "51271c7c-25b1-4702-9db1-9ae4b805843c",
      "metadata": {
        "id": "51271c7c-25b1-4702-9db1-9ae4b805843c"
      },
      "outputs": [],
      "source": [
        "print(0 + (model_RRAM.w > 0))"
      ]
    },
    {
      "cell_type": "code",
      "execution_count": null,
      "id": "9d477c9e-5678-4d07-a5ac-48f01480c916",
      "metadata": {
        "id": "9d477c9e-5678-4d07-a5ac-48f01480c916"
      },
      "outputs": [],
      "source": [
        "cm = test(model_RRAM, val_inputs, val_labels, class_names = [\"A\", \"T\", \"V\", \"X\"])"
      ]
    },
    {
      "cell_type": "markdown",
      "id": "ed7941df-4678-4955-8a0f-f38b43f6b197",
      "metadata": {
        "id": "ed7941df-4678-4955-8a0f-f38b43f6b197"
      },
      "source": [
        "## Best Model:"
      ]
    },
    {
      "cell_type": "code",
      "execution_count": null,
      "id": "867574d7-3627-49ff-a430-1d658fa4d655",
      "metadata": {
        "id": "867574d7-3627-49ff-a430-1d658fa4d655"
      },
      "outputs": [],
      "source": [
        "0+1*(model_best.w>0)"
      ]
    },
    {
      "cell_type": "code",
      "execution_count": null,
      "id": "32ca56c6-7023-416e-9675-93f1a3c8cc78",
      "metadata": {
        "id": "32ca56c6-7023-416e-9675-93f1a3c8cc78"
      },
      "outputs": [],
      "source": [
        "cm = test(model_best, val_inputs, val_labels, class_names = [\"A\", \"T\", \"V\", \"X\"])"
      ]
    },
    {
      "cell_type": "markdown",
      "id": "ad288f0b-0ec9-415d-96cc-a4ecec7aa5ce",
      "metadata": {
        "id": "ad288f0b-0ec9-415d-96cc-a4ecec7aa5ce"
      },
      "source": [
        "## PWL Generation\n",
        "\n",
        "Let's assume that we will program the two crossbars with seperate PWLs. That is, during programming, we will cut the Inverting Amplifier stages with a pass transistor and connect the programming lines with a pass transistor. First array has 16 Top PWLs and 8 Bottom PWLs. Second array has 8 Top PWLs and 4 Bottom PWLs. And then once the programming switch is toggled to inference mode, only the 16 Top PWLs are to be changed. Let's also generate a PWL for that too.\n",
        "\n",
        "In the code below, we will first maintain tuples for each PWL that holds what the voltage should be. And then we will write a function that will take there and space pulses of the given voltage that are 100us apart from other and have an ON duration of 100us"
      ]
    },
    {
      "cell_type": "code",
      "execution_count": null,
      "id": "58d5cebb-fc99-4a00-87a1-e183838c9a64",
      "metadata": {
        "id": "58d5cebb-fc99-4a00-87a1-e183838c9a64"
      },
      "outputs": [],
      "source": [
        "WL_FC1 = [list() for i in range(16)]\n",
        "BL_FC1 = [list() for i in range(8)]\n",
        "WL_FC2 = [list() for i in range(8)]\n",
        "BL_FC2 = [list() for i in range(4)]\n",
        "Mode = []\n",
        "Mode_B = []\n",
        "\n",
        "V_WRITE = 1.5\n",
        "V_READ = 0.1\n",
        "V_mode = 1.2"
      ]
    },
    {
      "cell_type": "markdown",
      "id": "c647afda-e1a7-47a7-b634-212ec5527be2",
      "metadata": {
        "id": "c647afda-e1a7-47a7-b634-212ec5527be2"
      },
      "source": [
        "#### Fully Connected Weights 1"
      ]
    },
    {
      "cell_type": "code",
      "execution_count": null,
      "id": "03334172-89f6-4d73-9461-6ac922bdb6ea",
      "metadata": {
        "id": "03334172-89f6-4d73-9461-6ac922bdb6ea"
      },
      "outputs": [],
      "source": [
        "target = (model_RRAM_best.w1>0).int()\n",
        "target"
      ]
    },
    {
      "cell_type": "code",
      "execution_count": null,
      "id": "49287afe-8437-40aa-8825-93f2cffe3a66",
      "metadata": {
        "id": "49287afe-8437-40aa-8825-93f2cffe3a66"
      },
      "outputs": [],
      "source": [
        "for ind_i, i in enumerate(target):\n",
        "    for ind_j, j in enumerate(i):\n",
        "        if j==1: WL_FC1[ind_j].append(V_WRITE)\n",
        "        else: WL_FC1[ind_j].append(V_WRITE/3)\n",
        "    for ind_k in range(len(target)):\n",
        "        if ind_k==ind_i: BL_FC1[ind_i].append(0)\n",
        "        else: BL_FC1[ind_k].append(2*V_WRITE/3)"
      ]
    },
    {
      "cell_type": "markdown",
      "id": "be77131c-005d-4f06-8a70-f40d267eb67e",
      "metadata": {
        "id": "be77131c-005d-4f06-8a70-f40d267eb67e"
      },
      "source": [
        "#### Fully Connected Weights 2"
      ]
    },
    {
      "cell_type": "code",
      "execution_count": null,
      "id": "9adc2b24-ffb0-4470-8eae-3830221cb33d",
      "metadata": {
        "id": "9adc2b24-ffb0-4470-8eae-3830221cb33d"
      },
      "outputs": [],
      "source": [
        "target = (model_RRAM_best.w2>0).int()\n",
        "target"
      ]
    },
    {
      "cell_type": "code",
      "execution_count": null,
      "id": "3f7ca037-0e2f-49a3-98b3-b2e0b93f8b79",
      "metadata": {
        "id": "3f7ca037-0e2f-49a3-98b3-b2e0b93f8b79"
      },
      "outputs": [],
      "source": [
        "for ind_i, i in enumerate(target):\n",
        "    for ind_j, j in enumerate(i):\n",
        "        if j==1: WL_FC2[ind_j].append(V_WRITE)\n",
        "        else: WL_FC2[ind_j].append(V_WRITE/3)\n",
        "    for ind_k in range(len(target)):\n",
        "        if ind_k==ind_i: BL_FC2[ind_i].append(0)\n",
        "        else: BL_FC2[ind_k].append(2*V_WRITE/3)"
      ]
    },
    {
      "cell_type": "markdown",
      "id": "a602368f-07a2-4beb-90e3-d782ca717fea",
      "metadata": {
        "id": "a602368f-07a2-4beb-90e3-d782ca717fea"
      },
      "source": [
        "#### Filling Out Programming Mode"
      ]
    },
    {
      "cell_type": "code",
      "execution_count": null,
      "id": "c4aa24d2-0d95-4ff4-8dfd-5c0800d9de11",
      "metadata": {
        "id": "c4aa24d2-0d95-4ff4-8dfd-5c0800d9de11"
      },
      "outputs": [],
      "source": [
        "WL_FC1 = [i + [0,0] for i in WL_FC1]\n",
        "BL_FC1 = [i + [0,0] for i in BL_FC1]\n",
        "while(len(WL_FC2[0]) < len(WL_FC1[0])):\n",
        "    WL_FC2 = [i + [0,] for i in WL_FC2]\n",
        "    BL_FC2 = [i + [0,] for i in BL_FC2]\n",
        "Mode.extend([V_mode]*(len(WL_FC1[0])-1) + [-V_mode])\n",
        "Mode_B.extend([-V_mode]*(len(WL_FC1[0])-1) + [V_mode])"
      ]
    },
    {
      "cell_type": "code",
      "execution_count": null,
      "id": "f953198a-a107-428c-9624-3c712086e922",
      "metadata": {
        "id": "f953198a-a107-428c-9624-3c712086e922"
      },
      "outputs": [],
      "source": [
        "print(WL_FC1[0])\n",
        "print(BL_FC1[0])\n",
        "print(WL_FC2[0])\n",
        "print(BL_FC2[0])\n",
        "print(Mode)\n",
        "print(Mode_B)\n",
        "print(len(WL_FC1[0]), len(BL_FC1[0]), len(WL_FC2[0]), len(BL_FC2[0]), len(Mode), len(Mode_B))"
      ]
    },
    {
      "cell_type": "markdown",
      "id": "92339f84-e8d6-4280-92af-e5215aa129a0",
      "metadata": {
        "id": "92339f84-e8d6-4280-92af-e5215aa129a0"
      },
      "source": [
        "### Inference: Loading the Testing Set"
      ]
    },
    {
      "cell_type": "code",
      "execution_count": null,
      "id": "b97dacd2-42bb-49f0-8ca9-e0f02ca4cc58",
      "metadata": {
        "id": "b97dacd2-42bb-49f0-8ca9-e0f02ca4cc58"
      },
      "outputs": [],
      "source": [
        "val_inputs[0]"
      ]
    },
    {
      "cell_type": "code",
      "execution_count": null,
      "id": "2336c3ab-2181-4ee7-b1c9-0a97a3700248",
      "metadata": {
        "id": "2336c3ab-2181-4ee7-b1c9-0a97a3700248"
      },
      "outputs": [],
      "source": [
        "V_1 = 0.1\n",
        "V_0 = -0.1\n",
        "include_testing = True\n",
        "include_every = 4"
      ]
    },
    {
      "cell_type": "code",
      "execution_count": null,
      "id": "6a1cfba2-3243-4062-9ef6-4cd309622c73",
      "metadata": {
        "id": "6a1cfba2-3243-4062-9ef6-4cd309622c73"
      },
      "outputs": [],
      "source": [
        "if include_testing:\n",
        "    for i in val_inputs[::include_every]:\n",
        "        i = i.flatten()\n",
        "        for ind, j in enumerate(i):\n",
        "            WL_FC1[ind].append(V_1 if j==1 else V_0)\n",
        "        BL_FC1 = [i + [0,] for i in BL_FC1]\n",
        "        WL_FC2 = [i + [0,] for i in WL_FC2]\n",
        "        BL_FC2 = [i + [0,] for i in BL_FC2]\n",
        "        Mode = Mode + [-V_mode,]\n",
        "        Mode_B = Mode_B + [V_mode,]"
      ]
    },
    {
      "cell_type": "markdown",
      "id": "b9dd97b8-fb1b-4634-9ae4-3a6fe05d0a2c",
      "metadata": {
        "id": "b9dd97b8-fb1b-4634-9ae4-3a6fe05d0a2c"
      },
      "source": [
        "### PWL Convertion"
      ]
    },
    {
      "cell_type": "code",
      "execution_count": null,
      "id": "c98af5ff-8f34-4472-89fc-e308d98d4072",
      "metadata": {
        "id": "c98af5ff-8f34-4472-89fc-e308d98d4072"
      },
      "outputs": [],
      "source": [
        "def pwl(l):\n",
        "    t = 0\n",
        "    res = \"pwl(time, 0us, 0V\"\n",
        "    for i in l:\n",
        "        res += f\", {t+5}us, {i:.2f}V, {t+100}us, {i:.2f}V, {t+105}us, 0V, {t+200}us, 0V\"\n",
        "        t+=200\n",
        "    res += \")\"\n",
        "    return res"
      ]
    },
    {
      "cell_type": "code",
      "execution_count": null,
      "id": "54850dbc-1317-44a2-9093-c5a4e048094c",
      "metadata": {
        "id": "54850dbc-1317-44a2-9093-c5a4e048094c"
      },
      "outputs": [],
      "source": [
        "pwl_data = []\n",
        "\n",
        "for ind, i in enumerate(WL_FC1):\n",
        "    pwl_data.append({\"Signal\": f\"WL_FC1_{ind}\", \"Index\": ind, \"PWL\": pwl(i)})\n",
        "for ind, i in enumerate(BL_FC1):\n",
        "    pwl_data.append({\"Signal\": f\"BL_FC1_{ind}\", \"Index\": ind, \"PWL\": pwl(i)})\n",
        "for ind, i in enumerate(WL_FC2):\n",
        "    pwl_data.append({\"Signal\": f\"WL_FC2_{ind}\", \"Index\": ind, \"PWL\": pwl(i)})\n",
        "for ind, i in enumerate(BL_FC2):\n",
        "    pwl_data.append({\"Signal\": f\"BL_FC2_{ind}\", \"Index\": ind, \"PWL\": pwl(i)})\n",
        "pwl_data.append({\"Signal\": \"Mode\", \"Index\": \"\", \"PWL\": pwl(Mode)})\n",
        "pwl_data.append({\"Signal\": \"Mode_b\", \"Index\": \"\", \"PWL\": pwl(Mode_B)})\n",
        "\n",
        "pwl_data = pd.DataFrame(pwl_data)\n",
        "pwl_data.to_csv(\"pwl_data.csv\", index=False)\n",
        "pwl_data.head()"
      ]
    },
    {
      "cell_type": "markdown",
      "id": "03e13866-8cd8-4b8e-a8d0-a5c69e951174",
      "metadata": {
        "id": "03e13866-8cd8-4b8e-a8d0-a5c69e951174"
      },
      "source": [
        "#### Testing Accuracy on 160 Images\n",
        "ADS isn't allowing PWLs longer than 160 Images, so let's check software accuracy for the same too"
      ]
    },
    {
      "cell_type": "code",
      "execution_count": null,
      "id": "fd4e4e97-5ecd-4c41-9035-4a51015d684e",
      "metadata": {
        "id": "fd4e4e97-5ecd-4c41-9035-4a51015d684e"
      },
      "outputs": [],
      "source": [
        "test(model_RRAM_best, val_inputs[::4], val_labels[::4])"
      ]
    },
    {
      "cell_type": "code",
      "execution_count": null,
      "id": "7cf44b69-14ac-4fdd-a2b5-b9c2cc361e7f",
      "metadata": {
        "id": "7cf44b69-14ac-4fdd-a2b5-b9c2cc361e7f"
      },
      "outputs": [],
      "source": [
        "test(model_RRAM_best, train_inputs, train_labels)"
      ]
    },
    {
      "cell_type": "markdown",
      "id": "1079074f-8781-43af-b52e-fb3581ef8931",
      "metadata": {
        "id": "1079074f-8781-43af-b52e-fb3581ef8931"
      },
      "source": [
        "## Simulation Data from ADS"
      ]
    },
    {
      "cell_type": "code",
      "execution_count": null,
      "id": "e0d523a2-f99f-46bb-93e0-fead2768da75",
      "metadata": {
        "id": "e0d523a2-f99f-46bb-93e0-fead2768da75"
      },
      "outputs": [],
      "source": [
        "simu = pd.read_csv(\"Testing_160_Images.csv\")\n",
        "simu"
      ]
    },
    {
      "cell_type": "code",
      "execution_count": null,
      "id": "fd96e845-0c19-470b-8910-6b45df78022c",
      "metadata": {
        "id": "fd96e845-0c19-470b-8910-6b45df78022c"
      },
      "outputs": [],
      "source": [
        "def remove_units(value):\n",
        "    return float(value.replace('E', 'e').split('V')[0].replace('sec', ''))\n",
        "\n",
        "simu['time'] = simu['time'].apply(remove_units)\n",
        "for col in ['A', 'X', 'V', 'T']:\n",
        "    simu[col] = simu[col].apply(remove_units)\n",
        "simu"
      ]
    },
    {
      "cell_type": "markdown",
      "id": "223576d6-266c-49bd-aaca-ff3444617f09",
      "metadata": {
        "id": "223576d6-266c-49bd-aaca-ff3444617f09"
      },
      "source": [
        "We just need one sample every 0.1ms samples of these starting from 2.050ms to 33.850ms"
      ]
    },
    {
      "cell_type": "code",
      "execution_count": null,
      "id": "a13d6e19-daa6-481f-8ad2-11a357dc20d3",
      "metadata": {
        "id": "a13d6e19-daa6-481f-8ad2-11a357dc20d3"
      },
      "outputs": [],
      "source": [
        "t_stamps = np.arange(2.05e-3, 33.9e-3, 0.2e-3)\n",
        "t_stamps.shape"
      ]
    },
    {
      "cell_type": "code",
      "execution_count": null,
      "id": "f5548dd9-e376-4bd1-b9d2-484f4358f700",
      "metadata": {
        "id": "f5548dd9-e376-4bd1-b9d2-484f4358f700"
      },
      "outputs": [],
      "source": [
        "sampled = []\n",
        "window = 0.02e-3\n",
        "\n",
        "for t in t_stamps:\n",
        "    filtered = simu[(simu['time'] >= t - window) & (simu['time'] <= t + window)]\n",
        "\n",
        "    avg_A = filtered['A'].mean()\n",
        "    avg_X = filtered['X'].mean()\n",
        "    avg_V = filtered['V'].mean()\n",
        "    avg_T = filtered['T'].mean()\n",
        "\n",
        "    sampled.append({\n",
        "        'Image Index': t,\n",
        "        'A': avg_A,\n",
        "        'X': avg_X,\n",
        "        'V': avg_V,\n",
        "        'T': avg_T\n",
        "    })\n",
        "\n",
        "sampled = pd.DataFrame(sampled)\n",
        "sampled"
      ]
    },
    {
      "cell_type": "code",
      "execution_count": null,
      "id": "096828ea-b6be-4839-8b7d-4e0f5a515a7e",
      "metadata": {
        "id": "096828ea-b6be-4839-8b7d-4e0f5a515a7e"
      },
      "outputs": [],
      "source": [
        "def get_max_column(row):\n",
        "    return row[['A', 'X', 'V', 'T']].idxmax()\n",
        "sampled['Predicted Class'] = sampled.apply(get_max_column, axis=1)\n",
        "sampled.to_csv(\"Sampled_Results.csv\", index=False)\n",
        "sampled"
      ]
    },
    {
      "cell_type": "code",
      "execution_count": null,
      "id": "d1143c06-5631-4c79-9965-0cb937929706",
      "metadata": {
        "id": "d1143c06-5631-4c79-9965-0cb937929706"
      },
      "outputs": [],
      "source": [
        "ground_truth = ['A']*40 + ['X']*40 + ['V']*40 + ['T']*40\n",
        "correct_predictions = sampled['Predicted Class'] == ground_truth\n",
        "accuracy = correct_predictions.sum() / len(ground_truth)\n",
        "print(accuracy*100,end=\"%\")"
      ]
    },
    {
      "cell_type": "code",
      "execution_count": null,
      "id": "918b4552-b0d3-4768-bfe7-9b874959d42c",
      "metadata": {
        "id": "918b4552-b0d3-4768-bfe7-9b874959d42c"
      },
      "outputs": [],
      "source": [
        "plt.figure(figsize=(7, 3.5))\n",
        "\n",
        "plt.scatter(sampled.index, sampled['A'], color='red', label='A_pred', s=30, marker='o')  # Red dots for A\n",
        "plt.scatter(sampled.index, sampled['X'], color='blue', label='X_pred', s=30, marker='o')  # Blue dots for X\n",
        "plt.scatter(sampled.index, sampled['T'], color='green', label='T_pred', s=30, marker='o')  # Green dots for T\n",
        "plt.scatter(sampled.index, sampled['V'], color='orange', label='V_pred', s=30, marker='o')  # Orange dots for V\n",
        "\n",
        "plt.xlabel('Image Index')\n",
        "plt.ylabel('Predicted Voltages (V)')\n",
        "plt.legend()\n",
        "\n",
        "plt.axvline(x=40, color='gray', linestyle='--', linewidth=2)\n",
        "plt.axvline(x=80, color='gray', linestyle='--', linewidth=2)\n",
        "plt.axvline(x=120, color='gray', linestyle='--', linewidth=2)\n",
        "\n",
        "plt.text(20, plt.ylim()[1]*(-0.8), 'A', fontsize=15, color='black', ha='center')\n",
        "plt.text(60, plt.ylim()[1]*0.8, 'X', fontsize=15, color='black', ha='center')\n",
        "plt.text(100, plt.ylim()[1]*0.8, 'V', fontsize=15, color='black', ha='center')\n",
        "plt.text(140, plt.ylim()[1]*(-0.8), 'T', fontsize=15, color='black', ha='center')\n",
        "\n",
        "plt.show()"
      ]
    },
    {
      "cell_type": "code",
      "execution_count": null,
      "id": "e86f31ef-ad69-472f-9217-bdde6f8ab1e8",
      "metadata": {
        "id": "e86f31ef-ad69-472f-9217-bdde6f8ab1e8"
      },
      "outputs": [],
      "source": []
    }
  ],
  "metadata": {
    "kernelspec": {
      "display_name": "Python 3",
      "name": "python3"
    },
    "language_info": {
      "codemirror_mode": {
        "name": "ipython",
        "version": 3
      },
      "file_extension": ".py",
      "mimetype": "text/x-python",
      "name": "python",
      "nbconvert_exporter": "python",
      "pygments_lexer": "ipython3",
      "version": "3.10.5"
    },
    "colab": {
      "provenance": [],
      "gpuType": "T4"
    },
    "accelerator": "GPU"
  },
  "nbformat": 4,
  "nbformat_minor": 5
}