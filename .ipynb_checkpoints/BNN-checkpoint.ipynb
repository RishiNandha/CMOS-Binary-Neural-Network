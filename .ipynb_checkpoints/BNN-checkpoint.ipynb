{
 "cells": [
  {
   "cell_type": "markdown",
   "id": "141370fc-54a4-4a6b-afcf-a7677dc6dc87",
   "metadata": {},
   "source": [
    "# Training of a Soft-Binarized Neural Network for CMOS RRAM Crossbar\n",
    " We introduce a new concept of Soft-Binarization during training. We approximate the ON state of the RRAM memory cell to be roughly of the conductance of G_ON always (valid upto a small signal limit). We train a neural network ex-situ while modelling this binary behaviour in the training phase itself.\n",
    "\n",
    "Binarizing Weights will cause backpropagation to fail. While using a Straight-Through-Estimator is one option, we can just model a **\"Soft Binarization\"** with a Sigmoid or a Tanh instead. Thus we apply a Binarization to the weights during the forward pass, and let PyTorch compute the gradients in the backward pass and update the weights. This way, when we program the physical RRAM array, there is minimal deviation from what the training achieved"
   ]
  },
  {
   "cell_type": "code",
   "execution_count": 260,
   "id": "9a70e539-1dc9-4e36-9c9f-18fbdaeede1f",
   "metadata": {},
   "outputs": [],
   "source": [
    "import numpy as np\n",
    "import torch\n",
    "import cv2 as cv\n",
    "import matplotlib.pyplot as plt\n",
    "import torch\n",
    "import torch.nn as nn\n",
    "import torch.optim as optim\n",
    "import torch.nn.functional as F\n",
    "from torch.utils.data import Dataset, DataLoader\n",
    "import os\n",
    "from torchinfo import summary\n",
    "import ast\n",
    "import pandas as pd"
   ]
  },
  {
   "cell_type": "code",
   "execution_count": 261,
   "id": "d406d54c-db27-4536-a8c1-f46437f6fb71",
   "metadata": {},
   "outputs": [],
   "source": [
    "def plot_history(history, num_epochs, element):\n",
    "    epochs = range(len(history[list(history.keys())[0]]))\n",
    "    \n",
    "    fig, ax1 = plt.subplots(figsize=(12, 8))\n",
    "    \n",
    "    ax1.plot(epochs, history[\"train_loss\"], label=\"Train Loss\", color=\"blue\")\n",
    "    ax1.plot(epochs, history[\"val_loss\"], label=\"Validation Loss\", color=\"red\")\n",
    "    ax1.set_xlabel(\"Epochs\", fontsize=14)\n",
    "    ax1.set_ylabel(\"Loss\", fontsize=14, color=\"blue\")\n",
    "    ax1.tick_params(axis=\"y\", labelcolor=\"blue\")\n",
    "    ax1.legend(loc=\"upper left\")\n",
    "    ax1.grid(True)\n",
    "\n",
    "    ax2 = ax1.twinx()\n",
    "    ax2.plot(epochs, history[\"train_accuracy\"], label=\"Train Accuracy\", color=\"green\")\n",
    "    ax2.plot(epochs, history[\"val_accuracy\"], label=\"Validation Accuracy\", color=\"orange\")\n",
    "    ax2.set_ylabel(\"Accuracy (%)\", fontsize=14, color=\"green\")\n",
    "    ax2.tick_params(axis=\"y\", labelcolor=\"green\")\n",
    "    ax2.legend(loc=\"upper right\")\n",
    "\n",
    "    plt.title(f\"Training and Validation Metrics for {element}\", fontsize=16)\n",
    "    plt.tight_layout()\n",
    "    plt.show()"
   ]
  },
  {
   "cell_type": "markdown",
   "id": "ff2d9989-c0ba-4636-baae-1f3094a3be20",
   "metadata": {},
   "source": [
    "## Data-set Preparation"
   ]
  },
  {
   "cell_type": "code",
   "execution_count": 262,
   "id": "63283303-5d50-461f-8786-9174578e5009",
   "metadata": {},
   "outputs": [],
   "source": [
    "A_true = np.array([\n",
    "    [[0,1,1,0], [1,0,0,1], [1,1,1,1], [1,0,0,1]], \n",
    "    [[1,1,1,1], [1,0,0,1], [1,1,1,1], [1,0,0,1]], \n",
    "    [[0,1,1,0], [1,0,0,1], [1,1,1,1], [0,0,0,1]],\n",
    "    [[1,1,1,1], [1,0,0,1], [1,1,1,1], [0,0,0,1]],\n",
    "    [[0,1,1,0], [1,0,0,1], [1,1,1,1], [1,0,0,0]],\n",
    "    [[1,1,1,1], [1,0,0,1], [1,1,1,1], [1,0,0,0]],\n",
    "    [[0,1,0,0], [1,0,1,0], [1,1,1,0], [1,0,1,0]],\n",
    "    [[0,0,1,0], [0,1,0,1], [0,1,1,1], [0,1,0,1]],\n",
    "    [[1,1,1,0], [1,0,1,0], [1,1,1,0], [1,0,1,0]],\n",
    "    [[0,1,1,1], [0,1,0,1], [0,1,1,1], [0,1,0,1]]])\n",
    "\n",
    "T_true = np.array([\n",
    "    [[1,1,1,1], [0,1,0,0], [0,1,0,0], [0,1,0,0]],\n",
    "    [[1,1,1,1], [0,0,1,0], [0,0,1,0], [0,0,1,0]],\n",
    "    [[1,1,1,0], [0,1,0,0], [0,1,0,0], [0,1,0,0]],\n",
    "    [[0,1,1,1], [0,0,1,0], [0,0,1,0], [0,0,1,0]],\n",
    "    [[1,1,1,1], [0,1,0,0], [0,1,0,0], [0,0,0,0]],\n",
    "    [[1,1,1,1], [0,0,1,0], [0,0,1,0], [0,0,0,0]],\n",
    "    [[1,1,1,0], [0,1,0,0], [0,1,0,0], [0,0,0,0]],\n",
    "    [[0,1,1,1], [0,0,1,0], [0,0,1,0], [0,0,0,0]],\n",
    "    [[0,0,0,0], [1,1,1,0], [0,1,0,0], [0,1,0,0]],\n",
    "    [[0,0,0,0], [0,1,1,1], [0,0,1,0], [0,0,1,0]]])\n",
    "\n",
    "V_true = np.array([\n",
    "    [[1,0,0,1], [1,0,0,1], [1,0,0,1], [1,1,1,1]],\n",
    "    [[1,0,0,1], [1,0,0,1], [1,0,0,1], [0,1,1,0]],\n",
    "    [[1,0,1,0], [1,0,1,0], [1,0,1,0], [0,1,0,0]],\n",
    "    [[0,1,0,1], [0,1,0,1], [0,1,0,1], [0,0,1,0]],\n",
    "    [[0,0,0,0], [1,0,0,1], [1,0,0,1], [0,1,1,0]],\n",
    "    [[0,0,0,0], [1,0,1,0], [1,0,1,0], [0,1,0,0]],\n",
    "    [[0,0,0,0], [0,1,0,1], [0,1,0,1], [0,0,1,0]],\n",
    "    [[1,0,1,0], [1,0,1,0], [0,1,0,0], [0,0,0,0]],\n",
    "    [[0,1,0,1], [0,1,0,1], [0,0,1,0], [0,0,0,0]],\n",
    "    [[1,0,0,1], [1,0,0,1], [0,1,1,0], [0,0,0,0]]])\n",
    "\n",
    "X_true = np.array([\n",
    "    [[1,0,1,0], [0,1,0,0], [1,0,1,0], [0,0,0,0]],\n",
    "    [[0,0,0,0], [0,1,0,1], [0,0,1,0], [0,1,0,1]],\n",
    "    [[0,0,0,0], [1,0,1,0], [0,1,0,0], [1,0,1,0]],\n",
    "    [[0,1,0,1], [0,0,1,0], [0,1,0,1], [0,0,0,0]],\n",
    "    [[1,0,1,0], [0,1,0,0], [1,0,1,0], [0,0,0,1]],\n",
    "    [[1,0,0,0], [0,1,0,1], [0,0,1,0], [0,1,0,1]],\n",
    "    [[0,0,0,1], [1,0,1,0], [0,1,0,0], [1,0,1,0]],\n",
    "    [[0,1,0,1], [0,0,1,0], [0,1,0,1], [1,0,0,0]],\n",
    "    [[0,1,0,1], [0,0,1,0], [0,1,0,1], [0,1,0,1]],\n",
    "    [[1,0,1,0], [1,0,1,0], [0,1,0,0], [1,0,1,0]]])"
   ]
  },
  {
   "cell_type": "code",
   "execution_count": 263,
   "id": "98cb8497-ca3b-4921-a4f2-37d0f8d8b847",
   "metadata": {},
   "outputs": [
    {
     "data": {
      "image/png": "[encoded data removed]",
      "text/plain": [
       "<Figure size 1500x1000 with 40 Axes>"
      ]
     },
     "metadata": {},
     "output_type": "display_data"
    }
   ],
   "source": [
    "total_subplots = 4 * len(A_true)\n",
    "fig, axes = plt.subplots(4, len(A_true), figsize=(15, 10))\n",
    "fig.suptitle(\"Visualizations of A_true, T_true, V_true, and X_true\", fontsize=16)\n",
    "\n",
    "data_arrays = {\"A\": A_true, \"X\": X_true, \"V\": V_true, \"T\": T_true}\n",
    "\n",
    "for row, (name, array) in enumerate(data_arrays.items()):\n",
    "    for col in range(array.shape[0]):\n",
    "        ax = axes[row, col]\n",
    "        ax.imshow(1 - array[col], cmap=\"gray\")\n",
    "        ax.axis('off')\n",
    "        if col == 0:\n",
    "            ax.set_ylabel(name, fontsize=12)\n",
    "        if row == len(data_arrays) - 1:\n",
    "            ax.set_xlabel(f\"Slice {col+1}\", fontsize=10)\n",
    "\n",
    "plt.tight_layout()\n",
    "plt.subplots_adjust(top=0.9)  # Adjust space for the suptitle\n",
    "plt.show()"
   ]
  },
  {
   "cell_type": "markdown",
   "id": "522f1f36-9133-4ffd-add1-679bc0e15d82",
   "metadata": {},
   "source": [
    "### Validation Set"
   ]
  },
  {
   "cell_type": "code",
   "execution_count": 264,
   "id": "ebeb695d-a157-46d7-8003-20077ddd95fa",
   "metadata": {},
   "outputs": [
    {
     "data": {
      "text/plain": [
       "tensor([0, 0, 0, 0, 0, 0, 0, 0, 0, 0, 0, 0, 0, 0, 0, 0, 0, 0, 0, 0, 0, 0, 0, 0,\n",
       "        0, 0, 0, 0, 0, 0, 0, 0, 0, 0, 0, 0, 0, 0, 0, 0, 0, 0, 0, 0, 0, 0, 0, 0,\n",
       "        0, 0, 0, 0, 0, 0, 0, 0, 0, 0, 0, 0, 0, 0, 0, 0, 0, 0, 0, 0, 0, 0, 0, 0,\n",
       "        0, 0, 0, 0, 0, 0, 0, 0, 0, 0, 0, 0, 0, 0, 0, 0, 0, 0, 0, 0, 0, 0, 0, 0,\n",
       "        0, 0, 0, 0, 0, 0, 0, 0, 0, 0, 0, 0, 0, 0, 0, 0, 0, 0, 0, 0, 0, 0, 0, 0,\n",
       "        0, 0, 0, 0, 0, 0, 0, 0, 0, 0, 0, 0, 0, 0, 0, 0, 0, 0, 0, 0, 0, 0, 0, 0,\n",
       "        0, 0, 0, 0, 0, 0, 0, 0, 0, 0, 0, 0, 0, 0, 0, 0, 1, 1, 1, 1, 1, 1, 1, 1,\n",
       "        1, 1, 1, 1, 1, 1, 1, 1, 1, 1, 1, 1, 1, 1, 1, 1, 1, 1, 1, 1, 1, 1, 1, 1,\n",
       "        1, 1, 1, 1, 1, 1, 1, 1, 1, 1, 1, 1, 1, 1, 1, 1, 1, 1, 1, 1, 1, 1, 1, 1,\n",
       "        1, 1, 1, 1, 1, 1, 1, 1, 1, 1, 1, 1, 1, 1, 1, 1, 1, 1, 1, 1, 1, 1, 1, 1,\n",
       "        1, 1, 1, 1, 1, 1, 1, 1, 1, 1, 1, 1, 1, 1, 1, 1, 1, 1, 1, 1, 1, 1, 1, 1,\n",
       "        1, 1, 1, 1, 1, 1, 1, 1, 1, 1, 1, 1, 1, 1, 1, 1, 1, 1, 1, 1, 1, 1, 1, 1,\n",
       "        1, 1, 1, 1, 1, 1, 1, 1, 1, 1, 1, 1, 1, 1, 1, 1, 1, 1, 1, 1, 1, 1, 1, 1,\n",
       "        1, 1, 1, 1, 1, 1, 1, 1, 2, 2, 2, 2, 2, 2, 2, 2, 2, 2, 2, 2, 2, 2, 2, 2,\n",
       "        2, 2, 2, 2, 2, 2, 2, 2, 2, 2, 2, 2, 2, 2, 2, 2, 2, 2, 2, 2, 2, 2, 2, 2,\n",
       "        2, 2, 2, 2, 2, 2, 2, 2, 2, 2, 2, 2, 2, 2, 2, 2, 2, 2, 2, 2, 2, 2, 2, 2,\n",
       "        2, 2, 2, 2, 2, 2, 2, 2, 2, 2, 2, 2, 2, 2, 2, 2, 2, 2, 2, 2, 2, 2, 2, 2,\n",
       "        2, 2, 2, 2, 2, 2, 2, 2, 2, 2, 2, 2, 2, 2, 2, 2, 2, 2, 2, 2, 2, 2, 2, 2,\n",
       "        2, 2, 2, 2, 2, 2, 2, 2, 2, 2, 2, 2, 2, 2, 2, 2, 2, 2, 2, 2, 2, 2, 2, 2,\n",
       "        2, 2, 2, 2, 2, 2, 2, 2, 2, 2, 2, 2, 2, 2, 2, 2, 2, 2, 2, 2, 2, 2, 2, 2,\n",
       "        3, 3, 3, 3, 3, 3, 3, 3, 3, 3, 3, 3, 3, 3, 3, 3, 3, 3, 3, 3, 3, 3, 3, 3,\n",
       "        3, 3, 3, 3, 3, 3, 3, 3, 3, 3, 3, 3, 3, 3, 3, 3, 3, 3, 3, 3, 3, 3, 3, 3,\n",
       "        3, 3, 3, 3, 3, 3, 3, 3, 3, 3, 3, 3, 3, 3, 3, 3, 3, 3, 3, 3, 3, 3, 3, 3,\n",
       "        3, 3, 3, 3, 3, 3, 3, 3, 3, 3, 3, 3, 3, 3, 3, 3, 3, 3, 3, 3, 3, 3, 3, 3,\n",
       "        3, 3, 3, 3, 3, 3, 3, 3, 3, 3, 3, 3, 3, 3, 3, 3, 3, 3, 3, 3, 3, 3, 3, 3,\n",
       "        3, 3, 3, 3, 3, 3, 3, 3, 3, 3, 3, 3, 3, 3, 3, 3, 3, 3, 3, 3, 3, 3, 3, 3,\n",
       "        3, 3, 3, 3, 3, 3, 3, 3, 3, 3, 3, 3, 3, 3, 3, 3])"
      ]
     },
     "execution_count": 264,
     "metadata": {},
     "output_type": "execute_result"
    }
   ],
   "source": [
    "AUG = np.zeros((4, 160, 4, 4), dtype=np.uint8)\n",
    "for idx, data in enumerate([A_true, T_true, V_true, X_true]):\n",
    "    for sample in range(10):\n",
    "        AUG[idx][sample * 16:(sample + 1) * 16] = data[sample]\n",
    "        for i in range(4):\n",
    "            for j in range(4):\n",
    "                AUG[idx][sample * 16 + 4 * i + j][i][j] ^= 1  # Flip bits (abs(x-1))\n",
    "\n",
    "A_AUG, T_AUG, V_AUG, X_AUG = AUG\n",
    "\n",
    "val_inputs = torch.tensor(np.concatenate([A_AUG, X_AUG, V_AUG, T_AUG]), dtype=torch.float32)\n",
    "val_labels = torch.tensor(\n",
    "    np.concatenate([[i] * len(AUG[i]) for i in range(4)]), dtype=torch.long\n",
    ")\n",
    "val_labels"
   ]
  },
  {
   "cell_type": "markdown",
   "id": "cdd218be-ce0d-41c2-b05e-01b77d12b183",
   "metadata": {},
   "source": [
    "### Training Set"
   ]
  },
  {
   "cell_type": "code",
   "execution_count": 265,
   "id": "2dfed2a4-e156-4826-86ac-55a587532935",
   "metadata": {},
   "outputs": [],
   "source": [
    "A_true_tensor = torch.tensor(A_true, dtype=torch.float32)\n",
    "X_true_tensor = torch.tensor(X_true, dtype=torch.float32)\n",
    "V_true_tensor = torch.tensor(V_true, dtype=torch.float32)\n",
    "T_true_tensor = torch.tensor(T_true, dtype=torch.float32)\n",
    "\n",
    "train_inputs = torch.cat([A_true_tensor, X_true_tensor, V_true_tensor, T_true_tensor], dim=0)\n",
    "\n",
    "num_samples_per_category = len(A_true)\n",
    "train_labels = torch.cat([\n",
    "    torch.full((num_samples_per_category,), 0, dtype=torch.long),\n",
    "    torch.full((num_samples_per_category,), 1, dtype=torch.long),\n",
    "    torch.full((num_samples_per_category,), 2, dtype=torch.long),\n",
    "    torch.full((num_samples_per_category,), 3, dtype=torch.long),\n",
    "])"
   ]
  },
  {
   "cell_type": "code",
   "execution_count": 266,
   "id": "ade5cede-03aa-4b8a-b0dd-723020da3397",
   "metadata": {},
   "outputs": [
    {
     "data": {
      "text/plain": [
       "tensor([0, 0, 0, 0, 0, 0, 0, 0, 0, 0, 1, 1, 1, 1, 1, 1, 1, 1, 1, 1, 2, 2, 2, 2,\n",
       "        2, 2, 2, 2, 2, 2, 3, 3, 3, 3, 3, 3, 3, 3, 3, 3])"
      ]
     },
     "execution_count": 266,
     "metadata": {},
     "output_type": "execute_result"
    }
   ],
   "source": [
    "train_labels"
   ]
  },
  {
   "cell_type": "code",
   "execution_count": 267,
   "id": "883a7ffa-ee92-412a-909e-a2b37383ad00",
   "metadata": {},
   "outputs": [],
   "source": [
    "def tensor_stats(tensor, name=\"Tensor\"):\n",
    "    mean_magnitude = tensor.abs().mean().item()\n",
    "    print(f\"{name} - Mean Magnitude: {mean_magnitude:.2e}, Max: {tensor.max().item():.2e}, Min: {tensor.min().item():.2e}\")"
   ]
  },
  {
   "cell_type": "markdown",
   "id": "862bf296-acc5-4591-9e0e-253ba50b7f5d",
   "metadata": {},
   "source": [
    "## Custom Neural Network\n",
    "\n",
    "1. **RRAMs/FeFETs** have only ON and OFF states that can be reliably controlled. A Sigmoid Function can be used to approximate this Binary behaviour. Hence we apply a Sigmoid on all weights before using them in the Fully Connected Layer. **G_ON** and **G_OFF** are the limits of this Sigmoid, where we approximate all ON RRAMs/FeFETs to have a conductance of G_ON and similarly for G_OFF.\n",
    "2. Every Crossbar must be followed by an **Opamp or an Inverter** that is connect in Negative Feedback so that the Current Mode signal is converted to a Voltage mode. This also serves as the activation function. This again is a Sigmoid/Tanh, where the slope at the centre is the Feedback Resistance of the Amplifier **R_INV** and the Rails are limited by **V_INV**.\n",
    "3. The input voltages are given by **V_1** which corresponds to the reading voltage and **V_0** which corresponds to the OFF voltage (=0)"
   ]
  },
  {
   "cell_type": "code",
   "execution_count": 268,
   "id": "36bb1ecb-9ef9-4cff-ba96-cb559972a1a4",
   "metadata": {},
   "outputs": [],
   "source": [
    "class BinaryNeuralNetwork(nn.Module):\n",
    "    def __init__(self, G_ON, G_OFF, V_INV, R_INV, R_INV2, V_1, V_0, sharpness, initial_factor, h_layer = 8, verbose = False, monitor = True, p = 0.2):\n",
    "        super(BinaryNeuralNetwork, self).__init__()\n",
    "        \n",
    "        self.w1 = nn.Parameter(torch.empty(h_layer, 16))\n",
    "        self.w2 = nn.Parameter(torch.empty(4, h_layer))\n",
    "        nn.init.xavier_uniform_(self.w1)\n",
    "        nn.init.xavier_uniform_(self.w2)\n",
    "\n",
    "        self.G_ON = G_ON\n",
    "        self.G_OFF = G_OFF\n",
    "        self.V_INV = V_INV\n",
    "        self.R_INV = R_INV\n",
    "        self.R_INV2 = R_INV2\n",
    "        self.V_1 = V_1\n",
    "        self.V_0 = V_0\n",
    "\n",
    "        self.sharpness = sharpness\n",
    "\n",
    "        self.w1.data = initial_factor*self.w1\n",
    "        self.w2.data = initial_factor*self.w2\n",
    "\n",
    "        self.verbose = verbose\n",
    "        self.monitor = monitor\n",
    "\n",
    "        self.dropout = nn.Dropout(p=p)\n",
    "    \n",
    "    def forward(self, x):\n",
    "        # Preprocessing: Two States of input (V_ON and V_OFF)\n",
    "        x = (self.V_1 - self.V_0) * x.view(x.size(0), -1) + self.V_0\n",
    "\n",
    "        # RRAM Soft Binarization\n",
    "        g1 = ((self.G_ON - self.G_OFF) * torch.sigmoid(self.w1 * self.sharpness) + self.G_OFF).to(x.device)\n",
    "        g2 = ((self.G_ON - self.G_OFF) * torch.sigmoid(self.w2 * self.sharpness) + self.G_OFF).to(x.device)\n",
    "        \n",
    "        if self.verbose:\n",
    "            tensor_stats(self.w1, \"\\nLatent Weights FC1\")\n",
    "            tensor_stats(self.w2, \"Latent Weights FC2\")\n",
    "            tensor_stats(g1, \"\\nSoft Binarized Weights FC1\")\n",
    "            tensor_stats(g2, \"Soft Binarized FC2\")\n",
    "        \n",
    "        # Action of the Crossbar 1 \n",
    "        x = F.linear(x, g1)\n",
    "        if self.verbose: tensor_stats(x, \"\\nCurrents after Crossbar 1\")\n",
    "        \n",
    "        # Action of Inverting Amplifier\n",
    "        x = -self.V_INV * torch.tanh(self.R_INV * x / self.V_INV)\n",
    "        if self.monitor: tensor_stats(x, \"Voltage after Inv Amp 1\")\n",
    "\n",
    "        x = self.dropout(x)\n",
    "        \n",
    "        # Action of Crossbar 2\n",
    "        x = F.linear(x, g2)\n",
    "        if self.verbose: tensor_stats(x, \"\\nCurrents after Crossbar 2\")\n",
    "        \n",
    "        # Action of Inverting Amplifier\n",
    "        x = -self.V_INV * torch.tanh(self.R_INV2 * x/ self.V_INV)\n",
    "        if self.verbose: tensor_stats(x, \"Voltage after Inv Amp 2\")\n",
    "                \n",
    "        return x\n",
    "        \n",
    "    def backprop(self, lr):\n",
    "        if self.verbose:\n",
    "            tensor_stats(lr * self.w1.grad, \"\\nLatent Gradients FC1\")\n",
    "            tensor_stats(lr * self.w2.grad, \"Latent Gradients FC2\")\n",
    "    \n",
    "        with torch.no_grad():\n",
    "            self.w1 -= lr * self.w1.grad\n",
    "            self.w2 -= lr * self.w2.grad\n",
    "    \n",
    "        self.w1.grad.zero_()\n",
    "        self.w2.grad.zero_()"
   ]
  },
  {
   "cell_type": "code",
   "execution_count": 269,
   "id": "4e5f787e-a0d8-41e6-82f3-0ca60515cc8f",
   "metadata": {},
   "outputs": [],
   "source": [
    "device = torch.device(\"cuda\" if torch.cuda.is_available() else \"cpu\")\n",
    "criterion = nn.CrossEntropyLoss()  "
   ]
  },
  {
   "cell_type": "markdown",
   "id": "5c683491-2ed4-4e2b-8d24-05e758e168cd",
   "metadata": {},
   "source": [
    "### Data Augmentation\n",
    "\n",
    "For training purposes, we can superimpose noise onto the letters. We will have some amount of noise in the circuit too. This will help in generalizing for analog noise in the hardware too"
   ]
  },
  {
   "cell_type": "code",
   "execution_count": 299,
   "id": "7c4bf7f2-bb45-43af-a69e-23e931718cbc",
   "metadata": {},
   "outputs": [],
   "source": [
    "class AugmentedDataset(Dataset):\n",
    "    def __init__(self, images, labels, noise_std=0.1):\n",
    "        self.images = images\n",
    "        self.labels = labels\n",
    "        self.noise_std = noise_std\n",
    "\n",
    "    def __len__(self):\n",
    "        return len(self.images)\n",
    "\n",
    "    def __getitem__(self, idx):\n",
    "        image = self.images[idx]\n",
    "        label = self.labels[idx]\n",
    "        noisy_image = image + torch.randn_like(image) * self.noise_std\n",
    "        return noisy_image, label\n",
    "\n",
    "noise_std = 0.15\n",
    "augmented_dataset = AugmentedDataset(train_inputs, train_labels, noise_std=noise_std)\n",
    "dataloader = DataLoader(augmented_dataset, batch_size=20, shuffle=True)"
   ]
  },
  {
   "cell_type": "markdown",
   "id": "845d51da-8368-4c97-89a2-9fc1374f408b",
   "metadata": {},
   "source": [
    "# Model for RRAM\n",
    "\n",
    "G_ON and G_OFF for a FeFET of dimensions similar to that we used in Endsem was 7.7e-5 and 2.88e-6 respectively"
   ]
  },
  {
   "cell_type": "code",
   "execution_count": 300,
   "id": "d332b5ba-a9e0-4e8a-bff9-3176267bef00",
   "metadata": {},
   "outputs": [
    {
     "data": {
      "text/plain": [
       "=================================================================\n",
       "Layer (type:depth-idx)                   Param #\n",
       "=================================================================\n",
       "BinaryNeuralNetwork                      160\n",
       "├─Dropout: 1-1                           --\n",
       "=================================================================\n",
       "Total params: 160\n",
       "Trainable params: 160\n",
       "Non-trainable params: 0\n",
       "================================================================="
      ]
     },
     "execution_count": 300,
     "metadata": {},
     "output_type": "execute_result"
    }
   ],
   "source": [
    "params_RRAM = {\n",
    "    \"G_ON\": 6e-5,\n",
    "    \"G_OFF\": 2.88e-6,\n",
    "    \"V_INV\": 1.2,\n",
    "    \"R_INV\": 2e+3,\n",
    "    \"R_INV2\": 2e+3,\n",
    "    \"V_1\": 0.1,\n",
    "    \"V_0\": -0.1,\n",
    "    \"sharpness\": 200,\n",
    "    \"initial_factor\": 0.1,\n",
    "    \"h_layer\": 8,\n",
    "    \"verbose\": False,\n",
    "    \"monitor\": False,\n",
    "    \"p\" : 0.3\n",
    "}\n",
    "\n",
    "model_RRAM = BinaryNeuralNetwork(**params_RRAM).to(device)\n",
    "summary(model_RRAM)"
   ]
  },
  {
   "cell_type": "code",
   "execution_count": 301,
   "id": "e0de620a-e0e4-49cf-863d-721e2680dd58",
   "metadata": {},
   "outputs": [
    {
     "name": "stdout",
     "output_type": "stream",
     "text": [
      "65.15625\n"
     ]
    }
   ],
   "source": [
    "try:\n",
    "    with open(\"RRAM_accuracy.txt\", 'r') as f: best_val_RRAM = float(f.read())\n",
    "except:\n",
    "    best_val_RRAM = 0\n",
    "print(best_val_RRAM)"
   ]
  },
  {
   "cell_type": "markdown",
   "id": "241d1155-be9e-4a7a-9a74-a1d608188350",
   "metadata": {},
   "source": [
    "#### Training Notes:\n",
    "1. **R_INV** and **V_INV** should be chosen carefully. If these are too small, the backpropagation gradients will diminish before it reaches the first fully connected later. While **sharpness** and **initial_factor** are purely software parameters and don't correspond to anything in the circuit, but these also affect how the training goes because the gradient in the backward pass through the soft binarization depends on these\n",
    "2. **R_INV** cannot be made too large either. The approximation that **G_ON** is constant with respect to input voltage holds only to a small signal limit. While this is not a problem in the first fully connected layer, the second layer must be monitored. Hence, **verbose = True** must be set above and the intermediate voltage must be monitored to ensure that we don't enter the non-linear region of current vs reading voltage."
   ]
  },
  {
   "cell_type": "code",
   "execution_count": 302,
   "id": "75e71bbb-9193-4010-8f9e-70ef9154c911",
   "metadata": {},
   "outputs": [],
   "source": [
    "history_RRAM = {\n",
    "    \"train_loss\": [],\n",
    "    \"train_accuracy\": [],\n",
    "    \"val_loss\": [],\n",
    "    \"val_accuracy\": []\n",
    "}"
   ]
  },
  {
   "cell_type": "code",
   "execution_count": 306,
   "id": "a9ed1842-f618-4562-8e82-c5355ca39f90",
   "metadata": {},
   "outputs": [
    {
     "name": "stdout",
     "output_type": "stream",
     "text": [
      "Epoch 1, LR: 0.0000, Train Loss: 1.3694, Train Accuracy: 57.50%, Val Loss: 1.3712, Val Accuracy: 58.13%\n",
      "Epoch 2, LR: 0.0000, Train Loss: 1.3698, Train Accuracy: 67.50%, Val Loss: 1.3712, Val Accuracy: 58.13%\n",
      "Epoch 3, LR: 0.0000, Train Loss: 1.3698, Train Accuracy: 57.50%, Val Loss: 1.3712, Val Accuracy: 58.13%\n",
      "Epoch 4, LR: 0.0000, Train Loss: 1.3692, Train Accuracy: 65.00%, Val Loss: 1.3712, Val Accuracy: 58.13%\n",
      "Epoch 5, LR: 0.0000, Train Loss: 1.3678, Train Accuracy: 70.00%, Val Loss: 1.3712, Val Accuracy: 58.13%\n",
      "Epoch 6, LR: 0.0000, Train Loss: 1.3701, Train Accuracy: 60.00%, Val Loss: 1.3712, Val Accuracy: 58.13%\n",
      "Epoch 7, LR: 0.0001, Train Loss: 1.3681, Train Accuracy: 65.00%, Val Loss: 1.3712, Val Accuracy: 58.13%\n",
      "Epoch 8, LR: 0.0001, Train Loss: 1.3674, Train Accuracy: 62.50%, Val Loss: 1.3712, Val Accuracy: 58.13%\n",
      "Epoch 9, LR: 0.0002, Train Loss: 1.3688, Train Accuracy: 62.50%, Val Loss: 1.3712, Val Accuracy: 58.13%\n",
      "Epoch 10, LR: 0.0005, Train Loss: 1.3682, Train Accuracy: 60.00%, Val Loss: 1.3712, Val Accuracy: 58.13%\n",
      "Epoch 11, LR: 0.0010, Train Loss: 1.3687, Train Accuracy: 62.50%, Val Loss: 1.3712, Val Accuracy: 58.13%\n",
      "Epoch 101, LR: 1.0000, Train Loss: 1.3698, Train Accuracy: 57.50%, Val Loss: 1.3712, Val Accuracy: 58.13%\n",
      "Epoch 201, LR: 0.5000, Train Loss: 1.3697, Train Accuracy: 57.50%, Val Loss: 1.3712, Val Accuracy: 58.13%\n",
      "Epoch 301, LR: 0.2500, Train Loss: 1.3693, Train Accuracy: 65.00%, Val Loss: 1.3712, Val Accuracy: 58.13%\n",
      "Epoch 401, LR: 0.1250, Train Loss: 1.3699, Train Accuracy: 60.00%, Val Loss: 1.3712, Val Accuracy: 58.13%\n",
      "Epoch 501, LR: 0.0625, Train Loss: 1.3689, Train Accuracy: 67.50%, Val Loss: 1.3712, Val Accuracy: 58.13%\n",
      "Epoch 601, LR: 0.0312, Train Loss: 1.3702, Train Accuracy: 57.50%, Val Loss: 1.3712, Val Accuracy: 58.13%\n",
      "Epoch 701, LR: 0.0156, Train Loss: 1.3677, Train Accuracy: 55.00%, Val Loss: 1.3712, Val Accuracy: 58.13%\n",
      "Epoch 801, LR: 0.0078, Train Loss: 1.3689, Train Accuracy: 52.50%, Val Loss: 1.3712, Val Accuracy: 58.13%\n",
      "Epoch 901, LR: 0.0039, Train Loss: 1.3670, Train Accuracy: 60.00%, Val Loss: 1.3712, Val Accuracy: 58.13%\n"
     ]
    }
   ],
   "source": [
    "lr = 1\n",
    "num_epochs = 1000\n",
    "\n",
    "for epoch in range(num_epochs):\n",
    "    if epoch == 0:\n",
    "        lr /= 1048576\n",
    "    elif epoch <= 20:\n",
    "        lr *= 2\n",
    "\n",
    "    model_RRAM.train()\n",
    "\n",
    "    train_loss = 0\n",
    "    train_accuracy = 0\n",
    "    total_samples = 0\n",
    "\n",
    "    for inputs, labels in dataloader:\n",
    "        inputs = inputs.to(device)\n",
    "        labels = labels.to(device)\n",
    "\n",
    "        outputs = model_RRAM(inputs)\n",
    "        loss = criterion(outputs, labels)\n",
    "        loss.backward()\n",
    "        model_RRAM.backprop(lr)\n",
    "\n",
    "        train_loss += loss.item() * inputs.size(0)\n",
    "        _, predictions = torch.max(outputs, dim=1)\n",
    "        train_accuracy += (predictions == labels).sum().item()\n",
    "        total_samples += inputs.size(0)\n",
    "\n",
    "    train_loss /= total_samples\n",
    "    train_accuracy = (train_accuracy / total_samples) * 100\n",
    "\n",
    "    model_RRAM.eval()\n",
    "    with torch.no_grad():\n",
    "        val_outputs = model_RRAM(val_inputs.to(device))\n",
    "        val_loss = criterion(val_outputs, val_labels.to(device)).item()\n",
    "        _, val_predictions = torch.max(val_outputs, dim=1)\n",
    "        val_accuracy = (val_predictions == val_labels.to(device)).sum().item() / val_labels.size(0) * 100\n",
    "\n",
    "    history_RRAM[\"train_loss\"].append(train_loss)\n",
    "    history_RRAM[\"train_accuracy\"].append(train_accuracy)\n",
    "    history_RRAM[\"val_loss\"].append(val_loss)\n",
    "    history_RRAM[\"val_accuracy\"].append(val_accuracy)\n",
    "\n",
    "    if val_accuracy > best_val_RRAM:\n",
    "        best_val_RRAM = val_accuracy\n",
    "        torch.save(model_RRAM.state_dict(), \"RRAM_model.pth\")\n",
    "        with open(\"RRAM_accuracy.txt\", \"w\") as f: f.write(f\"{best_val_RRAM:.6f}\")\n",
    "        with open(\"RRAM_params.txt\", \"w\") as f: f.write(f\"{params_RRAM}\")\n",
    "        print(f\"Model saved with Validation Accuracy: {best_val_RRAM:.6f}\")\n",
    "\n",
    "    if epoch % ((num_epochs+1) // 10) == 0 or epoch <= 10:\n",
    "        print(f\"Epoch {epoch + 1}, LR: {lr:.4f}, Train Loss: {train_loss:.4f}, Train Accuracy: {train_accuracy:.2f}%, \"\n",
    "              f\"Val Loss: {val_loss:.4f}, Val Accuracy: {val_accuracy:.2f}%\")\n",
    "\n",
    "    if epoch % ((num_epochs+1) // 10) == 0 and epoch != 0:\n",
    "        lr /=2"
   ]
  },
  {
   "cell_type": "code",
   "execution_count": 307,
   "id": "070a2ef8-94c5-49ca-bd35-3ed75ae2327b",
   "metadata": {},
   "outputs": [
    {
     "data": {
      "image/png": "[encoded data removed]",
      "text/plain": [
       "<Figure size 1200x800 with 2 Axes>"
      ]
     },
     "metadata": {},
     "output_type": "display_data"
    }
   ],
   "source": [
    "plot_history(history_RRAM, num_epochs, \"RRAM\")"
   ]
  },
  {
   "cell_type": "markdown",
   "id": "ed7941df-4678-4955-8a0f-f38b43f6b197",
   "metadata": {},
   "source": [
    "# Testing Accuracy and Loss:"
   ]
  },
  {
   "cell_type": "code",
   "execution_count": 276,
   "id": "4f09f3d2-6a66-4dc7-9834-ce52c5cb4d6e",
   "metadata": {},
   "outputs": [],
   "source": [
    "def test(model, val_inputs, val_labels):\n",
    "    val_inputs = val_inputs.to(device)\n",
    "    val_labels = val_labels.to(device)\n",
    "    model.eval()\n",
    "    with torch.no_grad():\n",
    "        outputs = model(val_inputs)\n",
    "        loss = criterion(outputs, val_labels)\n",
    "        _, predicted = torch.max(outputs, dim=1)\n",
    "        accuracy = (predicted == val_labels).sum().item() / val_labels.size(0)\n",
    "    print(f\"Validation Loss: {loss.item():.4f}\")\n",
    "    print(f\"Validation Accuracy: {accuracy * 100:.2f}%\")"
   ]
  },
  {
   "cell_type": "code",
   "execution_count": 277,
   "id": "32ca56c6-7023-416e-9675-93f1a3c8cc78",
   "metadata": {},
   "outputs": [
    {
     "name": "stdout",
     "output_type": "stream",
     "text": [
      "Validation Loss: 1.3693\n",
      "Validation Accuracy: 58.91%\n"
     ]
    }
   ],
   "source": [
    "test(model_RRAM, val_inputs, val_labels)"
   ]
  },
  {
   "cell_type": "markdown",
   "id": "3e003563-388a-4ff4-b877-3aa305fbb62c",
   "metadata": {},
   "source": [
    "#### Model Stored in Directory:"
   ]
  },
  {
   "cell_type": "code",
   "execution_count": 278,
   "id": "867574d7-3627-49ff-a430-1d658fa4d655",
   "metadata": {},
   "outputs": [
    {
     "name": "stdout",
     "output_type": "stream",
     "text": [
      "{'G_ON': 6.5e-05, 'G_OFF': 2.88e-06, 'V_INV': 1.2, 'R_INV': 2000.0, 'R_INV2': 2000.0, 'V_1': 0.1, 'V_0': -0.1, 'sharpness': 100, 'initial_factor': 0.1, 'h_layer': 8, 'verbose': False, 'monitor': False, 'p': 0.25} \n",
      "\n",
      "\n",
      "Latent Weights FC1 - Mean Magnitude: 4.24e-02, Max: 6.13e-02, Min: -5.29e-02\n",
      "Latent Weights FC2 - Mean Magnitude: 6.35e-02, Max: 7.74e-02, Min: -7.48e-02\n",
      "\n",
      "Soft Binarized Weights FC1 - Mean Magnitude: 3.98e-05, Max: 6.49e-05, Min: 3.19e-06\n",
      "Soft Binarized FC2 - Mean Magnitude: 3.20e-05, Max: 6.50e-05, Min: 2.91e-06\n",
      "\n",
      "Currents after Crossbar 1 - Mean Magnitude: 1.94e-05, Max: 7.00e-05, Min: -6.25e-05\n",
      "Voltage after Inv Amp 1 - Mean Magnitude: 3.87e-02, Max: 1.25e-01, Min: -1.39e-01\n",
      "\n",
      "Currents after Crossbar 2 - Mean Magnitude: 8.22e-06, Max: 4.04e-05, Min: -4.91e-05\n",
      "Voltage after Inv Amp 2 - Mean Magnitude: 1.64e-02, Max: 9.79e-02, Min: -8.07e-02\n",
      "Validation Loss: 1.3743\n",
      "Validation Accuracy: 65.16%\n"
     ]
    }
   ],
   "source": [
    "with open(\"RRAM_params.txt\", 'r') as f: params_RRAM_best = ast.literal_eval(f.read())\n",
    "print(params_RRAM_best, '\\n')\n",
    "model_RRAM_best = BinaryNeuralNetwork(**params_RRAM_best)\n",
    "model_RRAM_best.verbose = True\n",
    "model_RRAM_best.monitor = True\n",
    "model_RRAM_best.load_state_dict(torch.load(\"RRAM_model.pth\"))\n",
    "test(model_RRAM_best, val_inputs, val_labels)"
   ]
  },
  {
   "cell_type": "markdown",
   "id": "ad288f0b-0ec9-415d-96cc-a4ecec7aa5ce",
   "metadata": {},
   "source": [
    "## PWL Generation\n",
    "\n",
    "Let's assume that we will program the two crossbars with seperate PWLs. That is, during programming, we will cut the Inverting Amplifier stages with a pass transistor and connect the programming lines with a pass transistor. First array has 16 Top PWLs and 8 Bottom PWLs. Second array has 8 Top PWLs and 4 Bottom PWLs. And then once the programming switch is toggled to inference mode, only the 16 Top PWLs are to be changed. Let's also generate a PWL for that too.\n",
    "\n",
    "In the code below, we will first maintain tuples for each PWL that holds what the voltage should be. And then we will write a function that will take there and space pulses of the given voltage that are 100us apart from other and have an ON duration of 100us "
   ]
  },
  {
   "cell_type": "code",
   "execution_count": 279,
   "id": "58d5cebb-fc99-4a00-87a1-e183838c9a64",
   "metadata": {},
   "outputs": [],
   "source": [
    "WL_FC1 = [list() for i in range(16)]\n",
    "BL_FC1 = [list() for i in range(8)]\n",
    "WL_FC2 = [list() for i in range(8)]\n",
    "BL_FC2 = [list() for i in range(4)]\n",
    "Mode = []\n",
    "Mode_B = []\n",
    "\n",
    "V_WRITE = 1.5\n",
    "V_READ = 0.1\n",
    "V_mode = 1.2"
   ]
  },
  {
   "cell_type": "markdown",
   "id": "c647afda-e1a7-47a7-b634-212ec5527be2",
   "metadata": {},
   "source": [
    "#### Fully Connected Weights 1"
   ]
  },
  {
   "cell_type": "code",
   "execution_count": 280,
   "id": "03334172-89f6-4d73-9461-6ac922bdb6ea",
   "metadata": {},
   "outputs": [
    {
     "data": {
      "text/plain": [
       "tensor([[1, 0, 0, 1, 0, 1, 1, 0, 0, 0, 1, 1, 0, 0, 1, 1],\n",
       "        [0, 1, 1, 1, 1, 1, 0, 1, 0, 1, 1, 1, 1, 0, 0, 1],\n",
       "        [0, 1, 1, 0, 1, 0, 0, 1, 1, 1, 1, 1, 1, 0, 0, 1],\n",
       "        [1, 1, 1, 1, 0, 0, 1, 0, 1, 1, 1, 0, 1, 0, 0, 1],\n",
       "        [1, 0, 0, 1, 1, 0, 0, 1, 1, 0, 0, 1, 0, 1, 1, 0],\n",
       "        [0, 1, 1, 0, 1, 0, 0, 1, 1, 1, 1, 1, 1, 0, 0, 1],\n",
       "        [0, 0, 1, 1, 1, 0, 0, 1, 1, 0, 1, 1, 0, 0, 1, 1],\n",
       "        [1, 1, 1, 1, 0, 1, 1, 0, 0, 1, 1, 0, 1, 0, 0, 1]], dtype=torch.int32)"
      ]
     },
     "execution_count": 280,
     "metadata": {},
     "output_type": "execute_result"
    }
   ],
   "source": [
    "target = (model_RRAM_best.w1>0).int()\n",
    "target"
   ]
  },
  {
   "cell_type": "code",
   "execution_count": 281,
   "id": "49287afe-8437-40aa-8825-93f2cffe3a66",
   "metadata": {},
   "outputs": [],
   "source": [
    "for ind_i, i in enumerate(target):\n",
    "    for ind_j, j in enumerate(i):\n",
    "        if j==1: WL_FC1[ind_j].append(V_WRITE)\n",
    "        else: WL_FC1[ind_j].append(V_WRITE/3)\n",
    "    for ind_k in range(len(target)): \n",
    "        if ind_k==ind_i: BL_FC1[ind_i].append(0)\n",
    "        else: BL_FC1[ind_k].append(2*V_WRITE/3)"
   ]
  },
  {
   "cell_type": "markdown",
   "id": "be77131c-005d-4f06-8a70-f40d267eb67e",
   "metadata": {},
   "source": [
    "#### Fully Connected Weights 2"
   ]
  },
  {
   "cell_type": "code",
   "execution_count": 282,
   "id": "9adc2b24-ffb0-4470-8eae-3830221cb33d",
   "metadata": {},
   "outputs": [
    {
     "data": {
      "text/plain": [
       "tensor([[1, 1, 1, 1, 0, 1, 1, 1],\n",
       "        [1, 0, 0, 0, 0, 0, 0, 1],\n",
       "        [1, 0, 0, 0, 1, 0, 1, 0],\n",
       "        [1, 0, 0, 1, 0, 0, 0, 1]], dtype=torch.int32)"
      ]
     },
     "execution_count": 282,
     "metadata": {},
     "output_type": "execute_result"
    }
   ],
   "source": [
    "target = (model_RRAM_best.w2>0).int()\n",
    "target"
   ]
  },
  {
   "cell_type": "code",
   "execution_count": 283,
   "id": "3f7ca037-0e2f-49a3-98b3-b2e0b93f8b79",
   "metadata": {},
   "outputs": [],
   "source": [
    "for ind_i, i in enumerate(target):\n",
    "    for ind_j, j in enumerate(i):\n",
    "        if j==1: WL_FC2[ind_j].append(V_WRITE)\n",
    "        else: WL_FC2[ind_j].append(V_WRITE/3)\n",
    "    for ind_k in range(len(target)): \n",
    "        if ind_k==ind_i: BL_FC2[ind_i].append(0)\n",
    "        else: BL_FC2[ind_k].append(2*V_WRITE/3)"
   ]
  },
  {
   "cell_type": "markdown",
   "id": "a602368f-07a2-4beb-90e3-d782ca717fea",
   "metadata": {},
   "source": [
    "#### Filling Out Programming Mode"
   ]
  },
  {
   "cell_type": "code",
   "execution_count": 284,
   "id": "c4aa24d2-0d95-4ff4-8dfd-5c0800d9de11",
   "metadata": {},
   "outputs": [],
   "source": [
    "WL_FC1 = [i + [0,0] for i in WL_FC1]\n",
    "BL_FC1 = [i + [0,0] for i in BL_FC1]\n",
    "while(len(WL_FC2[0]) < len(WL_FC1[0])):\n",
    "    WL_FC2 = [i + [0,] for i in WL_FC2]\n",
    "    BL_FC2 = [i + [0,] for i in BL_FC2]\n",
    "Mode.extend([V_mode]*(len(WL_FC1[0])-1) + [-V_mode])\n",
    "Mode_B.extend([-V_mode]*(len(WL_FC1[0])-1) + [V_mode])"
   ]
  },
  {
   "cell_type": "code",
   "execution_count": 285,
   "id": "f953198a-a107-428c-9624-3c712086e922",
   "metadata": {},
   "outputs": [
    {
     "name": "stdout",
     "output_type": "stream",
     "text": [
      "[1.5, 0.5, 0.5, 1.5, 1.5, 0.5, 0.5, 1.5, 0, 0]\n",
      "[0, 1.0, 1.0, 1.0, 1.0, 1.0, 1.0, 1.0, 0, 0]\n",
      "[1.5, 1.5, 1.5, 1.5, 0, 0, 0, 0, 0, 0]\n",
      "[0, 1.0, 1.0, 1.0, 0, 0, 0, 0, 0, 0]\n",
      "[1.2, 1.2, 1.2, 1.2, 1.2, 1.2, 1.2, 1.2, 1.2, -1.2]\n",
      "[-1.2, -1.2, -1.2, -1.2, -1.2, -1.2, -1.2, -1.2, -1.2, 1.2]\n",
      "10 10 10 10 10 10\n"
     ]
    }
   ],
   "source": [
    "print(WL_FC1[0])\n",
    "print(BL_FC1[0])\n",
    "print(WL_FC2[0])\n",
    "print(BL_FC2[0])\n",
    "print(Mode)\n",
    "print(Mode_B)\n",
    "print(len(WL_FC1[0]), len(BL_FC1[0]), len(WL_FC2[0]), len(BL_FC2[0]), len(Mode), len(Mode_B)) "
   ]
  },
  {
   "cell_type": "markdown",
   "id": "92339f84-e8d6-4280-92af-e5215aa129a0",
   "metadata": {},
   "source": [
    "### Inference: Loading the Testing Set"
   ]
  },
  {
   "cell_type": "code",
   "execution_count": 286,
   "id": "b97dacd2-42bb-49f0-8ca9-e0f02ca4cc58",
   "metadata": {},
   "outputs": [
    {
     "data": {
      "text/plain": [
       "tensor([[1., 1., 1., 0.],\n",
       "        [1., 0., 0., 1.],\n",
       "        [1., 1., 1., 1.],\n",
       "        [1., 0., 0., 1.]])"
      ]
     },
     "execution_count": 286,
     "metadata": {},
     "output_type": "execute_result"
    }
   ],
   "source": [
    "val_inputs[0]"
   ]
  },
  {
   "cell_type": "code",
   "execution_count": 287,
   "id": "2336c3ab-2181-4ee7-b1c9-0a97a3700248",
   "metadata": {},
   "outputs": [],
   "source": [
    "V_1 = 0.1\n",
    "V_0 = -0.1\n",
    "include_testing = True\n",
    "include_every = 80"
   ]
  },
  {
   "cell_type": "code",
   "execution_count": 288,
   "id": "6a1cfba2-3243-4062-9ef6-4cd309622c73",
   "metadata": {},
   "outputs": [],
   "source": [
    "if include_testing:\n",
    "    for i in val_inputs[::include_every]:\n",
    "        i = i.flatten()\n",
    "        for ind, j in enumerate(i):\n",
    "            WL_FC1[ind].append(V_1 if j==1 else V_0)\n",
    "        BL_FC1 = [i + [0,] for i in BL_FC1]\n",
    "        WL_FC2 = [i + [0,] for i in WL_FC2]\n",
    "        BL_FC2 = [i + [0,] for i in BL_FC2]\n",
    "        Mode = Mode + [-V_mode,]\n",
    "        Mode_B = Mode_B + [V_mode,]"
   ]
  },
  {
   "cell_type": "markdown",
   "id": "b9dd97b8-fb1b-4634-9ae4-3a6fe05d0a2c",
   "metadata": {},
   "source": [
    "### PWL Convertion"
   ]
  },
  {
   "cell_type": "code",
   "execution_count": 289,
   "id": "c98af5ff-8f34-4472-89fc-e308d98d4072",
   "metadata": {},
   "outputs": [],
   "source": [
    "def pwl(l):\n",
    "    t = 0\n",
    "    res = \"pwl(time, 0us, 0V\"\n",
    "    for i in l:\n",
    "        res += f\", {t+5}us, {i:.2f}V, {t+100}us, {i:.2f}V, {t+105}us, 0V, {t+200}us, 0V\"\n",
    "        t+=200\n",
    "    res += \")\"\n",
    "    return res"
   ]
  },
  {
   "cell_type": "code",
   "execution_count": 290,
   "id": "54850dbc-1317-44a2-9093-c5a4e048094c",
   "metadata": {},
   "outputs": [
    {
     "data": {
      "text/html": [
       "<div>\n",
       "<style scoped>\n",
       "    .dataframe tbody tr th:only-of-type {\n",
       "        vertical-align: middle;\n",
       "    }\n",
       "\n",
       "    .dataframe tbody tr th {\n",
       "        vertical-align: top;\n",
       "    }\n",
       "\n",
       "    .dataframe thead th {\n",
       "        text-align: right;\n",
       "    }\n",
       "</style>\n",
       "<table border=\"1\" class=\"dataframe\">\n",
       "  <thead>\n",
       "    <tr style=\"text-align: right;\">\n",
       "      <th></th>\n",
       "      <th>Signal</th>\n",
       "      <th>Index</th>\n",
       "      <th>PWL</th>\n",
       "    </tr>\n",
       "  </thead>\n",
       "  <tbody>\n",
       "    <tr>\n",
       "      <th>0</th>\n",
       "      <td>WL_FC1_0</td>\n",
       "      <td>0</td>\n",
       "      <td>pwl(time, 0us, 0V, 5us, 1.50V, 100us, 1.50V, 1...</td>\n",
       "    </tr>\n",
       "    <tr>\n",
       "      <th>1</th>\n",
       "      <td>WL_FC1_1</td>\n",
       "      <td>1</td>\n",
       "      <td>pwl(time, 0us, 0V, 5us, 0.50V, 100us, 0.50V, 1...</td>\n",
       "    </tr>\n",
       "    <tr>\n",
       "      <th>2</th>\n",
       "      <td>WL_FC1_2</td>\n",
       "      <td>2</td>\n",
       "      <td>pwl(time, 0us, 0V, 5us, 0.50V, 100us, 0.50V, 1...</td>\n",
       "    </tr>\n",
       "    <tr>\n",
       "      <th>3</th>\n",
       "      <td>WL_FC1_3</td>\n",
       "      <td>3</td>\n",
       "      <td>pwl(time, 0us, 0V, 5us, 1.50V, 100us, 1.50V, 1...</td>\n",
       "    </tr>\n",
       "    <tr>\n",
       "      <th>4</th>\n",
       "      <td>WL_FC1_4</td>\n",
       "      <td>4</td>\n",
       "      <td>pwl(time, 0us, 0V, 5us, 0.50V, 100us, 0.50V, 1...</td>\n",
       "    </tr>\n",
       "  </tbody>\n",
       "</table>\n",
       "</div>"
      ],
      "text/plain": [
       "     Signal Index                                                PWL\n",
       "0  WL_FC1_0     0  pwl(time, 0us, 0V, 5us, 1.50V, 100us, 1.50V, 1...\n",
       "1  WL_FC1_1     1  pwl(time, 0us, 0V, 5us, 0.50V, 100us, 0.50V, 1...\n",
       "2  WL_FC1_2     2  pwl(time, 0us, 0V, 5us, 0.50V, 100us, 0.50V, 1...\n",
       "3  WL_FC1_3     3  pwl(time, 0us, 0V, 5us, 1.50V, 100us, 1.50V, 1...\n",
       "4  WL_FC1_4     4  pwl(time, 0us, 0V, 5us, 0.50V, 100us, 0.50V, 1..."
      ]
     },
     "execution_count": 290,
     "metadata": {},
     "output_type": "execute_result"
    }
   ],
   "source": [
    "pwl_data = []\n",
    "\n",
    "for ind, i in enumerate(WL_FC1):\n",
    "    pwl_data.append({\"Signal\": f\"WL_FC1_{ind}\", \"Index\": ind, \"PWL\": pwl(i)})\n",
    "for ind, i in enumerate(BL_FC1):\n",
    "    pwl_data.append({\"Signal\": f\"BL_FC1_{ind}\", \"Index\": ind, \"PWL\": pwl(i)})\n",
    "for ind, i in enumerate(WL_FC2):\n",
    "    pwl_data.append({\"Signal\": f\"WL_FC2_{ind}\", \"Index\": ind, \"PWL\": pwl(i)})\n",
    "for ind, i in enumerate(BL_FC2):\n",
    "    pwl_data.append({\"Signal\": f\"BL_FC2_{ind}\", \"Index\": ind, \"PWL\": pwl(i)})\n",
    "pwl_data.append({\"Signal\": \"Mode\", \"Index\": \"\", \"PWL\": pwl(Mode)})\n",
    "pwl_data.append({\"Signal\": \"Mode_b\", \"Index\": \"\", \"PWL\": pwl(Mode_B)})\n",
    "\n",
    "pwl_data = pd.DataFrame(pwl_data)\n",
    "pwl_data.to_csv(\"pwl_data.csv\", index=False)\n",
    "pwl_data.head()"
   ]
  },
  {
   "cell_type": "code",
   "execution_count": 291,
   "id": "e4d9340e-4d4f-422d-90ed-45cb9e515c5a",
   "metadata": {},
   "outputs": [],
   "source": [
    "def give(i):\n",
    "    print(pwl_data.iloc[i,0])\n",
    "    return pwl_data.iloc[i,2]"
   ]
  },
  {
   "cell_type": "code",
   "execution_count": 292,
   "id": "f2245253-c6e9-404a-a907-a9df1e55a630",
   "metadata": {},
   "outputs": [
    {
     "name": "stdout",
     "output_type": "stream",
     "text": [
      "WL_FC1_0\n"
     ]
    },
    {
     "data": {
      "text/plain": [
       "'pwl(time, 0us, 0V, 5us, 1.50V, 100us, 1.50V, 105us, 0V, 200us, 0V, 205us, 0.50V, 300us, 0.50V, 305us, 0V, 400us, 0V, 405us, 0.50V, 500us, 0.50V, 505us, 0V, 600us, 0V, 605us, 1.50V, 700us, 1.50V, 705us, 0V, 800us, 0V, 805us, 1.50V, 900us, 1.50V, 905us, 0V, 1000us, 0V, 1005us, 0.50V, 1100us, 0.50V, 1105us, 0V, 1200us, 0V, 1205us, 0.50V, 1300us, 0.50V, 1305us, 0V, 1400us, 0V, 1405us, 1.50V, 1500us, 1.50V, 1505us, 0V, 1600us, 0V, 1605us, 0.00V, 1700us, 0.00V, 1705us, 0V, 1800us, 0V, 1805us, 0.00V, 1900us, 0.00V, 1905us, 0V, 2000us, 0V, 2005us, 0.10V, 2100us, 0.10V, 2105us, 0V, 2200us, 0V, 2205us, -0.10V, 2300us, -0.10V, 2305us, 0V, 2400us, 0V, 2405us, -0.10V, 2500us, -0.10V, 2505us, 0V, 2600us, 0V, 2605us, -0.10V, 2700us, -0.10V, 2705us, 0V, 2800us, 0V, 2805us, -0.10V, 2900us, -0.10V, 2905us, 0V, 3000us, 0V, 3005us, 0.10V, 3100us, 0.10V, 3105us, 0V, 3200us, 0V, 3205us, -0.10V, 3300us, -0.10V, 3305us, 0V, 3400us, 0V, 3405us, -0.10V, 3500us, -0.10V, 3505us, 0V, 3600us, 0V)'"
      ]
     },
     "execution_count": 292,
     "metadata": {},
     "output_type": "execute_result"
    }
   ],
   "source": [
    "give(0)"
   ]
  },
  {
   "cell_type": "code",
   "execution_count": 293,
   "id": "2f36bea1-2e62-4f52-9e1e-46fe20a9f367",
   "metadata": {},
   "outputs": [
    {
     "name": "stdout",
     "output_type": "stream",
     "text": [
      "BL_FC1_0\n"
     ]
    },
    {
     "data": {
      "text/plain": [
       "'pwl(time, 0us, 0V, 5us, 0.00V, 100us, 0.00V, 105us, 0V, 200us, 0V, 205us, 1.00V, 300us, 1.00V, 305us, 0V, 400us, 0V, 405us, 1.00V, 500us, 1.00V, 505us, 0V, 600us, 0V, 605us, 1.00V, 700us, 1.00V, 705us, 0V, 800us, 0V, 805us, 1.00V, 900us, 1.00V, 905us, 0V, 1000us, 0V, 1005us, 1.00V, 1100us, 1.00V, 1105us, 0V, 1200us, 0V, 1205us, 1.00V, 1300us, 1.00V, 1305us, 0V, 1400us, 0V, 1405us, 1.00V, 1500us, 1.00V, 1505us, 0V, 1600us, 0V, 1605us, 0.00V, 1700us, 0.00V, 1705us, 0V, 1800us, 0V, 1805us, 0.00V, 1900us, 0.00V, 1905us, 0V, 2000us, 0V, 2005us, 0.00V, 2100us, 0.00V, 2105us, 0V, 2200us, 0V, 2205us, 0.00V, 2300us, 0.00V, 2305us, 0V, 2400us, 0V, 2405us, 0.00V, 2500us, 0.00V, 2505us, 0V, 2600us, 0V, 2605us, 0.00V, 2700us, 0.00V, 2705us, 0V, 2800us, 0V, 2805us, 0.00V, 2900us, 0.00V, 2905us, 0V, 3000us, 0V, 3005us, 0.00V, 3100us, 0.00V, 3105us, 0V, 3200us, 0V, 3205us, 0.00V, 3300us, 0.00V, 3305us, 0V, 3400us, 0V, 3405us, 0.00V, 3500us, 0.00V, 3505us, 0V, 3600us, 0V)'"
      ]
     },
     "execution_count": 293,
     "metadata": {},
     "output_type": "execute_result"
    }
   ],
   "source": [
    "give(16)"
   ]
  },
  {
   "cell_type": "code",
   "execution_count": 294,
   "id": "7f187629-8b4f-445a-8b45-839202f332ac",
   "metadata": {},
   "outputs": [
    {
     "name": "stdout",
     "output_type": "stream",
     "text": [
      "WL_FC2_0\n"
     ]
    },
    {
     "data": {
      "text/plain": [
       "'pwl(time, 0us, 0V, 5us, 1.50V, 100us, 1.50V, 105us, 0V, 200us, 0V, 205us, 1.50V, 300us, 1.50V, 305us, 0V, 400us, 0V, 405us, 1.50V, 500us, 1.50V, 505us, 0V, 600us, 0V, 605us, 1.50V, 700us, 1.50V, 705us, 0V, 800us, 0V, 805us, 0.00V, 900us, 0.00V, 905us, 0V, 1000us, 0V, 1005us, 0.00V, 1100us, 0.00V, 1105us, 0V, 1200us, 0V, 1205us, 0.00V, 1300us, 0.00V, 1305us, 0V, 1400us, 0V, 1405us, 0.00V, 1500us, 0.00V, 1505us, 0V, 1600us, 0V, 1605us, 0.00V, 1700us, 0.00V, 1705us, 0V, 1800us, 0V, 1805us, 0.00V, 1900us, 0.00V, 1905us, 0V, 2000us, 0V, 2005us, 0.00V, 2100us, 0.00V, 2105us, 0V, 2200us, 0V, 2205us, 0.00V, 2300us, 0.00V, 2305us, 0V, 2400us, 0V, 2405us, 0.00V, 2500us, 0.00V, 2505us, 0V, 2600us, 0V, 2605us, 0.00V, 2700us, 0.00V, 2705us, 0V, 2800us, 0V, 2805us, 0.00V, 2900us, 0.00V, 2905us, 0V, 3000us, 0V, 3005us, 0.00V, 3100us, 0.00V, 3105us, 0V, 3200us, 0V, 3205us, 0.00V, 3300us, 0.00V, 3305us, 0V, 3400us, 0V, 3405us, 0.00V, 3500us, 0.00V, 3505us, 0V, 3600us, 0V)'"
      ]
     },
     "execution_count": 294,
     "metadata": {},
     "output_type": "execute_result"
    }
   ],
   "source": [
    "give(24)"
   ]
  },
  {
   "cell_type": "code",
   "execution_count": 295,
   "id": "e7d08aa4-5e2e-422e-8069-3a49f2117d76",
   "metadata": {},
   "outputs": [
    {
     "name": "stdout",
     "output_type": "stream",
     "text": [
      "WL_FC2_1\n"
     ]
    },
    {
     "data": {
      "text/plain": [
       "'pwl(time, 0us, 0V, 5us, 1.50V, 100us, 1.50V, 105us, 0V, 200us, 0V, 205us, 0.50V, 300us, 0.50V, 305us, 0V, 400us, 0V, 405us, 0.50V, 500us, 0.50V, 505us, 0V, 600us, 0V, 605us, 0.50V, 700us, 0.50V, 705us, 0V, 800us, 0V, 805us, 0.00V, 900us, 0.00V, 905us, 0V, 1000us, 0V, 1005us, 0.00V, 1100us, 0.00V, 1105us, 0V, 1200us, 0V, 1205us, 0.00V, 1300us, 0.00V, 1305us, 0V, 1400us, 0V, 1405us, 0.00V, 1500us, 0.00V, 1505us, 0V, 1600us, 0V, 1605us, 0.00V, 1700us, 0.00V, 1705us, 0V, 1800us, 0V, 1805us, 0.00V, 1900us, 0.00V, 1905us, 0V, 2000us, 0V, 2005us, 0.00V, 2100us, 0.00V, 2105us, 0V, 2200us, 0V, 2205us, 0.00V, 2300us, 0.00V, 2305us, 0V, 2400us, 0V, 2405us, 0.00V, 2500us, 0.00V, 2505us, 0V, 2600us, 0V, 2605us, 0.00V, 2700us, 0.00V, 2705us, 0V, 2800us, 0V, 2805us, 0.00V, 2900us, 0.00V, 2905us, 0V, 3000us, 0V, 3005us, 0.00V, 3100us, 0.00V, 3105us, 0V, 3200us, 0V, 3205us, 0.00V, 3300us, 0.00V, 3305us, 0V, 3400us, 0V, 3405us, 0.00V, 3500us, 0.00V, 3505us, 0V, 3600us, 0V)'"
      ]
     },
     "execution_count": 295,
     "metadata": {},
     "output_type": "execute_result"
    }
   ],
   "source": [
    "give(25)"
   ]
  },
  {
   "cell_type": "code",
   "execution_count": 296,
   "id": "5d52748e-bb2a-4750-992c-3fea17cb4845",
   "metadata": {},
   "outputs": [
    {
     "name": "stdout",
     "output_type": "stream",
     "text": [
      "BL_FC2_0\n"
     ]
    },
    {
     "data": {
      "text/plain": [
       "'pwl(time, 0us, 0V, 5us, 0.00V, 100us, 0.00V, 105us, 0V, 200us, 0V, 205us, 1.00V, 300us, 1.00V, 305us, 0V, 400us, 0V, 405us, 1.00V, 500us, 1.00V, 505us, 0V, 600us, 0V, 605us, 1.00V, 700us, 1.00V, 705us, 0V, 800us, 0V, 805us, 0.00V, 900us, 0.00V, 905us, 0V, 1000us, 0V, 1005us, 0.00V, 1100us, 0.00V, 1105us, 0V, 1200us, 0V, 1205us, 0.00V, 1300us, 0.00V, 1305us, 0V, 1400us, 0V, 1405us, 0.00V, 1500us, 0.00V, 1505us, 0V, 1600us, 0V, 1605us, 0.00V, 1700us, 0.00V, 1705us, 0V, 1800us, 0V, 1805us, 0.00V, 1900us, 0.00V, 1905us, 0V, 2000us, 0V, 2005us, 0.00V, 2100us, 0.00V, 2105us, 0V, 2200us, 0V, 2205us, 0.00V, 2300us, 0.00V, 2305us, 0V, 2400us, 0V, 2405us, 0.00V, 2500us, 0.00V, 2505us, 0V, 2600us, 0V, 2605us, 0.00V, 2700us, 0.00V, 2705us, 0V, 2800us, 0V, 2805us, 0.00V, 2900us, 0.00V, 2905us, 0V, 3000us, 0V, 3005us, 0.00V, 3100us, 0.00V, 3105us, 0V, 3200us, 0V, 3205us, 0.00V, 3300us, 0.00V, 3305us, 0V, 3400us, 0V, 3405us, 0.00V, 3500us, 0.00V, 3505us, 0V, 3600us, 0V)'"
      ]
     },
     "execution_count": 296,
     "metadata": {},
     "output_type": "execute_result"
    }
   ],
   "source": [
    "give(32)"
   ]
  },
  {
   "cell_type": "code",
   "execution_count": 297,
   "id": "1f364852-3cfa-4f1a-aa0f-0817f1a4ccb1",
   "metadata": {},
   "outputs": [
    {
     "name": "stdout",
     "output_type": "stream",
     "text": [
      "Mode\n"
     ]
    },
    {
     "data": {
      "text/plain": [
       "'pwl(time, 0us, 0V, 5us, 1.20V, 100us, 1.20V, 105us, 0V, 200us, 0V, 205us, 1.20V, 300us, 1.20V, 305us, 0V, 400us, 0V, 405us, 1.20V, 500us, 1.20V, 505us, 0V, 600us, 0V, 605us, 1.20V, 700us, 1.20V, 705us, 0V, 800us, 0V, 805us, 1.20V, 900us, 1.20V, 905us, 0V, 1000us, 0V, 1005us, 1.20V, 1100us, 1.20V, 1105us, 0V, 1200us, 0V, 1205us, 1.20V, 1300us, 1.20V, 1305us, 0V, 1400us, 0V, 1405us, 1.20V, 1500us, 1.20V, 1505us, 0V, 1600us, 0V, 1605us, 1.20V, 1700us, 1.20V, 1705us, 0V, 1800us, 0V, 1805us, -1.20V, 1900us, -1.20V, 1905us, 0V, 2000us, 0V, 2005us, -1.20V, 2100us, -1.20V, 2105us, 0V, 2200us, 0V, 2205us, -1.20V, 2300us, -1.20V, 2305us, 0V, 2400us, 0V, 2405us, -1.20V, 2500us, -1.20V, 2505us, 0V, 2600us, 0V, 2605us, -1.20V, 2700us, -1.20V, 2705us, 0V, 2800us, 0V, 2805us, -1.20V, 2900us, -1.20V, 2905us, 0V, 3000us, 0V, 3005us, -1.20V, 3100us, -1.20V, 3105us, 0V, 3200us, 0V, 3205us, -1.20V, 3300us, -1.20V, 3305us, 0V, 3400us, 0V, 3405us, -1.20V, 3500us, -1.20V, 3505us, 0V, 3600us, 0V)'"
      ]
     },
     "execution_count": 297,
     "metadata": {},
     "output_type": "execute_result"
    }
   ],
   "source": [
    "give(36)"
   ]
  },
  {
   "cell_type": "code",
   "execution_count": 298,
   "id": "d18c198b-ff0f-4df6-9ce8-b5292d770664",
   "metadata": {},
   "outputs": [
    {
     "name": "stdout",
     "output_type": "stream",
     "text": [
      "Mode_b\n"
     ]
    },
    {
     "data": {
      "text/plain": [
       "'pwl(time, 0us, 0V, 5us, -1.20V, 100us, -1.20V, 105us, 0V, 200us, 0V, 205us, -1.20V, 300us, -1.20V, 305us, 0V, 400us, 0V, 405us, -1.20V, 500us, -1.20V, 505us, 0V, 600us, 0V, 605us, -1.20V, 700us, -1.20V, 705us, 0V, 800us, 0V, 805us, -1.20V, 900us, -1.20V, 905us, 0V, 1000us, 0V, 1005us, -1.20V, 1100us, -1.20V, 1105us, 0V, 1200us, 0V, 1205us, -1.20V, 1300us, -1.20V, 1305us, 0V, 1400us, 0V, 1405us, -1.20V, 1500us, -1.20V, 1505us, 0V, 1600us, 0V, 1605us, -1.20V, 1700us, -1.20V, 1705us, 0V, 1800us, 0V, 1805us, 1.20V, 1900us, 1.20V, 1905us, 0V, 2000us, 0V, 2005us, 1.20V, 2100us, 1.20V, 2105us, 0V, 2200us, 0V, 2205us, 1.20V, 2300us, 1.20V, 2305us, 0V, 2400us, 0V, 2405us, 1.20V, 2500us, 1.20V, 2505us, 0V, 2600us, 0V, 2605us, 1.20V, 2700us, 1.20V, 2705us, 0V, 2800us, 0V, 2805us, 1.20V, 2900us, 1.20V, 2905us, 0V, 3000us, 0V, 3005us, 1.20V, 3100us, 1.20V, 3105us, 0V, 3200us, 0V, 3205us, 1.20V, 3300us, 1.20V, 3305us, 0V, 3400us, 0V, 3405us, 1.20V, 3500us, 1.20V, 3505us, 0V, 3600us, 0V)'"
      ]
     },
     "execution_count": 298,
     "metadata": {},
     "output_type": "execute_result"
    }
   ],
   "source": [
    "give(37)"
   ]
  },
  {
   "cell_type": "code",
   "execution_count": null,
   "id": "c798d889-3ed7-4ef2-bc2c-57f00b8ae258",
   "metadata": {},
   "outputs": [],
   "source": []
  }
 ],
 "metadata": {
  "kernelspec": {
   "display_name": "Python 3 (ipykernel)",
   "language": "python",
   "name": "python3"
  },
  "language_info": {
   "codemirror_mode": {
    "name": "ipython",
    "version": 3
   },
   "file_extension": ".py",
   "mimetype": "text/x-python",
   "name": "python",
   "nbconvert_exporter": "python",
   "pygments_lexer": "ipython3",
   "version": "3.10.5"
  }
 },
 "nbformat": 4,
 "nbformat_minor": 5
}
