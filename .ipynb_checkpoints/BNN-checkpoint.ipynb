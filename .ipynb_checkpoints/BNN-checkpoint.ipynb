{
 "cells": [
  {
   "cell_type": "markdown",
   "id": "141370fc-54a4-4a6b-afcf-a7677dc6dc87",
   "metadata": {},
   "source": [
    "# Training of a Soft-Binarized Neural Network for CMOS RRAM Crossbar\n",
    " We introduce a new concept of Soft-Binarization during training. We approximate the ON state of the RRAM memory cell to be roughly of the conductance of G_ON always (valid upto a small signal limit). We train a neural network ex-situ while modelling this binary behaviour in the training phase itself.\n",
    "\n",
    "Binarizing Weights will cause backpropagation to fail. While using a Straight-Through-Estimator is one option, we can just model a **\"Soft Binarization\"** with a Sigmoid or a Tanh instead. Thus we apply a Binarization to the weights during the forward pass, and let PyTorch compute the gradients in the backward pass and update the weights. This way, when we program the physical RRAM array, there is minimal deviation from what the training achieved"
   ]
  },
  {
   "cell_type": "code",
   "execution_count": 2,
   "id": "9a70e539-1dc9-4e36-9c9f-18fbdaeede1f",
   "metadata": {},
   "outputs": [],
   "source": [
    "import numpy as np\n",
    "import torch\n",
    "import cv2 as cv\n",
    "import matplotlib.pyplot as plt\n",
    "import torch\n",
    "import torch.nn as nn\n",
    "import torch.optim as optim\n",
    "import torch.nn.functional as F\n",
    "from torch.utils.data import Dataset, DataLoader\n",
    "import os\n",
    "from torchinfo import summary\n",
    "import ast\n",
    "import pandas as pd"
   ]
  },
  {
   "cell_type": "code",
   "execution_count": 3,
   "id": "d406d54c-db27-4536-a8c1-f46437f6fb71",
   "metadata": {},
   "outputs": [],
   "source": [
    "def plot_history(history, num_epochs, element):\n",
    "    epochs = range(len(history[list(history.keys())[0]]))\n",
    "    \n",
    "    fig, ax1 = plt.subplots(figsize=(12, 8))\n",
    "    \n",
    "    ax1.plot(epochs, history[\"train_loss\"], label=\"Train Loss\", color=\"blue\")\n",
    "    ax1.plot(epochs, history[\"val_loss\"], label=\"Validation Loss\", color=\"red\")\n",
    "    ax1.set_xlabel(\"Epochs\", fontsize=14)\n",
    "    ax1.set_ylabel(\"Loss\", fontsize=14, color=\"blue\")\n",
    "    ax1.tick_params(axis=\"y\", labelcolor=\"blue\")\n",
    "    ax1.legend(loc=\"upper left\")\n",
    "    ax1.grid(True)\n",
    "\n",
    "    ax2 = ax1.twinx()\n",
    "    ax2.plot(epochs, history[\"train_accuracy\"], label=\"Train Accuracy\", color=\"green\")\n",
    "    ax2.plot(epochs, history[\"val_accuracy\"], label=\"Validation Accuracy\", color=\"orange\")\n",
    "    ax2.set_ylabel(\"Accuracy (%)\", fontsize=14, color=\"green\")\n",
    "    ax2.tick_params(axis=\"y\", labelcolor=\"green\")\n",
    "    ax2.legend(loc=\"upper right\")\n",
    "\n",
    "    plt.title(f\"Training and Validation Metrics for {element}\", fontsize=16)\n",
    "    plt.tight_layout()\n",
    "    plt.show()"
   ]
  },
  {
   "cell_type": "markdown",
   "id": "ff2d9989-c0ba-4636-baae-1f3094a3be20",
   "metadata": {},
   "source": [
    "## Data-set Preparation"
   ]
  },
  {
   "cell_type": "code",
   "execution_count": 4,
   "id": "63283303-5d50-461f-8786-9174578e5009",
   "metadata": {},
   "outputs": [],
   "source": [
    "A_true = np.array([\n",
    "    [[0,1,1,0], [1,0,0,1], [1,1,1,1], [1,0,0,1]], \n",
    "    [[1,1,1,1], [1,0,0,1], [1,1,1,1], [1,0,0,1]], \n",
    "    [[0,1,1,0], [1,0,0,1], [1,1,1,1], [0,0,0,1]],\n",
    "    [[1,1,1,1], [1,0,0,1], [1,1,1,1], [0,0,0,1]],\n",
    "    [[0,1,1,0], [1,0,0,1], [1,1,1,1], [1,0,0,0]],\n",
    "    [[1,1,1,1], [1,0,0,1], [1,1,1,1], [1,0,0,0]],\n",
    "    [[0,1,0,0], [1,0,1,0], [1,1,1,0], [1,0,1,0]],\n",
    "    [[0,0,1,0], [0,1,0,1], [0,1,1,1], [0,1,0,1]],\n",
    "    [[1,1,1,0], [1,0,1,0], [1,1,1,0], [1,0,1,0]],\n",
    "    [[0,1,1,1], [0,1,0,1], [0,1,1,1], [0,1,0,1]]])\n",
    "\n",
    "T_true = np.array([\n",
    "    [[1,1,1,1], [0,1,0,0], [0,1,0,0], [0,1,0,0]],\n",
    "    [[1,1,1,1], [0,0,1,0], [0,0,1,0], [0,0,1,0]],\n",
    "    [[1,1,1,0], [0,1,0,0], [0,1,0,0], [0,1,0,0]],\n",
    "    [[0,1,1,1], [0,0,1,0], [0,0,1,0], [0,0,1,0]],\n",
    "    [[1,1,1,1], [0,1,0,0], [0,1,0,0], [0,0,0,0]],\n",
    "    [[1,1,1,1], [0,0,1,0], [0,0,1,0], [0,0,0,0]],\n",
    "    [[1,1,1,0], [0,1,0,0], [0,1,0,0], [0,0,0,0]],\n",
    "    [[0,1,1,1], [0,0,1,0], [0,0,1,0], [0,0,0,0]],\n",
    "    [[0,0,0,0], [1,1,1,0], [0,1,0,0], [0,1,0,0]],\n",
    "    [[0,0,0,0], [0,1,1,1], [0,0,1,0], [0,0,1,0]]])\n",
    "\n",
    "V_true = np.array([\n",
    "    [[1,0,0,1], [1,0,0,1], [1,0,0,1], [1,1,1,1]],\n",
    "    [[1,0,0,1], [1,0,0,1], [1,0,0,1], [0,1,1,0]],\n",
    "    [[1,0,1,0], [1,0,1,0], [1,0,1,0], [0,1,0,0]],\n",
    "    [[0,1,0,1], [0,1,0,1], [0,1,0,1], [0,0,1,0]],\n",
    "    [[0,0,0,0], [1,0,0,1], [1,0,0,1], [0,1,1,0]],\n",
    "    [[0,0,0,0], [1,0,1,0], [1,0,1,0], [0,1,0,0]],\n",
    "    [[0,0,0,0], [0,1,0,1], [0,1,0,1], [0,0,1,0]],\n",
    "    [[1,0,1,0], [1,0,1,0], [0,1,0,0], [0,0,0,0]],\n",
    "    [[0,1,0,1], [0,1,0,1], [0,0,1,0], [0,0,0,0]],\n",
    "    [[1,0,0,1], [1,0,0,1], [0,1,1,0], [0,0,0,0]]])\n",
    "\n",
    "X_true = np.array([\n",
    "    [[1,0,1,0], [0,1,0,0], [1,0,1,0], [0,0,0,0]],\n",
    "    [[0,0,0,0], [0,1,0,1], [0,0,1,0], [0,1,0,1]],\n",
    "    [[0,0,0,0], [1,0,1,0], [0,1,0,0], [1,0,1,0]],\n",
    "    [[0,1,0,1], [0,0,1,0], [0,1,0,1], [0,0,0,0]],\n",
    "    [[1,0,1,0], [0,1,0,0], [1,0,1,0], [0,0,0,1]],\n",
    "    [[1,0,0,0], [0,1,0,1], [0,0,1,0], [0,1,0,1]],\n",
    "    [[0,0,0,1], [1,0,1,0], [0,1,0,0], [1,0,1,0]],\n",
    "    [[0,1,0,1], [0,0,1,0], [0,1,0,1], [1,0,0,0]],\n",
    "    [[0,1,0,1], [0,0,1,0], [0,1,0,1], [0,1,0,1]],\n",
    "    [[1,0,1,0], [1,0,1,0], [0,1,0,0], [1,0,1,0]]])"
   ]
  },
  {
   "cell_type": "code",
   "execution_count": 5,
   "id": "98cb8497-ca3b-4921-a4f2-37d0f8d8b847",
   "metadata": {},
   "outputs": [
    {
     "data": {
      "image/png": "[encoded data removed]",
      "text/plain": [
       "<Figure size 1500x1000 with 40 Axes>"
      ]
     },
     "metadata": {},
     "output_type": "display_data"
    }
   ],
   "source": [
    "total_subplots = 4 * len(A_true)\n",
    "fig, axes = plt.subplots(4, len(A_true), figsize=(15, 10))\n",
    "fig.suptitle(\"Visualizations of A_true, T_true, V_true, and X_true\", fontsize=16)\n",
    "\n",
    "data_arrays = {\"A\": A_true, \"X\": X_true, \"V\": V_true, \"T\": T_true}\n",
    "\n",
    "for row, (name, array) in enumerate(data_arrays.items()):\n",
    "    for col in range(array.shape[0]):\n",
    "        ax = axes[row, col]\n",
    "        ax.imshow(1 - array[col], cmap=\"gray\")\n",
    "        ax.axis('off')\n",
    "        if col == 0:\n",
    "            ax.set_ylabel(name, fontsize=12)\n",
    "        if row == len(data_arrays) - 1:\n",
    "            ax.set_xlabel(f\"Slice {col+1}\", fontsize=10)\n",
    "\n",
    "plt.tight_layout()\n",
    "plt.subplots_adjust(top=0.9)  # Adjust space for the suptitle\n",
    "plt.show()"
   ]
  },
  {
   "cell_type": "markdown",
   "id": "522f1f36-9133-4ffd-add1-679bc0e15d82",
   "metadata": {},
   "source": [
    "### Validation Set"
   ]
  },
  {
   "cell_type": "code",
   "execution_count": 6,
   "id": "ebeb695d-a157-46d7-8003-20077ddd95fa",
   "metadata": {},
   "outputs": [
    {
     "data": {
      "text/plain": [
       "tensor([0, 0, 0, 0, 0, 0, 0, 0, 0, 0, 0, 0, 0, 0, 0, 0, 0, 0, 0, 0, 0, 0, 0, 0,\n",
       "        0, 0, 0, 0, 0, 0, 0, 0, 0, 0, 0, 0, 0, 0, 0, 0, 0, 0, 0, 0, 0, 0, 0, 0,\n",
       "        0, 0, 0, 0, 0, 0, 0, 0, 0, 0, 0, 0, 0, 0, 0, 0, 0, 0, 0, 0, 0, 0, 0, 0,\n",
       "        0, 0, 0, 0, 0, 0, 0, 0, 0, 0, 0, 0, 0, 0, 0, 0, 0, 0, 0, 0, 0, 0, 0, 0,\n",
       "        0, 0, 0, 0, 0, 0, 0, 0, 0, 0, 0, 0, 0, 0, 0, 0, 0, 0, 0, 0, 0, 0, 0, 0,\n",
       "        0, 0, 0, 0, 0, 0, 0, 0, 0, 0, 0, 0, 0, 0, 0, 0, 0, 0, 0, 0, 0, 0, 0, 0,\n",
       "        0, 0, 0, 0, 0, 0, 0, 0, 0, 0, 0, 0, 0, 0, 0, 0, 1, 1, 1, 1, 1, 1, 1, 1,\n",
       "        1, 1, 1, 1, 1, 1, 1, 1, 1, 1, 1, 1, 1, 1, 1, 1, 1, 1, 1, 1, 1, 1, 1, 1,\n",
       "        1, 1, 1, 1, 1, 1, 1, 1, 1, 1, 1, 1, 1, 1, 1, 1, 1, 1, 1, 1, 1, 1, 1, 1,\n",
       "        1, 1, 1, 1, 1, 1, 1, 1, 1, 1, 1, 1, 1, 1, 1, 1, 1, 1, 1, 1, 1, 1, 1, 1,\n",
       "        1, 1, 1, 1, 1, 1, 1, 1, 1, 1, 1, 1, 1, 1, 1, 1, 1, 1, 1, 1, 1, 1, 1, 1,\n",
       "        1, 1, 1, 1, 1, 1, 1, 1, 1, 1, 1, 1, 1, 1, 1, 1, 1, 1, 1, 1, 1, 1, 1, 1,\n",
       "        1, 1, 1, 1, 1, 1, 1, 1, 1, 1, 1, 1, 1, 1, 1, 1, 1, 1, 1, 1, 1, 1, 1, 1,\n",
       "        1, 1, 1, 1, 1, 1, 1, 1, 2, 2, 2, 2, 2, 2, 2, 2, 2, 2, 2, 2, 2, 2, 2, 2,\n",
       "        2, 2, 2, 2, 2, 2, 2, 2, 2, 2, 2, 2, 2, 2, 2, 2, 2, 2, 2, 2, 2, 2, 2, 2,\n",
       "        2, 2, 2, 2, 2, 2, 2, 2, 2, 2, 2, 2, 2, 2, 2, 2, 2, 2, 2, 2, 2, 2, 2, 2,\n",
       "        2, 2, 2, 2, 2, 2, 2, 2, 2, 2, 2, 2, 2, 2, 2, 2, 2, 2, 2, 2, 2, 2, 2, 2,\n",
       "        2, 2, 2, 2, 2, 2, 2, 2, 2, 2, 2, 2, 2, 2, 2, 2, 2, 2, 2, 2, 2, 2, 2, 2,\n",
       "        2, 2, 2, 2, 2, 2, 2, 2, 2, 2, 2, 2, 2, 2, 2, 2, 2, 2, 2, 2, 2, 2, 2, 2,\n",
       "        2, 2, 2, 2, 2, 2, 2, 2, 2, 2, 2, 2, 2, 2, 2, 2, 2, 2, 2, 2, 2, 2, 2, 2,\n",
       "        3, 3, 3, 3, 3, 3, 3, 3, 3, 3, 3, 3, 3, 3, 3, 3, 3, 3, 3, 3, 3, 3, 3, 3,\n",
       "        3, 3, 3, 3, 3, 3, 3, 3, 3, 3, 3, 3, 3, 3, 3, 3, 3, 3, 3, 3, 3, 3, 3, 3,\n",
       "        3, 3, 3, 3, 3, 3, 3, 3, 3, 3, 3, 3, 3, 3, 3, 3, 3, 3, 3, 3, 3, 3, 3, 3,\n",
       "        3, 3, 3, 3, 3, 3, 3, 3, 3, 3, 3, 3, 3, 3, 3, 3, 3, 3, 3, 3, 3, 3, 3, 3,\n",
       "        3, 3, 3, 3, 3, 3, 3, 3, 3, 3, 3, 3, 3, 3, 3, 3, 3, 3, 3, 3, 3, 3, 3, 3,\n",
       "        3, 3, 3, 3, 3, 3, 3, 3, 3, 3, 3, 3, 3, 3, 3, 3, 3, 3, 3, 3, 3, 3, 3, 3,\n",
       "        3, 3, 3, 3, 3, 3, 3, 3, 3, 3, 3, 3, 3, 3, 3, 3])"
      ]
     },
     "execution_count": 6,
     "metadata": {},
     "output_type": "execute_result"
    }
   ],
   "source": [
    "AUG = np.zeros((4, 160, 4, 4), dtype=np.uint8)\n",
    "for idx, data in enumerate([A_true, T_true, V_true, X_true]):\n",
    "    for sample in range(10):\n",
    "        AUG[idx][sample * 16:(sample + 1) * 16] = data[sample]\n",
    "        for i in range(4):\n",
    "            for j in range(4):\n",
    "                AUG[idx][sample * 16 + 4 * i + j][i][j] ^= 1  # Flip bits (abs(x-1))\n",
    "\n",
    "A_AUG, T_AUG, V_AUG, X_AUG = AUG\n",
    "\n",
    "val_inputs = torch.tensor(np.concatenate([A_AUG, X_AUG, V_AUG, T_AUG]), dtype=torch.float32)\n",
    "val_labels = torch.tensor(\n",
    "    np.concatenate([[i] * len(AUG[i]) for i in range(4)]), dtype=torch.long\n",
    ")\n",
    "val_labels"
   ]
  },
  {
   "cell_type": "markdown",
   "id": "cdd218be-ce0d-41c2-b05e-01b77d12b183",
   "metadata": {},
   "source": [
    "### Training Set"
   ]
  },
  {
   "cell_type": "code",
   "execution_count": 7,
   "id": "2dfed2a4-e156-4826-86ac-55a587532935",
   "metadata": {},
   "outputs": [],
   "source": [
    "A_true_tensor = torch.tensor(A_true, dtype=torch.float32)\n",
    "X_true_tensor = torch.tensor(X_true, dtype=torch.float32)\n",
    "V_true_tensor = torch.tensor(V_true, dtype=torch.float32)\n",
    "T_true_tensor = torch.tensor(T_true, dtype=torch.float32)\n",
    "\n",
    "train_inputs = torch.cat([A_true_tensor, X_true_tensor, V_true_tensor, T_true_tensor], dim=0)\n",
    "\n",
    "num_samples_per_category = len(A_true)\n",
    "train_labels = torch.cat([\n",
    "    torch.full((num_samples_per_category,), 0, dtype=torch.long),\n",
    "    torch.full((num_samples_per_category,), 1, dtype=torch.long),\n",
    "    torch.full((num_samples_per_category,), 2, dtype=torch.long),\n",
    "    torch.full((num_samples_per_category,), 3, dtype=torch.long),\n",
    "])"
   ]
  },
  {
   "cell_type": "code",
   "execution_count": 8,
   "id": "ade5cede-03aa-4b8a-b0dd-723020da3397",
   "metadata": {},
   "outputs": [
    {
     "data": {
      "text/plain": [
       "tensor([0, 0, 0, 0, 0, 0, 0, 0, 0, 0, 1, 1, 1, 1, 1, 1, 1, 1, 1, 1, 2, 2, 2, 2,\n",
       "        2, 2, 2, 2, 2, 2, 3, 3, 3, 3, 3, 3, 3, 3, 3, 3])"
      ]
     },
     "execution_count": 8,
     "metadata": {},
     "output_type": "execute_result"
    }
   ],
   "source": [
    "train_labels"
   ]
  },
  {
   "cell_type": "code",
   "execution_count": 9,
   "id": "883a7ffa-ee92-412a-909e-a2b37383ad00",
   "metadata": {},
   "outputs": [],
   "source": [
    "def tensor_stats(tensor, name=\"Tensor\"):\n",
    "    mean_magnitude = tensor.abs().mean().item()\n",
    "    print(f\"{name} - Mean Magnitude: {mean_magnitude:.2e}, Max: {tensor.max().item():.2e}, Min: {tensor.min().item():.2e}\")"
   ]
  },
  {
   "cell_type": "markdown",
   "id": "862bf296-acc5-4591-9e0e-253ba50b7f5d",
   "metadata": {},
   "source": [
    "## Custom Neural Network\n",
    "\n",
    "1. **RRAMs/FeFETs** have only ON and OFF states that can be reliably controlled. A Sigmoid Function can be used to approximate this Binary behaviour. Hence we apply a Sigmoid on all weights before using them in the Fully Connected Layer. **G_ON** and **G_OFF** are the limits of this Sigmoid, where we approximate all ON RRAMs/FeFETs to have a conductance of G_ON and similarly for G_OFF.\n",
    "2. Every Crossbar must be followed by an **Opamp or an Inverter** that is connect in Negative Feedback so that the Current Mode signal is converted to a Voltage mode. This also serves as the activation function. This again is a Sigmoid/Tanh, where the slope at the centre is the Feedback Resistance of the Amplifier **R_INV** and the Rails are limited by **V_INV**.\n",
    "3. The input voltages are given by **V_1** which corresponds to the reading voltage and **V_0** which corresponds to the OFF voltage (=0)"
   ]
  },
  {
   "cell_type": "code",
   "execution_count": 10,
   "id": "36bb1ecb-9ef9-4cff-ba96-cb559972a1a4",
   "metadata": {},
   "outputs": [],
   "source": [
    "class BinaryNeuralNetwork(nn.Module):\n",
    "    def __init__(self, G_ON, G_OFF, V_INV, R_INV, R_INV2, V_1, V_0, sharpness, initial_factor, h_layer = 8, verbose = False, monitor = True, p = 0.2):\n",
    "        super(BinaryNeuralNetwork, self).__init__()\n",
    "        \n",
    "        self.w1 = nn.Parameter(torch.empty(h_layer, 16))\n",
    "        self.w2 = nn.Parameter(torch.empty(4, h_layer))\n",
    "        nn.init.xavier_uniform_(self.w1)\n",
    "        nn.init.xavier_uniform_(self.w2)\n",
    "\n",
    "        self.G_ON = G_ON\n",
    "        self.G_OFF = G_OFF\n",
    "        self.V_INV = V_INV\n",
    "        self.R_INV = R_INV\n",
    "        self.R_INV2 = R_INV2\n",
    "        self.V_1 = V_1\n",
    "        self.V_0 = V_0\n",
    "\n",
    "        self.sharpness = sharpness\n",
    "\n",
    "        self.w1.data = initial_factor*self.w1\n",
    "        self.w2.data = initial_factor*self.w2\n",
    "\n",
    "        self.verbose = verbose\n",
    "        self.monitor = monitor\n",
    "\n",
    "        self.dropout = nn.Dropout(p=p)\n",
    "    \n",
    "    def forward(self, x):\n",
    "        # Preprocessing: Two States of input (V_ON and V_OFF)\n",
    "        x = (self.V_1 - self.V_0) * x.view(x.size(0), -1) + self.V_0\n",
    "\n",
    "        # RRAM Soft Binarization\n",
    "        g1 = ((self.G_ON - self.G_OFF) * torch.sigmoid(self.w1 * self.sharpness) + self.G_OFF).to(x.device)\n",
    "        g2 = ((self.G_ON - self.G_OFF) * torch.sigmoid(self.w2 * self.sharpness) + self.G_OFF).to(x.device)\n",
    "        \n",
    "        if self.verbose:\n",
    "            tensor_stats(self.w1, \"\\nLatent Weights FC1\")\n",
    "            tensor_stats(self.w2, \"Latent Weights FC2\")\n",
    "            tensor_stats(g1, \"\\nSoft Binarized Weights FC1\")\n",
    "            tensor_stats(g2, \"Soft Binarized FC2\")\n",
    "        \n",
    "        # Action of the Crossbar 1 \n",
    "        x = F.linear(x, g1)\n",
    "        if self.verbose: tensor_stats(x, \"\\nCurrents after Crossbar 1\")\n",
    "        \n",
    "        # Action of Inverting Amplifier\n",
    "        x = -self.V_INV * torch.tanh(self.R_INV * x / self.V_INV)\n",
    "        if self.monitor: tensor_stats(x, \"Voltage after Inv Amp 1\")\n",
    "\n",
    "        x = self.dropout(x)\n",
    "        \n",
    "        # Action of Crossbar 2\n",
    "        x = F.linear(x, g2)\n",
    "        if self.verbose: tensor_stats(x, \"\\nCurrents after Crossbar 2\")\n",
    "        \n",
    "        # Action of Inverting Amplifier\n",
    "        x = -self.V_INV * torch.tanh(self.R_INV2 * x/ self.V_INV)\n",
    "        if self.verbose: tensor_stats(x, \"Voltage after Inv Amp 2\")\n",
    "                \n",
    "        return x\n",
    "        \n",
    "    def backprop(self, lr):\n",
    "        if self.verbose:\n",
    "            tensor_stats(lr * self.w1.grad, \"\\nLatent Gradients FC1\")\n",
    "            tensor_stats(lr * self.w2.grad, \"Latent Gradients FC2\")\n",
    "    \n",
    "        with torch.no_grad():\n",
    "            self.w1 -= lr * self.w1.grad\n",
    "            self.w2 -= lr * self.w2.grad\n",
    "    \n",
    "        self.w1.grad.zero_()\n",
    "        self.w2.grad.zero_()"
   ]
  },
  {
   "cell_type": "code",
   "execution_count": 11,
   "id": "4e5f787e-a0d8-41e6-82f3-0ca60515cc8f",
   "metadata": {},
   "outputs": [],
   "source": [
    "device = torch.device(\"cuda\" if torch.cuda.is_available() else \"cpu\")\n",
    "criterion = nn.CrossEntropyLoss()  "
   ]
  },
  {
   "cell_type": "markdown",
   "id": "5c683491-2ed4-4e2b-8d24-05e758e168cd",
   "metadata": {},
   "source": [
    "### Data Augmentation\n",
    "\n",
    "For training purposes, we can superimpose noise onto the letters. We will have some amount of noise in the circuit too. This will help in generalizing for analog noise in the hardware too"
   ]
  },
  {
   "cell_type": "code",
   "execution_count": 12,
   "id": "7c4bf7f2-bb45-43af-a69e-23e931718cbc",
   "metadata": {},
   "outputs": [],
   "source": [
    "class AugmentedDataset(Dataset):\n",
    "    def __init__(self, images, labels, noise_std=0.1):\n",
    "        self.images = images\n",
    "        self.labels = labels\n",
    "        self.noise_std = noise_std\n",
    "\n",
    "    def __len__(self):\n",
    "        return len(self.images)\n",
    "\n",
    "    def __getitem__(self, idx):\n",
    "        image = self.images[idx]\n",
    "        label = self.labels[idx]\n",
    "        noisy_image = image + torch.randn_like(image) * self.noise_std\n",
    "        return noisy_image, label\n",
    "\n",
    "noise_std = 0.15\n",
    "augmented_dataset = AugmentedDataset(train_inputs, train_labels, noise_std=noise_std)\n",
    "dataloader = DataLoader(augmented_dataset, batch_size=20, shuffle=True)"
   ]
  },
  {
   "cell_type": "markdown",
   "id": "845d51da-8368-4c97-89a2-9fc1374f408b",
   "metadata": {},
   "source": [
    "# Model for RRAM\n",
    "\n",
    "G_ON and G_OFF for a FeFET of dimensions similar to that we used in Endsem was 7.7e-5 and 2.88e-6 respectively"
   ]
  },
  {
   "cell_type": "code",
   "execution_count": 13,
   "id": "d332b5ba-a9e0-4e8a-bff9-3176267bef00",
   "metadata": {},
   "outputs": [
    {
     "data": {
      "text/plain": [
       "=================================================================\n",
       "Layer (type:depth-idx)                   Param #\n",
       "=================================================================\n",
       "BinaryNeuralNetwork                      160\n",
       "├─Dropout: 1-1                           --\n",
       "=================================================================\n",
       "Total params: 160\n",
       "Trainable params: 160\n",
       "Non-trainable params: 0\n",
       "================================================================="
      ]
     },
     "execution_count": 13,
     "metadata": {},
     "output_type": "execute_result"
    }
   ],
   "source": [
    "params_RRAM = {\n",
    "    \"G_ON\": 5.5e-5,\n",
    "    \"G_OFF\": 2.88e-6,\n",
    "    \"V_INV\": 0.6,\n",
    "    \"R_INV\": 2e+3,\n",
    "    \"R_INV2\": 2e+3,\n",
    "    \"V_1\": 0.1,\n",
    "    \"V_0\": -0.1,\n",
    "    \"sharpness\": 50,\n",
    "    \"initial_factor\": 0.01,\n",
    "    \"h_layer\": 8,\n",
    "    \"verbose\": False,\n",
    "    \"monitor\": False,\n",
    "    \"p\" : 0.3\n",
    "}\n",
    "\n",
    "model_RRAM = BinaryNeuralNetwork(**params_RRAM).to(device)\n",
    "summary(model_RRAM)"
   ]
  },
  {
   "cell_type": "code",
   "execution_count": 14,
   "id": "e0de620a-e0e4-49cf-863d-721e2680dd58",
   "metadata": {},
   "outputs": [
    {
     "name": "stdout",
     "output_type": "stream",
     "text": [
      "78.28125\n"
     ]
    }
   ],
   "source": [
    "try:\n",
    "    with open(\"RRAM_accuracy.txt\", 'r') as f: best_val_RRAM = float(f.read())\n",
    "except:\n",
    "    best_val_RRAM = 0\n",
    "print(best_val_RRAM)"
   ]
  },
  {
   "cell_type": "markdown",
   "id": "241d1155-be9e-4a7a-9a74-a1d608188350",
   "metadata": {},
   "source": [
    "#### Training Notes:\n",
    "1. **R_INV** and **V_INV** should be chosen carefully. If these are too small, the backpropagation gradients will diminish before it reaches the first fully connected later. While **sharpness** and **initial_factor** are purely software parameters and don't correspond to anything in the circuit, but these also affect how the training goes because the gradient in the backward pass through the soft binarization depends on these\n",
    "2. **R_INV** cannot be made too large either. The approximation that **G_ON** is constant with respect to input voltage holds only to a small signal limit. While this is not a problem in the first fully connected layer, the second layer must be monitored. Hence, **verbose = True** must be set above and the intermediate voltage must be monitored to ensure that we don't enter the non-linear region of current vs reading voltage."
   ]
  },
  {
   "cell_type": "code",
   "execution_count": 15,
   "id": "75e71bbb-9193-4010-8f9e-70ef9154c911",
   "metadata": {},
   "outputs": [],
   "source": [
    "history_RRAM = {\n",
    "    \"train_loss\": [],\n",
    "    \"train_accuracy\": [],\n",
    "    \"val_loss\": [],\n",
    "    \"val_accuracy\": []\n",
    "}"
   ]
  },
  {
   "cell_type": "code",
   "execution_count": 16,
   "id": "a9ed1842-f618-4562-8e82-c5355ca39f90",
   "metadata": {},
   "outputs": [
    {
     "name": "stdout",
     "output_type": "stream",
     "text": [
      "Epoch 1, LR: 0.0000, Train Loss: 1.3863, Train Accuracy: 30.00%, Val Loss: 1.3863, Val Accuracy: 28.28%\n",
      "Epoch 2, LR: 0.0000, Train Loss: 1.3863, Train Accuracy: 20.00%, Val Loss: 1.3863, Val Accuracy: 28.28%\n",
      "Epoch 3, LR: 0.0000, Train Loss: 1.3862, Train Accuracy: 32.50%, Val Loss: 1.3863, Val Accuracy: 28.28%\n",
      "Epoch 4, LR: 0.0000, Train Loss: 1.3863, Train Accuracy: 27.50%, Val Loss: 1.3863, Val Accuracy: 28.28%\n",
      "Epoch 5, LR: 0.0000, Train Loss: 1.3863, Train Accuracy: 22.50%, Val Loss: 1.3863, Val Accuracy: 28.28%\n",
      "Epoch 6, LR: 0.0000, Train Loss: 1.3863, Train Accuracy: 25.00%, Val Loss: 1.3863, Val Accuracy: 28.28%\n",
      "Epoch 7, LR: 0.0001, Train Loss: 1.3863, Train Accuracy: 30.00%, Val Loss: 1.3863, Val Accuracy: 28.28%\n",
      "Epoch 8, LR: 0.0001, Train Loss: 1.3863, Train Accuracy: 35.00%, Val Loss: 1.3863, Val Accuracy: 28.28%\n",
      "Epoch 9, LR: 0.0002, Train Loss: 1.3863, Train Accuracy: 30.00%, Val Loss: 1.3863, Val Accuracy: 28.28%\n",
      "Epoch 10, LR: 0.0005, Train Loss: 1.3863, Train Accuracy: 30.00%, Val Loss: 1.3863, Val Accuracy: 28.28%\n",
      "Epoch 11, LR: 0.0010, Train Loss: 1.3863, Train Accuracy: 27.50%, Val Loss: 1.3863, Val Accuracy: 28.28%\n",
      "Epoch 21, LR: 1.0000, Train Loss: 1.3835, Train Accuracy: 45.00%, Val Loss: 1.3827, Val Accuracy: 46.41%\n",
      "Epoch 41, LR: 0.5000, Train Loss: 1.3748, Train Accuracy: 50.00%, Val Loss: 1.3759, Val Accuracy: 48.12%\n",
      "Epoch 61, LR: 0.2500, Train Loss: 1.3734, Train Accuracy: 50.00%, Val Loss: 1.3747, Val Accuracy: 48.12%\n",
      "Epoch 81, LR: 0.1250, Train Loss: 1.3741, Train Accuracy: 50.00%, Val Loss: 1.3743, Val Accuracy: 48.12%\n",
      "Epoch 101, LR: 0.0625, Train Loss: 1.3741, Train Accuracy: 47.50%, Val Loss: 1.3742, Val Accuracy: 48.12%\n",
      "Epoch 121, LR: 0.0312, Train Loss: 1.3732, Train Accuracy: 50.00%, Val Loss: 1.3741, Val Accuracy: 48.12%\n",
      "Epoch 141, LR: 0.0156, Train Loss: 1.3715, Train Accuracy: 50.00%, Val Loss: 1.3741, Val Accuracy: 48.12%\n",
      "Epoch 161, LR: 0.0078, Train Loss: 1.3716, Train Accuracy: 50.00%, Val Loss: 1.3740, Val Accuracy: 48.12%\n",
      "Epoch 181, LR: 0.0039, Train Loss: 1.3740, Train Accuracy: 50.00%, Val Loss: 1.3740, Val Accuracy: 48.12%\n"
     ]
    }
   ],
   "source": [
    "lr = 1\n",
    "num_epochs = 200\n",
    "\n",
    "for epoch in range(num_epochs):\n",
    "    if epoch == 0:\n",
    "        lr /= 1048576\n",
    "    elif epoch <= 20:\n",
    "        lr *= 2\n",
    "\n",
    "    model_RRAM.train()\n",
    "\n",
    "    train_loss = 0\n",
    "    train_accuracy = 0\n",
    "    total_samples = 0\n",
    "\n",
    "    for inputs, labels in dataloader:\n",
    "        inputs = inputs.to(device)\n",
    "        labels = labels.to(device)\n",
    "\n",
    "        outputs = model_RRAM(inputs)\n",
    "        loss = criterion(outputs, labels)\n",
    "        loss.backward()\n",
    "        model_RRAM.backprop(lr)\n",
    "\n",
    "        train_loss += loss.item() * inputs.size(0)\n",
    "        _, predictions = torch.max(outputs, dim=1)\n",
    "        train_accuracy += (predictions == labels).sum().item()\n",
    "        total_samples += inputs.size(0)\n",
    "\n",
    "    train_loss /= total_samples\n",
    "    train_accuracy = (train_accuracy / total_samples) * 100\n",
    "\n",
    "    model_RRAM.eval()\n",
    "    with torch.no_grad():\n",
    "        val_outputs = model_RRAM(val_inputs.to(device))\n",
    "        val_loss = criterion(val_outputs, val_labels.to(device)).item()\n",
    "        _, val_predictions = torch.max(val_outputs, dim=1)\n",
    "        val_accuracy = (val_predictions == val_labels.to(device)).sum().item() / val_labels.size(0) * 100\n",
    "\n",
    "    history_RRAM[\"train_loss\"].append(train_loss)\n",
    "    history_RRAM[\"train_accuracy\"].append(train_accuracy)\n",
    "    history_RRAM[\"val_loss\"].append(val_loss)\n",
    "    history_RRAM[\"val_accuracy\"].append(val_accuracy)\n",
    "\n",
    "    if val_accuracy > best_val_RRAM:\n",
    "        best_val_RRAM = val_accuracy\n",
    "        torch.save(model_RRAM.state_dict(), \"RRAM_model.pth\")\n",
    "        with open(\"RRAM_accuracy.txt\", \"w\") as f: f.write(f\"{best_val_RRAM:.6f}\")\n",
    "        with open(\"RRAM_params.txt\", \"w\") as f: f.write(f\"{params_RRAM}\")\n",
    "        print(f\"Model saved with Validation Accuracy: {best_val_RRAM:.6f}\")\n",
    "\n",
    "    if epoch % ((num_epochs+1) // 10) == 0 or epoch <= 10:\n",
    "        print(f\"Epoch {epoch + 1}, LR: {lr:.4f}, Train Loss: {train_loss:.4f}, Train Accuracy: {train_accuracy:.2f}%, \"\n",
    "              f\"Val Loss: {val_loss:.4f}, Val Accuracy: {val_accuracy:.2f}%\")\n",
    "\n",
    "    if epoch % ((num_epochs+1) // 10) == 0 and epoch != 0:\n",
    "        lr /=2"
   ]
  },
  {
   "cell_type": "code",
   "execution_count": 17,
   "id": "070a2ef8-94c5-49ca-bd35-3ed75ae2327b",
   "metadata": {},
   "outputs": [
    {
     "data": {
      "image/png": "[encoded data removed]",
      "text/plain": [
       "<Figure size 1200x800 with 2 Axes>"
      ]
     },
     "metadata": {},
     "output_type": "display_data"
    }
   ],
   "source": [
    "plot_history(history_RRAM, num_epochs, \"RRAM\")"
   ]
  },
  {
   "cell_type": "markdown",
   "id": "ed7941df-4678-4955-8a0f-f38b43f6b197",
   "metadata": {},
   "source": [
    "# Testing Accuracy and Loss:"
   ]
  },
  {
   "cell_type": "code",
   "execution_count": 18,
   "id": "4f09f3d2-6a66-4dc7-9834-ce52c5cb4d6e",
   "metadata": {},
   "outputs": [],
   "source": [
    "def test(model, val_inputs, val_labels):\n",
    "    val_inputs = val_inputs.to(device)\n",
    "    val_labels = val_labels.to(device)\n",
    "    model.eval()\n",
    "    with torch.no_grad():\n",
    "        outputs = model(val_inputs)\n",
    "        loss = criterion(outputs, val_labels)\n",
    "        _, predicted = torch.max(outputs, dim=1)\n",
    "        accuracy = (predicted == val_labels).sum().item() / val_labels.size(0)\n",
    "    print(f\"Validation Loss: {loss.item():.4f}\")\n",
    "    print(f\"Validation Accuracy: {accuracy * 100:.2f}%\")"
   ]
  },
  {
   "cell_type": "code",
   "execution_count": 19,
   "id": "32ca56c6-7023-416e-9675-93f1a3c8cc78",
   "metadata": {},
   "outputs": [
    {
     "name": "stdout",
     "output_type": "stream",
     "text": [
      "Validation Loss: 1.3740\n",
      "Validation Accuracy: 48.12%\n"
     ]
    }
   ],
   "source": [
    "test(model_RRAM, val_inputs, val_labels)"
   ]
  },
  {
   "cell_type": "markdown",
   "id": "3e003563-388a-4ff4-b877-3aa305fbb62c",
   "metadata": {},
   "source": [
    "#### Model Stored in Directory:"
   ]
  },
  {
   "cell_type": "code",
   "execution_count": 20,
   "id": "867574d7-3627-49ff-a430-1d658fa4d655",
   "metadata": {},
   "outputs": [
    {
     "name": "stdout",
     "output_type": "stream",
     "text": [
      "{'G_ON': 6e-05, 'G_OFF': 2.88e-06, 'V_INV': 1.2, 'R_INV': 2000.0, 'R_INV2': 100000.0, 'V_1': 0.1, 'V_0': -0.1, 'sharpness': 1000, 'initial_factor': 0.01, 'h_layer': 8, 'verbose': False, 'monitor': False, 'p': 0.3} \n",
      "\n",
      "\n",
      "Latent Weights FC1 - Mean Magnitude: 1.69e-02, Max: 3.45e-02, Min: -4.93e-01\n",
      "Latent Weights FC2 - Mean Magnitude: 1.98e-02, Max: 1.03e-01, Min: -1.03e-01\n",
      "\n",
      "Soft Binarized Weights FC1 - Mean Magnitude: 2.70e-05, Max: 6.00e-05, Min: 2.88e-06\n",
      "Soft Binarized FC2 - Mean Magnitude: 2.97e-05, Max: 6.00e-05, Min: 2.88e-06\n",
      "\n",
      "Currents after Crossbar 1 - Mean Magnitude: 1.42e-05, Max: 6.00e-05, Min: -4.80e-05\n",
      "Voltage after Inv Amp 1 - Mean Magnitude: 2.84e-02, Max: 9.58e-02, Min: -1.20e-01\n",
      "\n",
      "Currents after Crossbar 2 - Mean Magnitude: 4.86e-06, Max: 1.90e-05, Min: -2.33e-05\n",
      "Voltage after Inv Amp 2 - Mean Magnitude: 4.15e-01, Max: 1.15e+00, Min: -1.10e+00\n",
      "Validation Loss: 1.0752\n",
      "Validation Accuracy: 78.28%\n"
     ]
    }
   ],
   "source": [
    "with open(\"RRAM_params.txt\", 'r') as f: params_RRAM_best = ast.literal_eval(f.read())\n",
    "print(params_RRAM_best, '\\n')\n",
    "model_RRAM_best = BinaryNeuralNetwork(**params_RRAM_best)\n",
    "model_RRAM_best.verbose = True\n",
    "model_RRAM_best.monitor = True\n",
    "model_RRAM_best.load_state_dict(torch.load(\"RRAM_model.pth\"))\n",
    "test(model_RRAM_best, val_inputs, val_labels)"
   ]
  },
  {
   "cell_type": "markdown",
   "id": "ad288f0b-0ec9-415d-96cc-a4ecec7aa5ce",
   "metadata": {},
   "source": [
    "## PWL Generation\n",
    "\n",
    "Let's assume that we will program the two crossbars with seperate PWLs. That is, during programming, we will cut the Inverting Amplifier stages with a pass transistor and connect the programming lines with a pass transistor. First array has 16 Top PWLs and 8 Bottom PWLs. Second array has 8 Top PWLs and 4 Bottom PWLs. And then once the programming switch is toggled to inference mode, only the 16 Top PWLs are to be changed. Let's also generate a PWL for that too.\n",
    "\n",
    "In the code below, we will first maintain tuples for each PWL that holds what the voltage should be. And then we will write a function that will take there and space pulses of the given voltage that are 100us apart from other and have an ON duration of 100us "
   ]
  },
  {
   "cell_type": "code",
   "execution_count": 21,
   "id": "58d5cebb-fc99-4a00-87a1-e183838c9a64",
   "metadata": {},
   "outputs": [],
   "source": [
    "WL_FC1 = [list() for i in range(16)]\n",
    "BL_FC1 = [list() for i in range(8)]\n",
    "WL_FC2 = [list() for i in range(8)]\n",
    "BL_FC2 = [list() for i in range(4)]\n",
    "Mode = []\n",
    "Mode_B = []\n",
    "\n",
    "V_WRITE = 1.5\n",
    "V_READ = 0.1\n",
    "V_mode = 1.2"
   ]
  },
  {
   "cell_type": "markdown",
   "id": "c647afda-e1a7-47a7-b634-212ec5527be2",
   "metadata": {},
   "source": [
    "#### Fully Connected Weights 1"
   ]
  },
  {
   "cell_type": "code",
   "execution_count": 22,
   "id": "03334172-89f6-4d73-9461-6ac922bdb6ea",
   "metadata": {},
   "outputs": [
    {
     "data": {
      "text/plain": [
       "tensor([[0, 1, 1, 0, 0, 1, 1, 0, 0, 1, 1, 0, 0, 0, 0, 0],\n",
       "        [1, 1, 1, 1, 0, 1, 1, 0, 0, 0, 0, 0, 0, 1, 1, 0],\n",
       "        [0, 0, 0, 0, 1, 0, 0, 1, 1, 1, 1, 1, 0, 1, 1, 0],\n",
       "        [0, 0, 0, 1, 0, 1, 1, 0, 0, 0, 0, 0, 0, 1, 1, 0],\n",
       "        [0, 0, 0, 0, 0, 0, 1, 0, 1, 1, 0, 1, 1, 0, 0, 1],\n",
       "        [0, 0, 0, 0, 1, 0, 0, 1, 1, 0, 0, 1, 0, 0, 1, 0],\n",
       "        [0, 1, 1, 0, 1, 0, 0, 1, 1, 1, 1, 1, 1, 0, 0, 1],\n",
       "        [0, 1, 1, 0, 0, 1, 1, 0, 0, 1, 1, 0, 0, 0, 0, 0]], dtype=torch.int32)"
      ]
     },
     "execution_count": 22,
     "metadata": {},
     "output_type": "execute_result"
    }
   ],
   "source": [
    "target = (model_RRAM_best.w1>0).int()\n",
    "target"
   ]
  },
  {
   "cell_type": "code",
   "execution_count": 23,
   "id": "49287afe-8437-40aa-8825-93f2cffe3a66",
   "metadata": {},
   "outputs": [],
   "source": [
    "for ind_i, i in enumerate(target):\n",
    "    for ind_j, j in enumerate(i):\n",
    "        if j==1: WL_FC1[ind_j].append(V_WRITE)\n",
    "        else: WL_FC1[ind_j].append(V_WRITE/3)\n",
    "    for ind_k in range(len(target)): \n",
    "        if ind_k==ind_i: BL_FC1[ind_i].append(0)\n",
    "        else: BL_FC1[ind_k].append(2*V_WRITE/3)"
   ]
  },
  {
   "cell_type": "markdown",
   "id": "be77131c-005d-4f06-8a70-f40d267eb67e",
   "metadata": {},
   "source": [
    "#### Fully Connected Weights 2"
   ]
  },
  {
   "cell_type": "code",
   "execution_count": 24,
   "id": "9adc2b24-ffb0-4470-8eae-3830221cb33d",
   "metadata": {},
   "outputs": [
    {
     "data": {
      "text/plain": [
       "tensor([[1, 0, 1, 0, 1, 1, 1, 1],\n",
       "        [0, 0, 0, 1, 1, 0, 0, 0],\n",
       "        [0, 0, 1, 1, 0, 1, 0, 0],\n",
       "        [1, 1, 0, 1, 0, 0, 0, 1]], dtype=torch.int32)"
      ]
     },
     "execution_count": 24,
     "metadata": {},
     "output_type": "execute_result"
    }
   ],
   "source": [
    "target = (model_RRAM_best.w2>0).int()\n",
    "target"
   ]
  },
  {
   "cell_type": "code",
   "execution_count": 25,
   "id": "3f7ca037-0e2f-49a3-98b3-b2e0b93f8b79",
   "metadata": {},
   "outputs": [],
   "source": [
    "for ind_i, i in enumerate(target):\n",
    "    for ind_j, j in enumerate(i):\n",
    "        if j==1: WL_FC2[ind_j].append(V_WRITE)\n",
    "        else: WL_FC2[ind_j].append(V_WRITE/3)\n",
    "    for ind_k in range(len(target)): \n",
    "        if ind_k==ind_i: BL_FC2[ind_i].append(0)\n",
    "        else: BL_FC2[ind_k].append(2*V_WRITE/3)"
   ]
  },
  {
   "cell_type": "markdown",
   "id": "a602368f-07a2-4beb-90e3-d782ca717fea",
   "metadata": {},
   "source": [
    "#### Filling Out Programming Mode"
   ]
  },
  {
   "cell_type": "code",
   "execution_count": 26,
   "id": "c4aa24d2-0d95-4ff4-8dfd-5c0800d9de11",
   "metadata": {},
   "outputs": [],
   "source": [
    "WL_FC1 = [i + [0,0] for i in WL_FC1]\n",
    "BL_FC1 = [i + [0,0] for i in BL_FC1]\n",
    "while(len(WL_FC2[0]) < len(WL_FC1[0])):\n",
    "    WL_FC2 = [i + [0,] for i in WL_FC2]\n",
    "    BL_FC2 = [i + [0,] for i in BL_FC2]\n",
    "Mode.extend([V_mode]*(len(WL_FC1[0])-1) + [-V_mode])\n",
    "Mode_B.extend([-V_mode]*(len(WL_FC1[0])-1) + [V_mode])"
   ]
  },
  {
   "cell_type": "code",
   "execution_count": 27,
   "id": "f953198a-a107-428c-9624-3c712086e922",
   "metadata": {},
   "outputs": [
    {
     "name": "stdout",
     "output_type": "stream",
     "text": [
      "[0.5, 1.5, 0.5, 0.5, 0.5, 0.5, 0.5, 0.5, 0, 0]\n",
      "[0, 1.0, 1.0, 1.0, 1.0, 1.0, 1.0, 1.0, 0, 0]\n",
      "[1.5, 0.5, 0.5, 1.5, 0, 0, 0, 0, 0, 0]\n",
      "[0, 1.0, 1.0, 1.0, 0, 0, 0, 0, 0, 0]\n",
      "[1.2, 1.2, 1.2, 1.2, 1.2, 1.2, 1.2, 1.2, 1.2, -1.2]\n",
      "[-1.2, -1.2, -1.2, -1.2, -1.2, -1.2, -1.2, -1.2, -1.2, 1.2]\n",
      "10 10 10 10 10 10\n"
     ]
    }
   ],
   "source": [
    "print(WL_FC1[0])\n",
    "print(BL_FC1[0])\n",
    "print(WL_FC2[0])\n",
    "print(BL_FC2[0])\n",
    "print(Mode)\n",
    "print(Mode_B)\n",
    "print(len(WL_FC1[0]), len(BL_FC1[0]), len(WL_FC2[0]), len(BL_FC2[0]), len(Mode), len(Mode_B)) "
   ]
  },
  {
   "cell_type": "markdown",
   "id": "92339f84-e8d6-4280-92af-e5215aa129a0",
   "metadata": {},
   "source": [
    "### Inference: Loading the Testing Set"
   ]
  },
  {
   "cell_type": "code",
   "execution_count": 28,
   "id": "b97dacd2-42bb-49f0-8ca9-e0f02ca4cc58",
   "metadata": {},
   "outputs": [
    {
     "data": {
      "text/plain": [
       "tensor([[1., 1., 1., 0.],\n",
       "        [1., 0., 0., 1.],\n",
       "        [1., 1., 1., 1.],\n",
       "        [1., 0., 0., 1.]])"
      ]
     },
     "execution_count": 28,
     "metadata": {},
     "output_type": "execute_result"
    }
   ],
   "source": [
    "val_inputs[0]"
   ]
  },
  {
   "cell_type": "code",
   "execution_count": 29,
   "id": "2336c3ab-2181-4ee7-b1c9-0a97a3700248",
   "metadata": {},
   "outputs": [],
   "source": [
    "V_1 = 0.1\n",
    "V_0 = -0.1\n",
    "include_testing = True\n",
    "include_every = 4"
   ]
  },
  {
   "cell_type": "code",
   "execution_count": 30,
   "id": "6a1cfba2-3243-4062-9ef6-4cd309622c73",
   "metadata": {},
   "outputs": [],
   "source": [
    "if include_testing:\n",
    "    for i in val_inputs[::include_every]:\n",
    "        i = i.flatten()\n",
    "        for ind, j in enumerate(i):\n",
    "            WL_FC1[ind].append(V_1 if j==1 else V_0)\n",
    "        BL_FC1 = [i + [0,] for i in BL_FC1]\n",
    "        WL_FC2 = [i + [0,] for i in WL_FC2]\n",
    "        BL_FC2 = [i + [0,] for i in BL_FC2]\n",
    "        Mode = Mode + [-V_mode,]\n",
    "        Mode_B = Mode_B + [V_mode,]"
   ]
  },
  {
   "cell_type": "markdown",
   "id": "b9dd97b8-fb1b-4634-9ae4-3a6fe05d0a2c",
   "metadata": {},
   "source": [
    "### PWL Convertion"
   ]
  },
  {
   "cell_type": "code",
   "execution_count": 31,
   "id": "c98af5ff-8f34-4472-89fc-e308d98d4072",
   "metadata": {},
   "outputs": [],
   "source": [
    "def pwl(l):\n",
    "    t = 0\n",
    "    res = \"pwl(time, 0us, 0V\"\n",
    "    for i in l:\n",
    "        res += f\", {t+5}us, {i:.2f}V, {t+100}us, {i:.2f}V, {t+105}us, 0V, {t+200}us, 0V\"\n",
    "        t+=200\n",
    "    res += \")\"\n",
    "    return res"
   ]
  },
  {
   "cell_type": "code",
   "execution_count": 32,
   "id": "54850dbc-1317-44a2-9093-c5a4e048094c",
   "metadata": {},
   "outputs": [
    {
     "data": {
      "text/html": [
       "<div>\n",
       "<style scoped>\n",
       "    .dataframe tbody tr th:only-of-type {\n",
       "        vertical-align: middle;\n",
       "    }\n",
       "\n",
       "    .dataframe tbody tr th {\n",
       "        vertical-align: top;\n",
       "    }\n",
       "\n",
       "    .dataframe thead th {\n",
       "        text-align: right;\n",
       "    }\n",
       "</style>\n",
       "<table border=\"1\" class=\"dataframe\">\n",
       "  <thead>\n",
       "    <tr style=\"text-align: right;\">\n",
       "      <th></th>\n",
       "      <th>Signal</th>\n",
       "      <th>Index</th>\n",
       "      <th>PWL</th>\n",
       "    </tr>\n",
       "  </thead>\n",
       "  <tbody>\n",
       "    <tr>\n",
       "      <th>0</th>\n",
       "      <td>WL_FC1_0</td>\n",
       "      <td>0</td>\n",
       "      <td>pwl(time, 0us, 0V, 5us, 0.50V, 100us, 0.50V, 1...</td>\n",
       "    </tr>\n",
       "    <tr>\n",
       "      <th>1</th>\n",
       "      <td>WL_FC1_1</td>\n",
       "      <td>1</td>\n",
       "      <td>pwl(time, 0us, 0V, 5us, 1.50V, 100us, 1.50V, 1...</td>\n",
       "    </tr>\n",
       "    <tr>\n",
       "      <th>2</th>\n",
       "      <td>WL_FC1_2</td>\n",
       "      <td>2</td>\n",
       "      <td>pwl(time, 0us, 0V, 5us, 1.50V, 100us, 1.50V, 1...</td>\n",
       "    </tr>\n",
       "    <tr>\n",
       "      <th>3</th>\n",
       "      <td>WL_FC1_3</td>\n",
       "      <td>3</td>\n",
       "      <td>pwl(time, 0us, 0V, 5us, 0.50V, 100us, 0.50V, 1...</td>\n",
       "    </tr>\n",
       "    <tr>\n",
       "      <th>4</th>\n",
       "      <td>WL_FC1_4</td>\n",
       "      <td>4</td>\n",
       "      <td>pwl(time, 0us, 0V, 5us, 0.50V, 100us, 0.50V, 1...</td>\n",
       "    </tr>\n",
       "  </tbody>\n",
       "</table>\n",
       "</div>"
      ],
      "text/plain": [
       "     Signal Index                                                PWL\n",
       "0  WL_FC1_0     0  pwl(time, 0us, 0V, 5us, 0.50V, 100us, 0.50V, 1...\n",
       "1  WL_FC1_1     1  pwl(time, 0us, 0V, 5us, 1.50V, 100us, 1.50V, 1...\n",
       "2  WL_FC1_2     2  pwl(time, 0us, 0V, 5us, 1.50V, 100us, 1.50V, 1...\n",
       "3  WL_FC1_3     3  pwl(time, 0us, 0V, 5us, 0.50V, 100us, 0.50V, 1...\n",
       "4  WL_FC1_4     4  pwl(time, 0us, 0V, 5us, 0.50V, 100us, 0.50V, 1..."
      ]
     },
     "execution_count": 32,
     "metadata": {},
     "output_type": "execute_result"
    }
   ],
   "source": [
    "pwl_data = []\n",
    "\n",
    "for ind, i in enumerate(WL_FC1):\n",
    "    pwl_data.append({\"Signal\": f\"WL_FC1_{ind}\", \"Index\": ind, \"PWL\": pwl(i)})\n",
    "for ind, i in enumerate(BL_FC1):\n",
    "    pwl_data.append({\"Signal\": f\"BL_FC1_{ind}\", \"Index\": ind, \"PWL\": pwl(i)})\n",
    "for ind, i in enumerate(WL_FC2):\n",
    "    pwl_data.append({\"Signal\": f\"WL_FC2_{ind}\", \"Index\": ind, \"PWL\": pwl(i)})\n",
    "for ind, i in enumerate(BL_FC2):\n",
    "    pwl_data.append({\"Signal\": f\"BL_FC2_{ind}\", \"Index\": ind, \"PWL\": pwl(i)})\n",
    "pwl_data.append({\"Signal\": \"Mode\", \"Index\": \"\", \"PWL\": pwl(Mode)})\n",
    "pwl_data.append({\"Signal\": \"Mode_b\", \"Index\": \"\", \"PWL\": pwl(Mode_B)})\n",
    "\n",
    "pwl_data = pd.DataFrame(pwl_data)\n",
    "pwl_data.to_csv(\"pwl_data.csv\", index=False)\n",
    "pwl_data.head()"
   ]
  },
  {
   "cell_type": "markdown",
   "id": "03e13866-8cd8-4b8e-a8d0-a5c69e951174",
   "metadata": {},
   "source": [
    "#### Testing Accuracy on 160 Images\n",
    "ADS isn't allowing PWLs longer than 160 Images, so let's check software accuracy for the same too"
   ]
  },
  {
   "cell_type": "code",
   "execution_count": 33,
   "id": "fd4e4e97-5ecd-4c41-9035-4a51015d684e",
   "metadata": {},
   "outputs": [
    {
     "name": "stdout",
     "output_type": "stream",
     "text": [
      "\n",
      "Latent Weights FC1 - Mean Magnitude: 1.69e-02, Max: 3.45e-02, Min: -4.93e-01\n",
      "Latent Weights FC2 - Mean Magnitude: 1.98e-02, Max: 1.03e-01, Min: -1.03e-01\n",
      "\n",
      "Soft Binarized Weights FC1 - Mean Magnitude: 2.70e-05, Max: 6.00e-05, Min: 2.88e-06\n",
      "Soft Binarized FC2 - Mean Magnitude: 2.97e-05, Max: 6.00e-05, Min: 2.88e-06\n",
      "\n",
      "Currents after Crossbar 1 - Mean Magnitude: 1.34e-05, Max: 5.94e-05, Min: -4.80e-05\n",
      "Voltage after Inv Amp 1 - Mean Magnitude: 2.68e-02, Max: 9.58e-02, Min: -1.18e-01\n",
      "\n",
      "Currents after Crossbar 2 - Mean Magnitude: 4.51e-06, Max: 1.76e-05, Min: -1.87e-05\n",
      "Voltage after Inv Amp 2 - Mean Magnitude: 3.94e-01, Max: 1.10e+00, Min: -1.08e+00\n",
      "Validation Loss: 1.0605\n",
      "Validation Accuracy: 80.62%\n"
     ]
    }
   ],
   "source": [
    "test(model_RRAM_best, val_inputs[::4], val_labels[::4])"
   ]
  },
  {
   "cell_type": "code",
   "execution_count": 34,
   "id": "7cf44b69-14ac-4fdd-a2b5-b9c2cc361e7f",
   "metadata": {},
   "outputs": [
    {
     "name": "stdout",
     "output_type": "stream",
     "text": [
      "\n",
      "Latent Weights FC1 - Mean Magnitude: 1.69e-02, Max: 3.45e-02, Min: -4.93e-01\n",
      "Latent Weights FC2 - Mean Magnitude: 1.98e-02, Max: 1.03e-01, Min: -1.03e-01\n",
      "\n",
      "Soft Binarized Weights FC1 - Mean Magnitude: 2.70e-05, Max: 6.00e-05, Min: 2.88e-06\n",
      "Soft Binarized FC2 - Mean Magnitude: 2.97e-05, Max: 6.00e-05, Min: 2.88e-06\n",
      "\n",
      "Currents after Crossbar 1 - Mean Magnitude: 1.51e-05, Max: 5.94e-05, Min: -3.60e-05\n",
      "Voltage after Inv Amp 1 - Mean Magnitude: 3.01e-02, Max: 7.20e-02, Min: -1.18e-01\n",
      "\n",
      "Currents after Crossbar 2 - Mean Magnitude: 5.14e-06, Max: 1.31e-05, Min: -1.87e-05\n",
      "Voltage after Inv Amp 2 - Mean Magnitude: 4.42e-01, Max: 1.10e+00, Min: -9.56e-01\n",
      "Validation Loss: 1.0278\n",
      "Validation Accuracy: 87.50%\n"
     ]
    }
   ],
   "source": [
    "test(model_RRAM_best, train_inputs, train_labels)"
   ]
  },
  {
   "cell_type": "markdown",
   "id": "1079074f-8781-43af-b52e-fb3581ef8931",
   "metadata": {},
   "source": [
    "## Simulation Data from ADS"
   ]
  },
  {
   "cell_type": "code",
   "execution_count": 62,
   "id": "e0d523a2-f99f-46bb-93e0-fead2768da75",
   "metadata": {},
   "outputs": [
    {
     "data": {
      "text/html": [
       "<div>\n",
       "<style scoped>\n",
       "    .dataframe tbody tr th:only-of-type {\n",
       "        vertical-align: middle;\n",
       "    }\n",
       "\n",
       "    .dataframe tbody tr th {\n",
       "        vertical-align: top;\n",
       "    }\n",
       "\n",
       "    .dataframe thead th {\n",
       "        text-align: right;\n",
       "    }\n",
       "</style>\n",
       "<table border=\"1\" class=\"dataframe\">\n",
       "  <thead>\n",
       "    <tr style=\"text-align: right;\">\n",
       "      <th></th>\n",
       "      <th>time</th>\n",
       "      <th>A</th>\n",
       "      <th>X</th>\n",
       "      <th>V</th>\n",
       "      <th>T</th>\n",
       "    </tr>\n",
       "  </thead>\n",
       "  <tbody>\n",
       "    <tr>\n",
       "      <th>0</th>\n",
       "      <td>0.0000E0sec</td>\n",
       "      <td>-9.3074E-6V</td>\n",
       "      <td>-9.3074E-6V</td>\n",
       "      <td>-9.3074E-6V</td>\n",
       "      <td>-9.3074E-6V</td>\n",
       "    </tr>\n",
       "    <tr>\n",
       "      <th>1</th>\n",
       "      <td>5.0000E-9sec</td>\n",
       "      <td>6.7004E-6V</td>\n",
       "      <td>6.6909E-6V</td>\n",
       "      <td>6.6909E-6V</td>\n",
       "      <td>6.6909E-6V</td>\n",
       "    </tr>\n",
       "    <tr>\n",
       "      <th>2</th>\n",
       "      <td>1.0000E-8sec</td>\n",
       "      <td>7.4285E-6V</td>\n",
       "      <td>7.4115E-6V</td>\n",
       "      <td>7.4115E-6V</td>\n",
       "      <td>7.4115E-6V</td>\n",
       "    </tr>\n",
       "    <tr>\n",
       "      <th>3</th>\n",
       "      <td>2.5000E-8sec</td>\n",
       "      <td>6.6885E-6V</td>\n",
       "      <td>6.6490E-6V</td>\n",
       "      <td>6.6490E-6V</td>\n",
       "      <td>6.6490E-6V</td>\n",
       "    </tr>\n",
       "    <tr>\n",
       "      <th>4</th>\n",
       "      <td>7.0000E-8sec</td>\n",
       "      <td>6.7633E-6V</td>\n",
       "      <td>6.6366E-6V</td>\n",
       "      <td>6.6366E-6V</td>\n",
       "      <td>6.6366E-6V</td>\n",
       "    </tr>\n",
       "    <tr>\n",
       "      <th>...</th>\n",
       "      <td>...</td>\n",
       "      <td>...</td>\n",
       "      <td>...</td>\n",
       "      <td>...</td>\n",
       "      <td>...</td>\n",
       "    </tr>\n",
       "    <tr>\n",
       "      <th>71456</th>\n",
       "      <td>3.3998E-2sec</td>\n",
       "      <td>-9.2737E-6V</td>\n",
       "      <td>-9.2742E-6V</td>\n",
       "      <td>-9.2741E-6V</td>\n",
       "      <td>-9.2741E-6V</td>\n",
       "    </tr>\n",
       "    <tr>\n",
       "      <th>71457</th>\n",
       "      <td>3.3999E-2sec</td>\n",
       "      <td>-9.3412E-6V</td>\n",
       "      <td>-9.3407E-6V</td>\n",
       "      <td>-9.3408E-6V</td>\n",
       "      <td>-9.3407E-6V</td>\n",
       "    </tr>\n",
       "    <tr>\n",
       "      <th>71458</th>\n",
       "      <td>3.3999E-2sec</td>\n",
       "      <td>-9.2738E-6V</td>\n",
       "      <td>-9.2742E-6V</td>\n",
       "      <td>-9.2741E-6V</td>\n",
       "      <td>-9.2742E-6V</td>\n",
       "    </tr>\n",
       "    <tr>\n",
       "      <th>71459</th>\n",
       "      <td>3.4000E-2sec</td>\n",
       "      <td>-9.3411E-6V</td>\n",
       "      <td>-9.3406E-6V</td>\n",
       "      <td>-9.3407E-6V</td>\n",
       "      <td>-9.3407E-6V</td>\n",
       "    </tr>\n",
       "    <tr>\n",
       "      <th>71460</th>\n",
       "      <td>3.4000E-2sec</td>\n",
       "      <td>-9.2738E-6V</td>\n",
       "      <td>-9.2743E-6V</td>\n",
       "      <td>-9.2742E-6V</td>\n",
       "      <td>-9.2743E-6V</td>\n",
       "    </tr>\n",
       "  </tbody>\n",
       "</table>\n",
       "<p>71461 rows × 5 columns</p>\n",
       "</div>"
      ],
      "text/plain": [
       "               time            A            X            V            T\n",
       "0       0.0000E0sec  -9.3074E-6V  -9.3074E-6V  -9.3074E-6V  -9.3074E-6V\n",
       "1      5.0000E-9sec   6.7004E-6V   6.6909E-6V   6.6909E-6V   6.6909E-6V\n",
       "2      1.0000E-8sec   7.4285E-6V   7.4115E-6V   7.4115E-6V   7.4115E-6V\n",
       "3      2.5000E-8sec   6.6885E-6V   6.6490E-6V   6.6490E-6V   6.6490E-6V\n",
       "4      7.0000E-8sec   6.7633E-6V   6.6366E-6V   6.6366E-6V   6.6366E-6V\n",
       "...             ...          ...          ...          ...          ...\n",
       "71456  3.3998E-2sec  -9.2737E-6V  -9.2742E-6V  -9.2741E-6V  -9.2741E-6V\n",
       "71457  3.3999E-2sec  -9.3412E-6V  -9.3407E-6V  -9.3408E-6V  -9.3407E-6V\n",
       "71458  3.3999E-2sec  -9.2738E-6V  -9.2742E-6V  -9.2741E-6V  -9.2742E-6V\n",
       "71459  3.4000E-2sec  -9.3411E-6V  -9.3406E-6V  -9.3407E-6V  -9.3407E-6V\n",
       "71460  3.4000E-2sec  -9.2738E-6V  -9.2743E-6V  -9.2742E-6V  -9.2743E-6V\n",
       "\n",
       "[71461 rows x 5 columns]"
      ]
     },
     "execution_count": 62,
     "metadata": {},
     "output_type": "execute_result"
    }
   ],
   "source": [
    "simu = pd.read_csv(\"Testing_160_Images.csv\")\n",
    "simu"
   ]
  },
  {
   "cell_type": "code",
   "execution_count": 63,
   "id": "fd96e845-0c19-470b-8910-6b45df78022c",
   "metadata": {},
   "outputs": [
    {
     "data": {
      "text/html": [
       "<div>\n",
       "<style scoped>\n",
       "    .dataframe tbody tr th:only-of-type {\n",
       "        vertical-align: middle;\n",
       "    }\n",
       "\n",
       "    .dataframe tbody tr th {\n",
       "        vertical-align: top;\n",
       "    }\n",
       "\n",
       "    .dataframe thead th {\n",
       "        text-align: right;\n",
       "    }\n",
       "</style>\n",
       "<table border=\"1\" class=\"dataframe\">\n",
       "  <thead>\n",
       "    <tr style=\"text-align: right;\">\n",
       "      <th></th>\n",
       "      <th>time</th>\n",
       "      <th>A</th>\n",
       "      <th>X</th>\n",
       "      <th>V</th>\n",
       "      <th>T</th>\n",
       "    </tr>\n",
       "  </thead>\n",
       "  <tbody>\n",
       "    <tr>\n",
       "      <th>0</th>\n",
       "      <td>0.000000e+00</td>\n",
       "      <td>-0.000009</td>\n",
       "      <td>-0.000009</td>\n",
       "      <td>-0.000009</td>\n",
       "      <td>-0.000009</td>\n",
       "    </tr>\n",
       "    <tr>\n",
       "      <th>1</th>\n",
       "      <td>5.000000e-09</td>\n",
       "      <td>0.000007</td>\n",
       "      <td>0.000007</td>\n",
       "      <td>0.000007</td>\n",
       "      <td>0.000007</td>\n",
       "    </tr>\n",
       "    <tr>\n",
       "      <th>2</th>\n",
       "      <td>1.000000e-08</td>\n",
       "      <td>0.000007</td>\n",
       "      <td>0.000007</td>\n",
       "      <td>0.000007</td>\n",
       "      <td>0.000007</td>\n",
       "    </tr>\n",
       "    <tr>\n",
       "      <th>3</th>\n",
       "      <td>2.500000e-08</td>\n",
       "      <td>0.000007</td>\n",
       "      <td>0.000007</td>\n",
       "      <td>0.000007</td>\n",
       "      <td>0.000007</td>\n",
       "    </tr>\n",
       "    <tr>\n",
       "      <th>4</th>\n",
       "      <td>7.000000e-08</td>\n",
       "      <td>0.000007</td>\n",
       "      <td>0.000007</td>\n",
       "      <td>0.000007</td>\n",
       "      <td>0.000007</td>\n",
       "    </tr>\n",
       "    <tr>\n",
       "      <th>...</th>\n",
       "      <td>...</td>\n",
       "      <td>...</td>\n",
       "      <td>...</td>\n",
       "      <td>...</td>\n",
       "      <td>...</td>\n",
       "    </tr>\n",
       "    <tr>\n",
       "      <th>71456</th>\n",
       "      <td>3.399800e-02</td>\n",
       "      <td>-0.000009</td>\n",
       "      <td>-0.000009</td>\n",
       "      <td>-0.000009</td>\n",
       "      <td>-0.000009</td>\n",
       "    </tr>\n",
       "    <tr>\n",
       "      <th>71457</th>\n",
       "      <td>3.399900e-02</td>\n",
       "      <td>-0.000009</td>\n",
       "      <td>-0.000009</td>\n",
       "      <td>-0.000009</td>\n",
       "      <td>-0.000009</td>\n",
       "    </tr>\n",
       "    <tr>\n",
       "      <th>71458</th>\n",
       "      <td>3.399900e-02</td>\n",
       "      <td>-0.000009</td>\n",
       "      <td>-0.000009</td>\n",
       "      <td>-0.000009</td>\n",
       "      <td>-0.000009</td>\n",
       "    </tr>\n",
       "    <tr>\n",
       "      <th>71459</th>\n",
       "      <td>3.400000e-02</td>\n",
       "      <td>-0.000009</td>\n",
       "      <td>-0.000009</td>\n",
       "      <td>-0.000009</td>\n",
       "      <td>-0.000009</td>\n",
       "    </tr>\n",
       "    <tr>\n",
       "      <th>71460</th>\n",
       "      <td>3.400000e-02</td>\n",
       "      <td>-0.000009</td>\n",
       "      <td>-0.000009</td>\n",
       "      <td>-0.000009</td>\n",
       "      <td>-0.000009</td>\n",
       "    </tr>\n",
       "  </tbody>\n",
       "</table>\n",
       "<p>71461 rows × 5 columns</p>\n",
       "</div>"
      ],
      "text/plain": [
       "               time         A         X         V         T\n",
       "0      0.000000e+00 -0.000009 -0.000009 -0.000009 -0.000009\n",
       "1      5.000000e-09  0.000007  0.000007  0.000007  0.000007\n",
       "2      1.000000e-08  0.000007  0.000007  0.000007  0.000007\n",
       "3      2.500000e-08  0.000007  0.000007  0.000007  0.000007\n",
       "4      7.000000e-08  0.000007  0.000007  0.000007  0.000007\n",
       "...             ...       ...       ...       ...       ...\n",
       "71456  3.399800e-02 -0.000009 -0.000009 -0.000009 -0.000009\n",
       "71457  3.399900e-02 -0.000009 -0.000009 -0.000009 -0.000009\n",
       "71458  3.399900e-02 -0.000009 -0.000009 -0.000009 -0.000009\n",
       "71459  3.400000e-02 -0.000009 -0.000009 -0.000009 -0.000009\n",
       "71460  3.400000e-02 -0.000009 -0.000009 -0.000009 -0.000009\n",
       "\n",
       "[71461 rows x 5 columns]"
      ]
     },
     "execution_count": 63,
     "metadata": {},
     "output_type": "execute_result"
    }
   ],
   "source": [
    "def remove_units(value):\n",
    "    return float(value.replace('E', 'e').split('V')[0].replace('sec', ''))\n",
    "\n",
    "simu['time'] = simu['time'].apply(remove_units)\n",
    "for col in ['A', 'X', 'V', 'T']:\n",
    "    simu[col] = simu[col].apply(remove_units)\n",
    "simu"
   ]
  },
  {
   "cell_type": "markdown",
   "id": "223576d6-266c-49bd-aaca-ff3444617f09",
   "metadata": {},
   "source": [
    "We just need one sample every 0.1ms samples of these starting from 2.050ms to 33.850ms"
   ]
  },
  {
   "cell_type": "code",
   "execution_count": 64,
   "id": "a13d6e19-daa6-481f-8ad2-11a357dc20d3",
   "metadata": {},
   "outputs": [
    {
     "data": {
      "text/plain": [
       "(160,)"
      ]
     },
     "execution_count": 64,
     "metadata": {},
     "output_type": "execute_result"
    }
   ],
   "source": [
    "t_stamps = np.arange(2.05e-3, 33.9e-3, 0.2e-3)\n",
    "t_stamps.shape"
   ]
  },
  {
   "cell_type": "code",
   "execution_count": 65,
   "id": "f5548dd9-e376-4bd1-b9d2-484f4358f700",
   "metadata": {},
   "outputs": [
    {
     "data": {
      "text/html": [
       "<div>\n",
       "<style scoped>\n",
       "    .dataframe tbody tr th:only-of-type {\n",
       "        vertical-align: middle;\n",
       "    }\n",
       "\n",
       "    .dataframe tbody tr th {\n",
       "        vertical-align: top;\n",
       "    }\n",
       "\n",
       "    .dataframe thead th {\n",
       "        text-align: right;\n",
       "    }\n",
       "</style>\n",
       "<table border=\"1\" class=\"dataframe\">\n",
       "  <thead>\n",
       "    <tr style=\"text-align: right;\">\n",
       "      <th></th>\n",
       "      <th>Image Index</th>\n",
       "      <th>A</th>\n",
       "      <th>X</th>\n",
       "      <th>V</th>\n",
       "      <th>T</th>\n",
       "    </tr>\n",
       "  </thead>\n",
       "  <tbody>\n",
       "    <tr>\n",
       "      <th>0</th>\n",
       "      <td>0.00205</td>\n",
       "      <td>0.033100</td>\n",
       "      <td>0.000708</td>\n",
       "      <td>0.004858</td>\n",
       "      <td>-0.000784</td>\n",
       "    </tr>\n",
       "    <tr>\n",
       "      <th>1</th>\n",
       "      <td>0.00225</td>\n",
       "      <td>0.023568</td>\n",
       "      <td>-0.000496</td>\n",
       "      <td>-0.001688</td>\n",
       "      <td>-0.004997</td>\n",
       "    </tr>\n",
       "    <tr>\n",
       "      <th>2</th>\n",
       "      <td>0.00245</td>\n",
       "      <td>0.021074</td>\n",
       "      <td>-0.003203</td>\n",
       "      <td>-0.001788</td>\n",
       "      <td>-0.005096</td>\n",
       "    </tr>\n",
       "    <tr>\n",
       "      <th>3</th>\n",
       "      <td>0.00265</td>\n",
       "      <td>0.025995</td>\n",
       "      <td>-0.003003</td>\n",
       "      <td>0.003444</td>\n",
       "      <td>-0.004902</td>\n",
       "    </tr>\n",
       "    <tr>\n",
       "      <th>4</th>\n",
       "      <td>0.00285</td>\n",
       "      <td>0.033198</td>\n",
       "      <td>0.003445</td>\n",
       "      <td>0.007542</td>\n",
       "      <td>0.001848</td>\n",
       "    </tr>\n",
       "    <tr>\n",
       "      <th>...</th>\n",
       "      <td>...</td>\n",
       "      <td>...</td>\n",
       "      <td>...</td>\n",
       "      <td>...</td>\n",
       "      <td>...</td>\n",
       "    </tr>\n",
       "    <tr>\n",
       "      <th>155</th>\n",
       "      <td>0.03305</td>\n",
       "      <td>-0.012804</td>\n",
       "      <td>0.000025</td>\n",
       "      <td>-0.006591</td>\n",
       "      <td>-0.003019</td>\n",
       "    </tr>\n",
       "    <tr>\n",
       "      <th>156</th>\n",
       "      <td>0.03325</td>\n",
       "      <td>-0.017517</td>\n",
       "      <td>-0.005242</td>\n",
       "      <td>-0.004103</td>\n",
       "      <td>-0.000712</td>\n",
       "    </tr>\n",
       "    <tr>\n",
       "      <th>157</th>\n",
       "      <td>0.03345</td>\n",
       "      <td>-0.010342</td>\n",
       "      <td>-0.005045</td>\n",
       "      <td>0.001081</td>\n",
       "      <td>-0.002922</td>\n",
       "    </tr>\n",
       "    <tr>\n",
       "      <th>158</th>\n",
       "      <td>0.03365</td>\n",
       "      <td>-0.007844</td>\n",
       "      <td>-0.002345</td>\n",
       "      <td>0.001181</td>\n",
       "      <td>-0.002824</td>\n",
       "    </tr>\n",
       "    <tr>\n",
       "      <th>159</th>\n",
       "      <td>0.03385</td>\n",
       "      <td>-0.012740</td>\n",
       "      <td>-0.002543</td>\n",
       "      <td>-0.004004</td>\n",
       "      <td>-0.003016</td>\n",
       "    </tr>\n",
       "  </tbody>\n",
       "</table>\n",
       "<p>160 rows × 5 columns</p>\n",
       "</div>"
      ],
      "text/plain": [
       "     Image Index         A         X         V         T\n",
       "0        0.00205  0.033100  0.000708  0.004858 -0.000784\n",
       "1        0.00225  0.023568 -0.000496 -0.001688 -0.004997\n",
       "2        0.00245  0.021074 -0.003203 -0.001788 -0.005096\n",
       "3        0.00265  0.025995 -0.003003  0.003444 -0.004902\n",
       "4        0.00285  0.033198  0.003445  0.007542  0.001848\n",
       "..           ...       ...       ...       ...       ...\n",
       "155      0.03305 -0.012804  0.000025 -0.006591 -0.003019\n",
       "156      0.03325 -0.017517 -0.005242 -0.004103 -0.000712\n",
       "157      0.03345 -0.010342 -0.005045  0.001081 -0.002922\n",
       "158      0.03365 -0.007844 -0.002345  0.001181 -0.002824\n",
       "159      0.03385 -0.012740 -0.002543 -0.004004 -0.003016\n",
       "\n",
       "[160 rows x 5 columns]"
      ]
     },
     "execution_count": 65,
     "metadata": {},
     "output_type": "execute_result"
    }
   ],
   "source": [
    "sampled = []\n",
    "window = 0.02e-3\n",
    "\n",
    "for t in t_stamps:\n",
    "    filtered = simu[(simu['time'] >= t - window) & (simu['time'] <= t + window)]\n",
    "    \n",
    "    avg_A = filtered['A'].mean()\n",
    "    avg_X = filtered['X'].mean()\n",
    "    avg_V = filtered['V'].mean()\n",
    "    avg_T = filtered['T'].mean()\n",
    "    \n",
    "    sampled.append({\n",
    "        'Image Index': t,\n",
    "        'A': avg_A,\n",
    "        'X': avg_X,\n",
    "        'V': avg_V,\n",
    "        'T': avg_T\n",
    "    })\n",
    "\n",
    "sampled = pd.DataFrame(sampled)\n",
    "sampled"
   ]
  },
  {
   "cell_type": "code",
   "execution_count": 66,
   "id": "096828ea-b6be-4839-8b7d-4e0f5a515a7e",
   "metadata": {},
   "outputs": [
    {
     "data": {
      "text/html": [
       "<div>\n",
       "<style scoped>\n",
       "    .dataframe tbody tr th:only-of-type {\n",
       "        vertical-align: middle;\n",
       "    }\n",
       "\n",
       "    .dataframe tbody tr th {\n",
       "        vertical-align: top;\n",
       "    }\n",
       "\n",
       "    .dataframe thead th {\n",
       "        text-align: right;\n",
       "    }\n",
       "</style>\n",
       "<table border=\"1\" class=\"dataframe\">\n",
       "  <thead>\n",
       "    <tr style=\"text-align: right;\">\n",
       "      <th></th>\n",
       "      <th>Image Index</th>\n",
       "      <th>A</th>\n",
       "      <th>X</th>\n",
       "      <th>V</th>\n",
       "      <th>T</th>\n",
       "      <th>Predicted Class</th>\n",
       "    </tr>\n",
       "  </thead>\n",
       "  <tbody>\n",
       "    <tr>\n",
       "      <th>0</th>\n",
       "      <td>0.00205</td>\n",
       "      <td>0.033100</td>\n",
       "      <td>0.000708</td>\n",
       "      <td>0.004858</td>\n",
       "      <td>-0.000784</td>\n",
       "      <td>A</td>\n",
       "    </tr>\n",
       "    <tr>\n",
       "      <th>1</th>\n",
       "      <td>0.00225</td>\n",
       "      <td>0.023568</td>\n",
       "      <td>-0.000496</td>\n",
       "      <td>-0.001688</td>\n",
       "      <td>-0.004997</td>\n",
       "      <td>A</td>\n",
       "    </tr>\n",
       "    <tr>\n",
       "      <th>2</th>\n",
       "      <td>0.00245</td>\n",
       "      <td>0.021074</td>\n",
       "      <td>-0.003203</td>\n",
       "      <td>-0.001788</td>\n",
       "      <td>-0.005096</td>\n",
       "      <td>A</td>\n",
       "    </tr>\n",
       "    <tr>\n",
       "      <th>3</th>\n",
       "      <td>0.00265</td>\n",
       "      <td>0.025995</td>\n",
       "      <td>-0.003003</td>\n",
       "      <td>0.003444</td>\n",
       "      <td>-0.004902</td>\n",
       "      <td>A</td>\n",
       "    </tr>\n",
       "    <tr>\n",
       "      <th>4</th>\n",
       "      <td>0.00285</td>\n",
       "      <td>0.033198</td>\n",
       "      <td>0.003445</td>\n",
       "      <td>0.007542</td>\n",
       "      <td>0.001848</td>\n",
       "      <td>A</td>\n",
       "    </tr>\n",
       "    <tr>\n",
       "      <th>...</th>\n",
       "      <td>...</td>\n",
       "      <td>...</td>\n",
       "      <td>...</td>\n",
       "      <td>...</td>\n",
       "      <td>...</td>\n",
       "      <td>...</td>\n",
       "    </tr>\n",
       "    <tr>\n",
       "      <th>155</th>\n",
       "      <td>0.03305</td>\n",
       "      <td>-0.012804</td>\n",
       "      <td>0.000025</td>\n",
       "      <td>-0.006591</td>\n",
       "      <td>-0.003019</td>\n",
       "      <td>X</td>\n",
       "    </tr>\n",
       "    <tr>\n",
       "      <th>156</th>\n",
       "      <td>0.03325</td>\n",
       "      <td>-0.017517</td>\n",
       "      <td>-0.005242</td>\n",
       "      <td>-0.004103</td>\n",
       "      <td>-0.000712</td>\n",
       "      <td>T</td>\n",
       "    </tr>\n",
       "    <tr>\n",
       "      <th>157</th>\n",
       "      <td>0.03345</td>\n",
       "      <td>-0.010342</td>\n",
       "      <td>-0.005045</td>\n",
       "      <td>0.001081</td>\n",
       "      <td>-0.002922</td>\n",
       "      <td>V</td>\n",
       "    </tr>\n",
       "    <tr>\n",
       "      <th>158</th>\n",
       "      <td>0.03365</td>\n",
       "      <td>-0.007844</td>\n",
       "      <td>-0.002345</td>\n",
       "      <td>0.001181</td>\n",
       "      <td>-0.002824</td>\n",
       "      <td>V</td>\n",
       "    </tr>\n",
       "    <tr>\n",
       "      <th>159</th>\n",
       "      <td>0.03385</td>\n",
       "      <td>-0.012740</td>\n",
       "      <td>-0.002543</td>\n",
       "      <td>-0.004004</td>\n",
       "      <td>-0.003016</td>\n",
       "      <td>X</td>\n",
       "    </tr>\n",
       "  </tbody>\n",
       "</table>\n",
       "<p>160 rows × 6 columns</p>\n",
       "</div>"
      ],
      "text/plain": [
       "     Image Index         A         X         V         T Predicted Class\n",
       "0        0.00205  0.033100  0.000708  0.004858 -0.000784               A\n",
       "1        0.00225  0.023568 -0.000496 -0.001688 -0.004997               A\n",
       "2        0.00245  0.021074 -0.003203 -0.001788 -0.005096               A\n",
       "3        0.00265  0.025995 -0.003003  0.003444 -0.004902               A\n",
       "4        0.00285  0.033198  0.003445  0.007542  0.001848               A\n",
       "..           ...       ...       ...       ...       ...             ...\n",
       "155      0.03305 -0.012804  0.000025 -0.006591 -0.003019               X\n",
       "156      0.03325 -0.017517 -0.005242 -0.004103 -0.000712               T\n",
       "157      0.03345 -0.010342 -0.005045  0.001081 -0.002922               V\n",
       "158      0.03365 -0.007844 -0.002345  0.001181 -0.002824               V\n",
       "159      0.03385 -0.012740 -0.002543 -0.004004 -0.003016               X\n",
       "\n",
       "[160 rows x 6 columns]"
      ]
     },
     "execution_count": 66,
     "metadata": {},
     "output_type": "execute_result"
    }
   ],
   "source": [
    "def get_max_column(row):\n",
    "    return row[['A', 'X', 'V', 'T']].idxmax()\n",
    "sampled['Predicted Class'] = sampled.apply(get_max_column, axis=1)\n",
    "sampled.to_csv(\"Sampled_Results.csv\", index=False)\n",
    "sampled"
   ]
  },
  {
   "cell_type": "code",
   "execution_count": 69,
   "id": "d1143c06-5631-4c79-9965-0cb937929706",
   "metadata": {},
   "outputs": [
    {
     "name": "stdout",
     "output_type": "stream",
     "text": [
      "78.75%"
     ]
    }
   ],
   "source": [
    "ground_truth = ['A']*40 + ['X']*40 + ['V']*40 + ['T']*40\n",
    "correct_predictions = sampled['Predicted Class'] == ground_truth\n",
    "accuracy = correct_predictions.sum() / len(ground_truth)\n",
    "print(accuracy*100,end=\"%\")"
   ]
  },
  {
   "cell_type": "code",
   "execution_count": 78,
   "id": "918b4552-b0d3-4768-bfe7-9b874959d42c",
   "metadata": {},
   "outputs": [
    {
     "data": {
      "image/png": "[encoded data removed]",
      "text/plain": [
       "<Figure size 700x350 with 1 Axes>"
      ]
     },
     "metadata": {},
     "output_type": "display_data"
    }
   ],
   "source": [
    "plt.figure(figsize=(7, 3.5))\n",
    "\n",
    "plt.scatter(sampled.index, sampled['A'], color='red', label='A_pred', s=30, marker='o')  # Red dots for A\n",
    "plt.scatter(sampled.index, sampled['X'], color='blue', label='X_pred', s=30, marker='o')  # Blue dots for X\n",
    "plt.scatter(sampled.index, sampled['T'], color='green', label='T_pred', s=30, marker='o')  # Green dots for T\n",
    "plt.scatter(sampled.index, sampled['V'], color='orange', label='V_pred', s=30, marker='o')  # Orange dots for V\n",
    "\n",
    "plt.xlabel('Image Index')\n",
    "plt.ylabel('Predicted Voltages (V)')\n",
    "plt.legend()\n",
    "\n",
    "plt.show()"
   ]
  },
  {
   "cell_type": "code",
   "execution_count": null,
   "id": "7147e971-155f-4f82-a26e-85e4c3ad8e33",
   "metadata": {},
   "outputs": [],
   "source": []
  }
 ],
 "metadata": {
  "kernelspec": {
   "display_name": "Python 3 (ipykernel)",
   "language": "python",
   "name": "python3"
  },
  "language_info": {
   "codemirror_mode": {
    "name": "ipython",
    "version": 3
   },
   "file_extension": ".py",
   "mimetype": "text/x-python",
   "name": "python",
   "nbconvert_exporter": "python",
   "pygments_lexer": "ipython3",
   "version": "3.10.5"
  }
 },
 "nbformat": 4,
 "nbformat_minor": 5
}
