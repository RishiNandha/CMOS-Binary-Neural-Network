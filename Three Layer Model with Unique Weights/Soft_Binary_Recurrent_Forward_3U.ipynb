{
 "cells": [
  {
   "cell_type": "markdown",
   "id": "141370fc-54a4-4a6b-afcf-a7677dc6dc87",
   "metadata": {
    "id": "141370fc-54a4-4a6b-afcf-a7677dc6dc87"
   },
   "source": [
    "# Soft Binary Neural Network with Recurrent Crossbar Recycling"
   ]
  },
  {
   "cell_type": "markdown",
   "id": "508058d8-e23a-4c29-aad7-c2b233d621c9",
   "metadata": {
    "id": "508058d8-e23a-4c29-aad7-c2b233d621c9"
   },
   "source": [
    "## Imports and Dataset"
   ]
  },
  {
   "cell_type": "code",
   "execution_count": 1,
   "id": "9a70e539-1dc9-4e36-9c9f-18fbdaeede1f",
   "metadata": {
    "id": "9a70e539-1dc9-4e36-9c9f-18fbdaeede1f"
   },
   "outputs": [],
   "source": [
    "import numpy as np\n",
    "import torch\n",
    "import cv2 as cv\n",
    "import matplotlib.pyplot as plt\n",
    "import torch\n",
    "import torch.nn as nn\n",
    "import torch.optim as optim\n",
    "import torch.nn.functional as F\n",
    "from torch.utils.data import Dataset, DataLoader\n",
    "import os\n",
    "import ast\n",
    "import pandas as pd\n",
    "from sklearn.metrics import confusion_matrix\n",
    "import seaborn as sns\n",
    "import torchvision\n",
    "import torchvision.transforms as transforms\n",
    "from torch.utils.data import DataLoader\n",
    "device = torch.device(\"cuda\" if torch.cuda.is_available() else \"cpu\")"
   ]
  },
  {
   "cell_type": "code",
   "execution_count": 2,
   "id": "d406d54c-db27-4536-a8c1-f46437f6fb71",
   "metadata": {
    "id": "d406d54c-db27-4536-a8c1-f46437f6fb71"
   },
   "outputs": [],
   "source": [
    "def plot_history(history, num_epochs, element):\n",
    "    epochs = range(len(history[list(history.keys())[0]]))\n",
    "\n",
    "    fig, ax1 = plt.subplots(figsize=(12, 8))\n",
    "\n",
    "    ax1.plot(epochs, history[\"train_loss\"], label=\"Train Loss\", color=\"blue\")\n",
    "    ax1.plot(epochs, history[\"val_loss\"], label=\"Validation Loss\", color=\"red\")\n",
    "    ax1.set_xlabel(\"Epochs\", fontsize=14)\n",
    "    ax1.set_ylabel(\"Loss\", fontsize=14, color=\"blue\")\n",
    "    ax1.tick_params(axis=\"y\", labelcolor=\"blue\")\n",
    "    ax1.legend(loc=\"upper left\")\n",
    "    ax1.grid(True)\n",
    "\n",
    "    ax2 = ax1.twinx()\n",
    "    ax2.plot(epochs, history[\"train_accuracy\"], label=\"Train Accuracy\", color=\"green\")\n",
    "    ax2.plot(epochs, history[\"val_accuracy\"], label=\"Validation Accuracy\", color=\"orange\")\n",
    "    ax2.set_ylabel(\"Accuracy (%)\", fontsize=14, color=\"green\")\n",
    "    ax2.tick_params(axis=\"y\", labelcolor=\"green\")\n",
    "    ax2.legend(loc=\"upper right\")\n",
    "\n",
    "    plt.title(f\"Training and Validation Metrics for {element}\", fontsize=16)\n",
    "    plt.tight_layout()\n",
    "    plt.show()"
   ]
  },
  {
   "cell_type": "code",
   "execution_count": 3,
   "id": "7c658023-75df-4754-a617-a8ba6d08d068",
   "metadata": {
    "id": "7c658023-75df-4754-a617-a8ba6d08d068"
   },
   "outputs": [],
   "source": [
    "def test(model, test_loader, class_names=None):\n",
    "    model.eval()\n",
    "    total_loss = 0\n",
    "    total_correct = 0\n",
    "    total_samples = 0\n",
    "    all_predictions = []\n",
    "    all_labels = []\n",
    "\n",
    "    with torch.no_grad():\n",
    "        for inputs, labels in test_loader:\n",
    "            inputs, labels = inputs.to(device), labels.to(device)\n",
    "            outputs = model(inputs)\n",
    "            loss = criterion(outputs, labels)\n",
    "            total_loss += loss.item() * inputs.size(0)\n",
    "\n",
    "            _, predicted = torch.max(outputs, dim=1)\n",
    "            total_correct += (predicted == labels).sum().item()\n",
    "            total_samples += labels.size(0)\n",
    "\n",
    "            all_predictions.extend(predicted.cpu().numpy())\n",
    "            all_labels.extend(labels.cpu().numpy())\n",
    "\n",
    "    avg_loss = total_loss / total_samples\n",
    "    accuracy = (total_correct / total_samples) * 100\n",
    "\n",
    "    print(f\"Validation Loss: {avg_loss:.4f}\")\n",
    "    print(f\"Validation Accuracy: {accuracy:.2f}%\")\n",
    "\n",
    "    cm = confusion_matrix(all_labels, all_predictions)\n",
    "\n",
    "    plt.figure(figsize=(8, 6))\n",
    "    sns.heatmap(cm, annot=True, fmt=\"d\", cmap=\"Blues\", xticklabels=class_names, yticklabels=class_names)\n",
    "    plt.xlabel('Predicted Labels')\n",
    "    plt.ylabel('True Labels')\n",
    "    plt.title('Confusion Matrix')\n",
    "    plt.show()\n",
    "\n",
    "    return cm"
   ]
  },
  {
   "cell_type": "markdown",
   "id": "be5e8ced-6bb5-445a-9b04-bc268eec917e",
   "metadata": {
    "id": "be5e8ced-6bb5-445a-9b04-bc268eec917e"
   },
   "source": [
    "### MNIST Handwritten Digits"
   ]
  },
  {
   "cell_type": "code",
   "execution_count": 4,
   "id": "d3bbad17-7067-4f06-8755-012646ca9567",
   "metadata": {
    "colab": {
     "base_uri": "https://localhost:8080/"
    },
    "id": "d3bbad17-7067-4f06-8755-012646ca9567",
    "outputId": "f1798d9d-41cf-4c7c-810b-01a97006c6d8"
   },
   "outputs": [],
   "source": [
    "class BinarizeAndAddNoiseTransform:\n",
    "    def __init__(self, threshold, noise_std):\n",
    "        self.threshold = threshold\n",
    "        self.noise_std = noise_std\n",
    "\n",
    "    def __call__(self, img):\n",
    "        img = transforms.ToTensor()(img).to(device)\n",
    "        img = (img > self.threshold).float()\n",
    "        img = img[:,2:-2, 2:-2]\n",
    "        noise = torch.randn(img.size(), device=device) * self.noise_std\n",
    "        noisy_img = img + noise\n",
    "        return noisy_img\n",
    "\n",
    "binary_noise_transform = transforms.Compose([\n",
    "    BinarizeAndAddNoiseTransform(threshold=0.48, noise_std=0.05)\n",
    "])\n",
    "\n",
    "train_dataset = torchvision.datasets.MNIST(root='./data', train=True, download=True, transform=binary_noise_transform)\n",
    "train_loader = DataLoader(dataset=train_dataset, batch_size=1000, shuffle=True)\n",
    "\n",
    "test_dataset = torchvision.datasets.MNIST(root='./data', train=False, download=True, transform=binary_noise_transform)\n",
    "test_loader = DataLoader(dataset=test_dataset, batch_size=10000, shuffle=False)"
   ]
  },
  {
   "cell_type": "code",
   "execution_count": 5,
   "id": "bc40653e-ebac-4013-9ecb-27dfe1370edd",
   "metadata": {
    "id": "bc40653e-ebac-4013-9ecb-27dfe1370edd"
   },
   "outputs": [],
   "source": [
    "# Get a subset of the dataset\n",
    "train_in, train_lab = next(iter(train_loader))\n",
    "val_in, val_lab = next(iter(test_loader))\n",
    "\n",
    "# Move data to the appropriate device\n",
    "train_in, train_lab = train_in.to(device), train_lab.to(device)\n",
    "val_in, val_lab = val_in.to(device), val_lab.to(device)"
   ]
  },
  {
   "cell_type": "code",
   "execution_count": 6,
   "id": "d76599e3-3d87-4d1d-bd5f-41ca0adab18f",
   "metadata": {
    "colab": {
     "base_uri": "https://localhost:8080/",
     "height": 389
    },
    "id": "d76599e3-3d87-4d1d-bd5f-41ca0adab18f",
    "outputId": "1b72a9c5-d410-4fd7-d135-0495307455db"
   },
   "outputs": [
    {
     "data": {
      "image/png": "[encoded data removed]",
      "text/plain": [
       "<Figure size 1500x400 with 20 Axes>"
      ]
     },
     "metadata": {},
     "output_type": "display_data"
    },
    {
     "data": {
      "text/plain": [
       "torch.Size([1000, 1, 26, 26])"
      ]
     },
     "execution_count": 6,
     "metadata": {},
     "output_type": "execute_result"
    }
   ],
   "source": [
    "fig, axes = plt.subplots(nrows=2, ncols=10, figsize=(15, 4))\n",
    "for i, ax in enumerate(axes.flat):\n",
    "    ax.imshow(train_in[i].cpu().squeeze(), cmap='gray')\n",
    "    ax.set_title(f\"Label: {train_lab[i].item()}\", fontsize=10)\n",
    "    ax.axis('off')\n",
    "plt.tight_layout()\n",
    "plt.show()\n",
    "train_in.shape"
   ]
  },
  {
   "cell_type": "markdown",
   "id": "d1b44def-df85-406b-87e8-fbc5b4f7fe7a",
   "metadata": {
    "id": "d1b44def-df85-406b-87e8-fbc5b4f7fe7a"
   },
   "source": [
    "## Custom Neural Network"
   ]
  },
  {
   "cell_type": "code",
   "execution_count": 183,
   "id": "391dfb3d-1a2b-42d7-9ff7-e3f0e831d50a",
   "metadata": {
    "id": "391dfb3d-1a2b-42d7-9ff7-e3f0e831d50a"
   },
   "outputs": [],
   "source": [
    "torch.backends.cudnn.benchmark = True\n",
    "\n",
    "def tensor_stats(tensor, name=\"Tensor\"):\n",
    "    tensor = tensor.to(device)\n",
    "    mean_magnitude = tensor.abs().mean().item()\n",
    "    print(f\"{name} - Mean Magnitude: {mean_magnitude:.2e}, Max: {tensor.max().item():.2e}, Min: {tensor.min().item():.2e}\")\n",
    "\n",
    "import torch\n",
    "import torch.nn as nn\n",
    "\n",
    "class SoftBinaryRecurrentForwardNetwork(nn.Module):\n",
    "    def __init__(self, scaling, G_ON, G_OFF, V_INV, R_INV, V_1, V_0, zeta, initial_factor, crossbar=(64,64),\n",
    "                 input_size=676, encoding_size=3, output_size=10, data_in=48, bin_active=True,\n",
    "                 monitor_volts=False, monitor_grads=True, monitor_latents=False, dropout=0.01, alpha = 0.9,\n",
    "                 int_lr=0.01, int_norm=True, temperature_1 = 500, temperature_2 = 10000,monitor_annealing=False):\n",
    "        super().__init__()\n",
    "\n",
    "        self.w = nn.Parameter(initial_factor * torch.empty(crossbar, device=device))\n",
    "        nn.init.xavier_uniform_(self.w)\n",
    "        self.w.data = (initial_factor*(self.w.data))\n",
    "\n",
    "        self.G_ON, self.G_OFF = torch.tensor(G_ON, device=device)*scaling, torch.tensor(G_OFF, device=device)*scaling\n",
    "        self.V_INV, self.R_INV = torch.tensor(V_INV, device=device), torch.tensor(R_INV, device=device)\n",
    "        self.V_1, self.V_0 = torch.tensor(V_1, device=device), torch.tensor(V_0, device=device)\n",
    "\n",
    "        self.crossbar_in, self.crossbar_out = crossbar\n",
    "        self.encoding, self.data_in, self.output_size = encoding_size, data_in, output_size\n",
    "        self.r_passes = input_size // data_in\n",
    "\n",
    "        self.first_bias = (crossbar[0] - data_in) % encoding_size\n",
    "        self.final_bias = (crossbar[0] - self.encoding * self.r_passes - self.extra_final) % (self.extra_final + self.encoding)\n",
    "\n",
    "        self.feed_repeats = (crossbar[0] - data_in)//encoding_size\n",
    "        self.final_repeats = (crossbar[0] - self.encoding * self.r_passes - self.extra_final)//(self.extra_final + self.encoding)\n",
    "\n",
    "        self.zeta, self.int_lr = torch.tensor(zeta, device=device), torch.tensor(int_lr, device=device)\n",
    "        self.bin_active, self.int_norm = bin_active, int_norm\n",
    "        self.monitor_volts, self.monitor_grads, self.monitor_latents = monitor_volts, monitor_grads, monitor_latents\n",
    "        self.monitor_annealing = monitor_annealing\n",
    "        self.dropout = nn.Dropout(p=dropout)\n",
    "\n",
    "        self.temperature_1 = temperature_1\n",
    "        self.temperature_2 = temperature_2\n",
    "        self.device = device\n",
    "\n",
    "        self.velocity = torch.zeros(crossbar, device = device)\n",
    "        self.alpha = alpha\n",
    "\n",
    "    def INV_AMP(self, x, R_INV):\n",
    "        return -self.V_INV * torch.tanh(R_INV * x / self.V_INV)\n",
    "\n",
    "    def SOFT_BIN(self, x):\n",
    "        if self.bin_active: return ((self.G_ON - self.G_OFF) * torch.sigmoid(x * self.zeta) + self.G_OFF)\n",
    "        else: return self.G_ON * x * self.zeta * 0.4\n",
    "\n",
    "    def PREPROCESS(self, img):\n",
    "        return (self.V_1 - self.V_0) * img.to(device) + self.V_0\n",
    "\n",
    "    def ANNEALER(self):\n",
    "        prob = torch.exp(torch.tensor(-1.0, device=self.device) / self.temperature_1)\n",
    "        prob = torch.clamp(prob, min=1e-3, max=1)\n",
    "\n",
    "        rand_vals = torch.rand((64, 64), device=self.device)\n",
    "        annealed_mask = torch.where(rand_vals < prob, -1, torch.where(rand_vals < 2 * prob, 0, 1))\n",
    "\n",
    "        return annealed_mask\n",
    "\n",
    "    def forward(self, img):\n",
    "        # Preprocessing: Two States of input (V_ON and V_OFF)\n",
    "        img = self.PREPROCESS(img.view(img.size(0), -1))\n",
    "        bias = self.PREPROCESS(((-1) ** torch.arange(self.first_bias, device=device)).repeat(img.shape[0], 1))\n",
    "        bias2 = self.PREPROCESS(((-1) ** torch.arange(self.final_bias, device=device)).repeat(img.shape[0], 1))\n",
    "\n",
    "        # RRAM Soft Binarization\n",
    "        g = self.SOFT_BIN(self.w)\n",
    "        if self.monitor_latents: tensor_stats(self.w, \"Latent Weights:\")\n",
    "\n",
    "        # Recurrent Encoding Layer\n",
    "        out1size = self.crossbar_out - self.output_size\n",
    "        feedback = torch.zeros((img.shape[0], self.encoding*self.feed_repeats), device=device)\n",
    "        out1 = torch.zeros((img.shape[0], out1size), device = device)\n",
    "\n",
    "        for r_pass in range(self.r_passes):\n",
    "            ind_s, ind_f = self.crossbar_out - (r_pass+1)*self.encoding, self.crossbar_out - (r_pass)*self.encoding\n",
    "            ind_a, ind_b = out1size - (r_pass+1)*self.encoding, out1size - (r_pass)*self.encoding\n",
    "\n",
    "            x = torch.cat((feedback, bias, img[:, r_pass * self.data_in:(r_pass + 1) * self.data_in]), dim=1)\n",
    "            x = F.linear(x, g[ind_s:ind_f, : ], bias=None)\n",
    "\n",
    "            out1[:, ind_a:ind_b] = self.INV_AMP(x, self.R_INV)\n",
    "            if self.monitor_volts: tensor_stats(feedback, f\"Voltages in Recurrent Stage after pass {r_pass}\")\n",
    "\n",
    "            feedback = out1[:, ind_a:ind_b].repeat(1,self.feed_repeats)\n",
    "\n",
    "        x = torch.cat((feedback, bias2, out1), dim = 1)\n",
    "        x = self.dropout(x)\n",
    "\n",
    "        # Feature Extraction layer\n",
    "        \n",
    "        \n",
    "        # Classification Layer\n",
    "        x = F.linear(x, g[:self.output_size, : ], bias=None)\n",
    "        x = self.INV_AMP(x, self.R_INV)\n",
    "        if self.monitor_volts: tensor_stats(x, f\"Voltages after h_layer {h_pass}\")\n",
    "\n",
    "        return x\n",
    "\n",
    "    def backprop(self, ext_lr):\n",
    "        with torch.no_grad():\n",
    "            if self.w.grad is not None:\n",
    "                grad = self.w.grad.to(device)\n",
    "                for i in range(grad.shape[0]):\n",
    "                    if self.int_norm:\n",
    "                        grad[i] = self.int_lr * grad[i] / (torch.norm(grad[i]) + 1e-20)\n",
    "                    grad[i] = grad[i]\n",
    "                grad = grad + self.alpha*self.velocity\n",
    "                if self.monitor_grads: tensor_stats(ext_lr*grad, \"Gradients\")\n",
    "                self.w -= grad * ext_lr\n",
    "                self.velocity = grad\n",
    "                self.w.grad.zero_()\n",
    "\n",
    "    def anneal(self, inputs, labels, decay1, decay2):\n",
    "        with torch.no_grad():\n",
    "            outputs = self.forward(inputs)\n",
    "            old_loss = criterion(outputs, labels).item() * inputs.size(0)\n",
    "            old_w = self.w.data.clone()\n",
    "\n",
    "            self.w.data = self.w.data * self.ANNEALER()\n",
    "            outputs = self.forward(inputs)\n",
    "            new_loss = criterion(outputs, labels).item() * inputs.size(0)\n",
    "\n",
    "            acceptance_prob = torch.exp(torch.tensor(-(new_loss - old_loss) / self.temperature_2, device=self.device))\n",
    "            if self.monitor_annealing: print(\"Old & New Losses\", old_loss, new_loss,\"Probab:\", acceptance_prob)\n",
    "            if new_loss < old_loss or torch.rand(1, device=self.device) < acceptance_prob:\n",
    "                if self.monitor_annealing: print(\"Annealed weights accepted\")\n",
    "            else:\n",
    "                self.w.data = old_w\n",
    "\n",
    "            self.temperature_1 *= decay1\n",
    "            self.temperature_2 *= decay2"
   ]
  },
  {
   "cell_type": "markdown",
   "id": "845d51da-8368-4c97-89a2-9fc1374f408b",
   "metadata": {
    "id": "845d51da-8368-4c97-89a2-9fc1374f408b"
   },
   "source": [
    "## Model Parameters"
   ]
  },
  {
   "cell_type": "code",
   "execution_count": 200,
   "id": "d332b5ba-a9e0-4e8a-bff9-3176267bef00",
   "metadata": {
    "id": "d332b5ba-a9e0-4e8a-bff9-3176267bef00"
   },
   "outputs": [],
   "source": [
    "params_RRAM = {\n",
    "    \"scaling\": 3,\n",
    "    \"G_ON\": 6e-5,\n",
    "    \"G_OFF\": 2.88e-6,\n",
    "    \"V_INV\": 1.2,\n",
    "    \"R_INV\": 2400.0,\n",
    "    \"V_1\": 0.1,\n",
    "    \"V_0\": -0.1,\n",
    "    \"zeta\": 10.0,\n",
    "    \"initial_factor\": 0.01,\n",
    "    \"crossbar\": (64, 64),\n",
    "    \"input_size\": 676,\n",
    "    \"encoding_size\": 4,\n",
    "    \"output_size\": 10,\n",
    "    \"data_in\": 52,\n",
    "    \"bin_active\": True,\n",
    "    \"monitor_volts\": False,\n",
    "    \"monitor_grads\": False,\n",
    "    \"monitor_latents\": False,\n",
    "    \"dropout\": 0.05,\n",
    "    \"int_lr\": 0.01,\n",
    "    \"int_norm\": True,\n",
    "    \"ext_lr\": 200,\n",
    "    \"epochs\": 1000,\n",
    "    \"temperature_1\": 0.3,\n",
    "    \"temperature_2\": 25,\n",
    "    \"monitor_annealing\": False,\n",
    "    \"decay1\" : 0.99,\n",
    "    \"decay2\" : 0.95,\n",
    "    \"anneal_per_epoch\" : False,\n",
    "    \"anneal_per_batch\" : True,\n",
    "    \"early_stop_wait\": 21,\n",
    "    \"fine_tune_wait\": 7,\n",
    "    \"temperature_wait\": 3,\n",
    "    \"T_boost\": 500,\n",
    "    \"alpha\": 0.2\n",
    "}\n",
    "\n",
    "training_params = [\"noise_std\", \"batch_size\", \"lr\", \"epochs\",\"ext_lr\", \"decay1\", \"decay2\", \"anneal_per_epoch\", \n",
    "                   \"anneal_per_batch\", \"fine_tune_wait\", \"early_stop_wait\",\"temperature_wait\", \"T_boost\"]\n",
    "model_params = {k: v for k, v in params_RRAM.items() if k not in training_params}"
   ]
  },
  {
   "cell_type": "code",
   "execution_count": 201,
   "id": "83a6271e-f7f2-4be1-8a71-b162ad2055e9",
   "metadata": {
    "id": "83a6271e-f7f2-4be1-8a71-b162ad2055e9",
    "scrolled": true
   },
   "outputs": [],
   "source": [
    "model_RRAM = SoftBinaryRecurrentForwardNetwork(**model_params).to(device)"
   ]
  },
  {
   "cell_type": "code",
   "execution_count": 202,
   "id": "97dcb81c-7778-45d3-87ee-e6669632d2a0",
   "metadata": {},
   "outputs": [
    {
     "name": "stdout",
     "output_type": "stream",
     "text": [
      "Number of Bits Flipped : tensor(146.1207, device='cuda:0')\n",
      "Batchwise Acceptance tensor(0.6703, device='cuda:0')\n",
      "Epochwise Acceptance tensor(0.0183, device='cuda:0')\n"
     ]
    }
   ],
   "source": [
    "print(\"Number of Bits Flipped :\", 64*64*torch.exp(torch.tensor(-1.0, device=device) / model_RRAM.temperature_1))\n",
    "print(\"Batchwise Acceptance\", torch.exp(torch.tensor(-(10) / model_RRAM.temperature_2, device=device)))\n",
    "print(\"Epochwise Acceptance\", torch.exp(torch.tensor(-(100) / model_RRAM.temperature_2, device=device)))"
   ]
  },
  {
   "cell_type": "markdown",
   "id": "241d1155-be9e-4a7a-9a74-a1d608188350",
   "metadata": {
    "id": "241d1155-be9e-4a7a-9a74-a1d608188350"
   },
   "source": [
    "## Training:"
   ]
  },
  {
   "cell_type": "markdown",
   "id": "25c0b7d2-7c19-4b3e-8856-76d2e9f32792",
   "metadata": {
    "id": "25c0b7d2-7c19-4b3e-8856-76d2e9f32792"
   },
   "source": [
    "### Training to a subset of Dataset First\n",
    "\n",
    "This is just to see if the model is backpropagating before putting in into the full training"
   ]
  },
  {
   "cell_type": "code",
   "execution_count": 203,
   "id": "efd13def-9751-4e0e-89bf-666a98444d02",
   "metadata": {
    "colab": {
     "base_uri": "https://localhost:8080/"
    },
    "id": "efd13def-9751-4e0e-89bf-666a98444d02",
    "outputId": "76bd894d-87a5-429b-bb31-d646e8921856",
    "scrolled": true
   },
   "outputs": [
    {
     "name": "stdout",
     "output_type": "stream",
     "text": [
      "Epoch 1, LR: 8.0000, Train Loss: 2.3026, Train Accuracy: 9.90%, Temperatures:(0.15, 12.50)\n",
      "Epoch 2, LR: 40.0000, Train Loss: 2.3026, Train Accuracy: 9.90%, Temperatures:(0.07, 6.25)\n",
      "Epoch 3, LR: 200.0000, Train Loss: 2.3136, Train Accuracy: 12.10%, Temperatures:(0.04, 3.12)\n",
      "Epoch 4, LR: 200.0000, Train Loss: 2.7826, Train Accuracy: 12.00%, Temperatures:(0.02, 1.56)\n",
      "Epoch 5, LR: 200.0000, Train Loss: 2.5777, Train Accuracy: 10.70%, Temperatures:(0.01, 0.78)\n",
      "Epoch 6, LR: 200.0000, Train Loss: 2.3406, Train Accuracy: 12.60%, Temperatures:(0.00, 0.39)\n",
      "Epoch 7, LR: 200.0000, Train Loss: 2.1992, Train Accuracy: 20.60%, Temperatures:(0.00, 0.20)\n",
      "Epoch 8, LR: 200.0000, Train Loss: 2.0827, Train Accuracy: 19.10%, Temperatures:(0.00, 0.10)\n",
      "Epoch 9, LR: 200.0000, Train Loss: 1.9667, Train Accuracy: 25.30%, Temperatures:(0.00, 0.05)\n",
      "Epoch 10, LR: 200.0000, Train Loss: 1.8628, Train Accuracy: 27.00%, Temperatures:(0.00, 0.02)\n",
      "Epoch 11, LR: 200.0000, Train Loss: 1.7858, Train Accuracy: 34.10%, Temperatures:(0.00, 0.01)\n",
      "Epoch 12, LR: 200.0000, Train Loss: 1.7042, Train Accuracy: 41.90%, Temperatures:(0.00, 0.01)\n",
      "Epoch 13, LR: 200.0000, Train Loss: 1.6215, Train Accuracy: 55.00%, Temperatures:(0.00, 0.00)\n",
      "Epoch 14, LR: 200.0000, Train Loss: 1.5817, Train Accuracy: 56.30%, Temperatures:(0.00, 0.00)\n",
      "Epoch 15, LR: 200.0000, Train Loss: 1.5925, Train Accuracy: 56.50%, Temperatures:(0.00, 0.00)\n",
      "Epoch 16, LR: 200.0000, Train Loss: 1.5819, Train Accuracy: 57.30%, Temperatures:(0.00, 0.00)\n",
      "Epoch 17, LR: 200.0000, Train Loss: 1.6471, Train Accuracy: 50.20%, Temperatures:(0.00, 0.00)\n",
      "Epoch 18, LR: 200.0000, Train Loss: 1.5759, Train Accuracy: 55.20%, Temperatures:(0.00, 0.00)\n",
      "Epoch 19, LR: 200.0000, Train Loss: 1.7169, Train Accuracy: 48.90%, Temperatures:(0.00, 0.00)\n",
      "Epoch 20, LR: 200.0000, Train Loss: 1.5958, Train Accuracy: 57.00%, Temperatures:(0.00, 0.00)\n",
      "Epoch 21, LR: 200.0000, Train Loss: 1.5339, Train Accuracy: 62.40%, Temperatures:(0.00, 0.00)\n",
      "Epoch 22, LR: 200.0000, Train Loss: 1.5349, Train Accuracy: 63.40%, Temperatures:(0.00, 0.00)\n",
      "Epoch 23, LR: 200.0000, Train Loss: 1.4884, Train Accuracy: 66.10%, Temperatures:(0.00, 0.00)\n",
      "Epoch 24, LR: 200.0000, Train Loss: 1.5071, Train Accuracy: 61.20%, Temperatures:(0.00, 0.00)\n",
      "Epoch 25, LR: 200.0000, Train Loss: 1.4681, Train Accuracy: 62.10%, Temperatures:(0.00, 0.00)\n",
      "Epoch 26, LR: 200.0000, Train Loss: 1.4725, Train Accuracy: 61.50%, Temperatures:(0.00, 0.00)\n",
      "Epoch 27, LR: 200.0000, Train Loss: 1.4661, Train Accuracy: 63.10%, Temperatures:(0.00, 0.00)\n",
      "Epoch 28, LR: 200.0000, Train Loss: 1.4438, Train Accuracy: 66.70%, Temperatures:(0.00, 0.00)\n",
      "Epoch 29, LR: 200.0000, Train Loss: 1.4706, Train Accuracy: 64.30%, Temperatures:(0.00, 0.00)\n",
      "Epoch 30, LR: 200.0000, Train Loss: 1.4842, Train Accuracy: 63.30%, Temperatures:(0.00, 0.00)\n",
      "Epoch 31, LR: 200.0000, Train Loss: 1.4693, Train Accuracy: 63.60%, Temperatures:(0.00, 0.00)\n",
      "Epoch 32, LR: 200.0000, Train Loss: 1.4779, Train Accuracy: 66.00%, Temperatures:(0.00, 0.00)\n",
      "Epoch 33, LR: 200.0000, Train Loss: 1.4827, Train Accuracy: 61.10%, Temperatures:(0.00, 0.00)\n",
      "Epoch 34, LR: 200.0000, Train Loss: 1.4959, Train Accuracy: 62.60%, Temperatures:(0.00, 0.00)\n",
      "Epoch 35, LR: 200.0000, Train Loss: 1.4940, Train Accuracy: 60.70%, Temperatures:(0.00, 0.00)\n",
      "Epoch 36, LR: 200.0000, Train Loss: 1.4475, Train Accuracy: 67.10%, Temperatures:(0.00, 0.00)\n",
      "Epoch 37, LR: 200.0000, Train Loss: 1.4773, Train Accuracy: 63.70%, Temperatures:(0.00, 0.00)\n",
      "Epoch 38, LR: 200.0000, Train Loss: 1.4492, Train Accuracy: 65.70%, Temperatures:(0.00, 0.00)\n",
      "Epoch 39, LR: 200.0000, Train Loss: 1.4306, Train Accuracy: 66.90%, Temperatures:(0.00, 0.00)\n",
      "Epoch 40, LR: 200.0000, Train Loss: 1.4457, Train Accuracy: 69.00%, Temperatures:(0.00, 0.00)\n",
      "Epoch 41, LR: 200.0000, Train Loss: 1.4274, Train Accuracy: 67.10%, Temperatures:(0.00, 0.00)\n",
      "Epoch 42, LR: 200.0000, Train Loss: 1.4746, Train Accuracy: 66.70%, Temperatures:(0.00, 0.00)\n",
      "Epoch 43, LR: 200.0000, Train Loss: 1.4380, Train Accuracy: 65.80%, Temperatures:(0.00, 0.00)\n",
      "Epoch 44, LR: 200.0000, Train Loss: 1.4649, Train Accuracy: 68.40%, Temperatures:(0.00, 0.00)\n",
      "Epoch 45, LR: 200.0000, Train Loss: 1.4591, Train Accuracy: 64.00%, Temperatures:(0.00, 0.00)\n",
      "Epoch 46, LR: 200.0000, Train Loss: 1.4519, Train Accuracy: 69.70%, Temperatures:(0.00, 0.00)\n",
      "Epoch 47, LR: 200.0000, Train Loss: 1.4406, Train Accuracy: 67.40%, Temperatures:(0.00, 0.00)\n",
      "Epoch 48, LR: 200.0000, Train Loss: 1.4422, Train Accuracy: 69.00%, Temperatures:(0.00, 0.00)\n",
      "Epoch 49, LR: 200.0000, Train Loss: 1.4503, Train Accuracy: 64.30%, Temperatures:(0.00, 0.00)\n",
      "Epoch 50, LR: 200.0000, Train Loss: 1.4447, Train Accuracy: 68.20%, Temperatures:(0.00, 0.00)\n"
     ]
    }
   ],
   "source": [
    "# Training parameters\n",
    "lr = params_RRAM[\"ext_lr\"] / 25  # Initial learning rate\n",
    "num_epochs = 50\n",
    "\n",
    "criterion = nn.CrossEntropyLoss().to(device)\n",
    "\n",
    "for epoch in range(num_epochs):\n",
    "    if epoch == 1:\n",
    "        lr *= 5\n",
    "    elif epoch == 2:\n",
    "        lr *= 5\n",
    "\n",
    "    model_RRAM.train()\n",
    "    outputs = model_RRAM(train_in)\n",
    "    loss = criterion(outputs, train_lab)\n",
    "    loss.backward()\n",
    "    model_RRAM.backprop(lr)\n",
    "    model_RRAM.anneal(train_in, train_lab,0.5, 0.5)\n",
    "\n",
    "    _, train_preds = torch.max(outputs, dim=1)\n",
    "    train_accuracy = (train_preds == train_lab).float().mean().item() * 100\n",
    "\n",
    "    print(f\"Epoch {epoch + 1}, LR: {lr:.4f}, Train Loss: {loss.item():.4f}, \"\n",
    "          f\"Train Accuracy: {train_accuracy:.2f}%, Temperatures:({model_RRAM.temperature_1:.2f}, {model_RRAM.temperature_2:.2f})\")\n",
    "\n",
    "    if epoch % 50 == 0 and epoch != 0:\n",
    "        lr /= 2\n",
    "\n",
    "model_RRAM = SoftBinaryRecurrentForwardNetwork(**model_params).to(device)"
   ]
  },
  {
   "cell_type": "markdown",
   "id": "282eeb54-9acf-4ce6-b5f0-13e5c60f8614",
   "metadata": {
    "id": "282eeb54-9acf-4ce6-b5f0-13e5c60f8614"
   },
   "source": [
    "### Loading Past Best Model"
   ]
  },
  {
   "cell_type": "code",
   "execution_count": 206,
   "id": "e0de620a-e0e4-49cf-863d-721e2680dd58",
   "metadata": {
    "colab": {
     "base_uri": "https://localhost:8080/"
    },
    "id": "e0de620a-e0e4-49cf-863d-721e2680dd58",
    "outputId": "3fc15a9d-cc8e-4351-ff9c-d40906fc055f"
   },
   "outputs": [
    {
     "name": "stdout",
     "output_type": "stream",
     "text": [
      "\n",
      " Best Validation Loss: 1.306089\n",
      "\n",
      " Parameters for Best Loss Model: {'scaling': 3, 'G_ON': 6e-05, 'G_OFF': 2.88e-06, 'V_INV': 1.2, 'R_INV': 2400.0, 'V_1': 0.1, 'V_0': -0.1, 'zeta': 10.0, 'initial_factor': 0.01, 'crossbar': (64, 64), 'input_size': 676, 'encoding_size': 4, 'output_size': 10, 'data_in': 52, 'bin_active': True, 'monitor_volts': False, 'monitor_grads': False, 'monitor_latents': False, 'dropout': 0.05, 'int_lr': 0.01, 'int_norm': True, 'ext_lr': 200, 'epochs': 1000, 'temperature_1': 0.4, 'temperature_2': 25, 'monitor_annealing': False, 'decay1': 0.99, 'decay2': 0.95, 'anneal_per_epoch': False, 'anneal_per_batch': True, 'early_stop_wait': 21, 'fine_tune_wait': 7, 'temperature_wait': 3, 'T_boost': 500}\n",
      "\n",
      " Best Validation Accuracy: 71.01\n",
      "\n",
      " Parameters for Best Accuracy Model: {'scaling': 3, 'G_ON': 6e-05, 'G_OFF': 2.88e-06, 'V_INV': 1.2, 'R_INV': 2400.0, 'V_1': 0.1, 'V_0': -0.1, 'zeta': 10.0, 'initial_factor': 0.01, 'crossbar': (64, 64), 'input_size': 676, 'encoding_size': 4, 'output_size': 10, 'data_in': 52, 'bin_active': True, 'monitor_volts': False, 'monitor_grads': False, 'monitor_latents': False, 'dropout': 0.05, 'int_lr': 0.01, 'int_norm': True, 'ext_lr': 200, 'epochs': 1000, 'temperature_1': 0.4, 'temperature_2': 25, 'monitor_annealing': False, 'decay1': 0.999, 'decay2': 0.95, 'anneal_per_epoch': False, 'anneal_per_batch': True, 'early_stop_wait': 21, 'fine_tune_wait': 7, 'temperature_wait': 3, 'T_boost': 500}\n"
     ]
    }
   ],
   "source": [
    "try:\n",
    "    # Load best validation loss model\n",
    "    with open(\"Best_Val_Loss.txt\", 'r') as f:\n",
    "        global_best_val_loss = float(f.read())\n",
    "    with open(\"Best_Params_Loss.txt\", 'r') as f:\n",
    "        params_best_loss = ast.literal_eval(f.read())\n",
    "\n",
    "    model_best_loss = SoftBinaryRecurrentForwardNetwork(**model_params).to(device)\n",
    "\n",
    "    print(\"\\n Best Validation Loss:\", global_best_val_loss)\n",
    "    print(\"\\n Parameters for Best Loss Model:\", params_best_loss)\n",
    "\n",
    "    checkpoint_loss = torch.load(\"Best_model_loss.pth\")\n",
    "    model_best_loss.load_state_dict(checkpoint_loss)\n",
    "\n",
    "except Exception as e:\n",
    "    print(\"Error loading best loss model:\", e)\n",
    "    global_best_val_loss = float('inf')\n",
    "    print(\"No Saved Model for Best Loss\")\n",
    "\n",
    "try:\n",
    "    # Load best validation accuracy model\n",
    "    with open(\"Best_Val_Acc.txt\", 'r') as f:\n",
    "        global_best_val_acc = float(f.read())\n",
    "    with open(\"Best_Params_Acc.txt\", 'r') as f:\n",
    "        params_best_acc = ast.literal_eval(f.read())\n",
    "\n",
    "    model_best_acc = SoftBinaryRecurrentForwardNetwork(**model_params).to(device)\n",
    "\n",
    "    print(\"\\n Best Validation Accuracy:\", global_best_val_acc)\n",
    "    print(\"\\n Parameters for Best Accuracy Model:\", params_best_acc)\n",
    "\n",
    "    checkpoint_acc = torch.load(\"Best_model_acc.pth\")\n",
    "    model_best_acc.load_state_dict(checkpoint_acc)\n",
    "\n",
    "except Exception as e:\n",
    "    print(\"Error loading best accuracy model:\", e)\n",
    "    global_best_val_acc = 0.0\n",
    "    print(\"No Saved Model for Best Accuracy\")\n"
   ]
  },
  {
   "cell_type": "code",
   "execution_count": 207,
   "id": "786757d6-3ef8-4327-900a-94924d5a1b57",
   "metadata": {
    "id": "786757d6-3ef8-4327-900a-94924d5a1b57"
   },
   "outputs": [],
   "source": [
    "history_RRAM = {\n",
    "    \"train_loss\": [],\n",
    "    \"train_accuracy\": [],\n",
    "    \"val_loss\": [],\n",
    "    \"val_accuracy\": []\n",
    "}"
   ]
  },
  {
   "cell_type": "markdown",
   "id": "8dc53685-ceb0-4b1c-a03f-04ca24416013",
   "metadata": {
    "id": "8dc53685-ceb0-4b1c-a03f-04ca24416013"
   },
   "source": [
    "### Complete Training"
   ]
  },
  {
   "cell_type": "code",
   "execution_count": 208,
   "id": "a9ed1842-f618-4562-8e82-c5355ca39f90",
   "metadata": {
    "colab": {
     "base_uri": "https://localhost:8080/"
    },
    "id": "a9ed1842-f618-4562-8e82-c5355ca39f90",
    "outputId": "aba2264c-4110-4c7e-b283-98b16068904d"
   },
   "outputs": [
    {
     "name": "stdout",
     "output_type": "stream",
     "text": [
      "Epoch 1, LR: 8.0000, Train Loss: 2.0119, Train Acc: 29.70%, Val Loss: 1.7075, Val Acc: 46.90%, Temperatures: (0.16, 1.15)\n",
      "Epoch 2, LR: 40.0000, Train Loss: 1.5381, Train Acc: 56.91%, Val Loss: 1.4238, Val Acc: 62.74%, Temperatures: (0.09, 0.05)\n",
      "Epoch 3, LR: 200.0000, Train Loss: 1.4480, Train Acc: 63.98%, Val Loss: 1.4174, Val Acc: 67.66%, Temperatures: (0.05, 0.00)\n",
      "Epoch 4, LR: 200.0000, Train Loss: 1.4340, Train Acc: 64.81%, Val Loss: 1.3689, Val Acc: 68.42%, Temperatures: (0.03, 0.00)\n",
      "Epoch 5, LR: 200.0000, Train Loss: 1.4118, Train Acc: 66.60%, Val Loss: 1.3784, Val Acc: 67.79%, Temperatures: (0.01, 0.00)\n",
      "Epoch 6, LR: 200.0000, Train Loss: 1.4288, Train Acc: 65.60%, Val Loss: 1.4040, Val Acc: 67.33%, Temperatures: (0.01, 0.00)\n",
      "Epoch 7, LR: 200.0000, Train Loss: 1.4413, Train Acc: 64.70%, Val Loss: 1.4494, Val Acc: 62.46%, Temperatures: (0.00, 0.00)\n",
      "Epoch 8, LR: 200.0000, Train Loss: 1.4651, Train Acc: 62.97%, Val Loss: 1.4200, Val Acc: 63.61%, Temperatures: (0.00, 0.00)\n",
      "Training plateau detected. Temporarily increasing temperature_2 to 0.00\n",
      "Epoch 9, LR: 200.0000, Train Loss: 1.4610, Train Acc: 62.62%, Val Loss: 1.5528, Val Acc: 55.97%, Temperatures: (0.00, 0.00)\n",
      "Epoch 10, LR: 200.0000, Train Loss: 1.5301, Train Acc: 58.33%, Val Loss: 1.5530, Val Acc: 55.73%, Temperatures: (0.00, 0.00)\n",
      "Epoch 11, LR: 200.0000, Train Loss: 1.5236, Train Acc: 57.66%, Val Loss: 1.4639, Val Acc: 62.64%, Temperatures: (0.00, 0.00)\n",
      "Epoch 12, LR: 200.0000, Train Loss: 1.5003, Train Acc: 60.55%, Val Loss: 1.4614, Val Acc: 61.92%, Temperatures: (0.00, 0.00)\n",
      "No improvement for 7 epochs. Reducing LR to 40.0000\n",
      "Epoch 13, LR: 40.0000, Train Loss: 1.4997, Train Acc: 60.68%, Val Loss: 1.4638, Val Acc: 62.16%, Temperatures: (0.00, 0.00)\n",
      "Epoch 14, LR: 40.0000, Train Loss: 1.4929, Train Acc: 60.82%, Val Loss: 1.4591, Val Acc: 62.98%, Temperatures: (0.00, 0.00)\n",
      "Epoch 15, LR: 40.0000, Train Loss: 1.4903, Train Acc: 61.67%, Val Loss: 1.4538, Val Acc: 62.20%, Temperatures: (0.00, 0.00)\n",
      "Epoch 16, LR: 40.0000, Train Loss: 1.4962, Train Acc: 60.09%, Val Loss: 1.4664, Val Acc: 60.89%, Temperatures: (0.00, 0.00)\n",
      "Epoch 17, LR: 40.0000, Train Loss: 1.4931, Train Acc: 60.03%, Val Loss: 1.4568, Val Acc: 62.95%, Temperatures: (0.00, 0.00)\n",
      "Epoch 18, LR: 40.0000, Train Loss: 1.4901, Train Acc: 60.42%, Val Loss: 1.4582, Val Acc: 62.54%, Temperatures: (0.00, 0.00)\n",
      "Epoch 19, LR: 40.0000, Train Loss: 1.4886, Train Acc: 60.99%, Val Loss: 1.4566, Val Acc: 63.28%, Temperatures: (0.00, 0.00)\n",
      "No improvement for 7 epochs. Reducing LR to 8.0000\n",
      "Epoch 20, LR: 8.0000, Train Loss: 1.4952, Train Acc: 61.43%, Val Loss: 1.4600, Val Acc: 62.96%, Temperatures: (0.00, 0.00)\n",
      "Epoch 21, LR: 8.0000, Train Loss: 1.4994, Train Acc: 61.23%, Val Loss: 1.4592, Val Acc: 63.68%, Temperatures: (0.00, 0.00)\n",
      "Epoch 22, LR: 8.0000, Train Loss: 1.4949, Train Acc: 62.02%, Val Loss: 1.4624, Val Acc: 64.06%, Temperatures: (0.00, 0.00)\n",
      "Epoch 23, LR: 8.0000, Train Loss: 1.4945, Train Acc: 61.59%, Val Loss: 1.4687, Val Acc: 63.21%, Temperatures: (0.00, 0.00)\n",
      "Epoch 24, LR: 8.0000, Train Loss: 1.5061, Train Acc: 60.26%, Val Loss: 1.4745, Val Acc: 62.13%, Temperatures: (0.00, 0.00)\n",
      "Epoch 25, LR: 8.0000, Train Loss: 1.5123, Train Acc: 59.67%, Val Loss: 1.4805, Val Acc: 60.75%, Temperatures: (0.00, 0.00)\n",
      "Early stopping triggered.\n"
     ]
    }
   ],
   "source": [
    "lr = params_RRAM[\"ext_lr\"] / 25\n",
    "num_epochs = params_RRAM[\"epochs\"]\n",
    "patience_stop, patience_lr, patience_T = params_RRAM[\"early_stop_wait\"], params_RRAM[\"fine_tune_wait\"], params_RRAM[\"temperature_wait\"]\n",
    "wait_lr, wait_stop = 0, 0\n",
    "cur_best_val_loss, cur_best_val_acc = float('inf'), 0\n",
    "temp_boosted = False\n",
    "\n",
    "for epoch in range(num_epochs):\n",
    "    if epoch == 0:\n",
    "        lr = lr\n",
    "    elif epoch <= 2:\n",
    "        lr *= 5\n",
    "\n",
    "    model_RRAM.train().to(device)\n",
    "    train_loss, train_correct, total_samples = 0, 0, 0\n",
    "\n",
    "    for inputs, labels in train_loader:\n",
    "        inputs, labels = inputs.to(device), labels.to(device)\n",
    "        outputs = model_RRAM(inputs)\n",
    "        loss = criterion(outputs, labels)\n",
    "\n",
    "        loss.backward()\n",
    "        model_RRAM.backprop(lr)\n",
    "\n",
    "        train_loss += loss.item() * inputs.size(0)\n",
    "        train_correct += (outputs.argmax(1) == labels).sum().item()\n",
    "        total_samples += inputs.size(0)\n",
    "        \n",
    "        if params_RRAM[\"anneal_per_batch\"]:\n",
    "            model_RRAM.anneal(inputs, labels, params_RRAM[\"decay1\"], params_RRAM[\"decay2\"])\n",
    "\n",
    "    train_loss /= total_samples\n",
    "    train_accuracy = 100 * train_correct / total_samples\n",
    "\n",
    "    model_RRAM.eval()\n",
    "    val_loss, val_correct, total_test_samples = 0, 0, 0\n",
    "\n",
    "    with torch.no_grad():\n",
    "        for inputs, labels in test_loader:\n",
    "            inputs, labels = inputs.to(device), labels.to(device)\n",
    "            outputs = model_RRAM(inputs)\n",
    "            loss = criterion(outputs, labels)\n",
    "\n",
    "            val_loss += loss.item() * inputs.size(0)\n",
    "            val_correct += (outputs.argmax(1) == labels).sum().item()\n",
    "            total_test_samples += inputs.size(0)\n",
    "\n",
    "    val_loss /= total_test_samples\n",
    "    val_accuracy = 100 * val_correct / total_test_samples\n",
    "\n",
    "    history_RRAM[\"train_loss\"].append(train_loss)\n",
    "    history_RRAM[\"train_accuracy\"].append(train_accuracy)\n",
    "    history_RRAM[\"val_loss\"].append(val_loss)\n",
    "    history_RRAM[\"val_accuracy\"].append(val_accuracy)\n",
    "\n",
    "    print(f\"Epoch {epoch + 1}, LR: {lr:.4f}, Train Loss: {train_loss:.4f}, Train Acc: {train_accuracy:.2f}%, \"\n",
    "          f\"Val Loss: {val_loss:.4f}, Val Acc: {val_accuracy:.2f}%, Temperatures: ({model_RRAM.temperature_1:.2f}, {model_RRAM.temperature_2:.2f})\")\n",
    "\n",
    "    if val_loss < global_best_val_loss:\n",
    "        global_best_val_loss = val_loss\n",
    "        torch.save(model_RRAM.state_dict(), \"Best_model_loss.pth\")\n",
    "        with open(\"Best_Val_Loss.txt\", \"w\") as f:\n",
    "            f.write(f\"{val_loss:.6f}\")\n",
    "        with open(\"Best_Params_Loss.txt\", \"w\") as f:\n",
    "            f.write(f\"{params_RRAM}\")\n",
    "        print(f\"Model saved with best validation loss: {val_loss:.6f}\")\n",
    "\n",
    "    if val_accuracy > global_best_val_acc:\n",
    "        global_best_val_acc = val_accuracy\n",
    "        torch.save(model_RRAM.state_dict(), \"Best_model_acc.pth\")\n",
    "        with open(\"Best_Val_Acc.txt\", \"w\") as f:\n",
    "            f.write(f\"{val_accuracy:.6f}\")\n",
    "        with open(\"Best_Params_Acc.txt\", \"w\") as f:\n",
    "            f.write(f\"{params_RRAM}\")\n",
    "        print(f\"Model saved with best validation accuracy: {val_accuracy:.6f}\")\n",
    "\n",
    "    if params_RRAM[\"anneal_per_epoch\"]:\n",
    "        model_RRAM.anneal(inputs, labels, params_RRAM[\"decay1\"], params_RRAM[\"decay2\"])\n",
    "\n",
    "    if wait_lr >= patience_lr and epoch > 3:\n",
    "        lr /= 5\n",
    "        wait_lr = 0\n",
    "        print(f\"No improvement for {patience_lr} epochs. Reducing LR to {lr:.4f}\")\n",
    "\n",
    "    if wait_lr >= patience_T and not temp_boosted:\n",
    "        model_RRAM.temperature_2 *= params_RRAM[\"T_boost\"]\n",
    "        temp_boosted = True\n",
    "        print(f\"Training plateau detected. Temporarily increasing temperature_2 to {model_RRAM.temperature_2:.2f}\")\n",
    "\n",
    "    if val_loss < cur_best_val_loss - 0.001 or val_accuracy > cur_best_val_acc + 0.1:\n",
    "        if temp_boosted:\n",
    "            model_RRAM.temperature_2 /= params_RRAM[\"T_boost\"]\n",
    "            temp_boosted = False\n",
    "            print(f\"Training improved. Restoring temperature_2 to {model_RRAM.temperature_2:.2f}\")\n",
    "\n",
    "        cur_best_val_loss = min(cur_best_val_loss, val_loss)\n",
    "        cur_best_val_acc = max(cur_best_val_acc, val_accuracy)\n",
    "        wait_stop = 0\n",
    "        wait_lr = 0\n",
    "    else:\n",
    "        wait_stop += 1\n",
    "        wait_lr += 1\n",
    "\n",
    "    if wait_stop >= patience_stop and epoch > 6:\n",
    "        print(\"Early stopping triggered.\")\n",
    "        break\n"
   ]
  },
  {
   "cell_type": "code",
   "execution_count": 209,
   "id": "070a2ef8-94c5-49ca-bd35-3ed75ae2327b",
   "metadata": {
    "id": "070a2ef8-94c5-49ca-bd35-3ed75ae2327b"
   },
   "outputs": [
    {
     "data": {
      "image/png": "[encoded data removed]",
      "text/plain": [
       "<Figure size 1200x800 with 2 Axes>"
      ]
     },
     "metadata": {},
     "output_type": "display_data"
    }
   ],
   "source": [
    "plot_history(history_RRAM, num_epochs, \"RRAM\")"
   ]
  },
  {
   "cell_type": "code",
   "execution_count": null,
   "id": "3d430e62-7d42-4210-8696-64d49d843f91",
   "metadata": {},
   "outputs": [],
   "source": [
    "# model_RRAM.load_state_dict(model_best_acc.state_dict())"
   ]
  },
  {
   "cell_type": "markdown",
   "id": "c93e55bc-1bae-4483-a3cf-01cde188dc69",
   "metadata": {
    "id": "c93e55bc-1bae-4483-a3cf-01cde188dc69"
   },
   "source": [
    "## Testing"
   ]
  },
  {
   "cell_type": "markdown",
   "id": "af52e53e-15ed-441f-8412-d94c5d6a0bdb",
   "metadata": {
    "id": "af52e53e-15ed-441f-8412-d94c5d6a0bdb"
   },
   "source": [
    "### Current Model"
   ]
  },
  {
   "cell_type": "code",
   "execution_count": null,
   "id": "51271c7c-25b1-4702-9db1-9ae4b805843c",
   "metadata": {
    "id": "51271c7c-25b1-4702-9db1-9ae4b805843c"
   },
   "outputs": [],
   "source": [
    "print(0 + (model_RRAM.w > 0))"
   ]
  },
  {
   "cell_type": "code",
   "execution_count": null,
   "id": "9d477c9e-5678-4d07-a5ac-48f01480c916",
   "metadata": {
    "id": "9d477c9e-5678-4d07-a5ac-48f01480c916"
   },
   "outputs": [],
   "source": [
    "cm = test(model_RRAM, val_inputs, val_labels, class_names = [\"A\", \"T\", \"V\", \"X\"])"
   ]
  },
  {
   "cell_type": "markdown",
   "id": "ed7941df-4678-4955-8a0f-f38b43f6b197",
   "metadata": {
    "id": "ed7941df-4678-4955-8a0f-f38b43f6b197"
   },
   "source": [
    "## Best Model:"
   ]
  },
  {
   "cell_type": "code",
   "execution_count": null,
   "id": "867574d7-3627-49ff-a430-1d658fa4d655",
   "metadata": {
    "id": "867574d7-3627-49ff-a430-1d658fa4d655"
   },
   "outputs": [],
   "source": [
    "0+1*(model_best.w>0)"
   ]
  },
  {
   "cell_type": "code",
   "execution_count": null,
   "id": "32ca56c6-7023-416e-9675-93f1a3c8cc78",
   "metadata": {
    "id": "32ca56c6-7023-416e-9675-93f1a3c8cc78"
   },
   "outputs": [],
   "source": [
    "cm = test(model_best, val_inputs, val_labels, class_names = [\"A\", \"T\", \"V\", \"X\"])"
   ]
  },
  {
   "cell_type": "markdown",
   "id": "ad288f0b-0ec9-415d-96cc-a4ecec7aa5ce",
   "metadata": {
    "id": "ad288f0b-0ec9-415d-96cc-a4ecec7aa5ce"
   },
   "source": [
    "## PWL Generation\n",
    "\n",
    "Let's assume that we will program the two crossbars with seperate PWLs. That is, during programming, we will cut the Inverting Amplifier stages with a pass transistor and connect the programming lines with a pass transistor. First array has 16 Top PWLs and 8 Bottom PWLs. Second array has 8 Top PWLs and 4 Bottom PWLs. And then once the programming switch is toggled to inference mode, only the 16 Top PWLs are to be changed. Let's also generate a PWL for that too.\n",
    "\n",
    "In the code below, we will first maintain tuples for each PWL that holds what the voltage should be. And then we will write a function that will take there and space pulses of the given voltage that are 100us apart from other and have an ON duration of 100us"
   ]
  },
  {
   "cell_type": "code",
   "execution_count": null,
   "id": "58d5cebb-fc99-4a00-87a1-e183838c9a64",
   "metadata": {
    "id": "58d5cebb-fc99-4a00-87a1-e183838c9a64"
   },
   "outputs": [],
   "source": [
    "WL_FC1 = [list() for i in range(16)]\n",
    "BL_FC1 = [list() for i in range(8)]\n",
    "WL_FC2 = [list() for i in range(8)]\n",
    "BL_FC2 = [list() for i in range(4)]\n",
    "Mode = []\n",
    "Mode_B = []\n",
    "\n",
    "V_WRITE = 1.5\n",
    "V_READ = 0.1\n",
    "V_mode = 1.2"
   ]
  },
  {
   "cell_type": "markdown",
   "id": "c647afda-e1a7-47a7-b634-212ec5527be2",
   "metadata": {
    "id": "c647afda-e1a7-47a7-b634-212ec5527be2"
   },
   "source": [
    "#### Fully Connected Weights 1"
   ]
  },
  {
   "cell_type": "code",
   "execution_count": null,
   "id": "03334172-89f6-4d73-9461-6ac922bdb6ea",
   "metadata": {
    "id": "03334172-89f6-4d73-9461-6ac922bdb6ea"
   },
   "outputs": [],
   "source": [
    "target = (model_RRAM_best.w1>0).int()\n",
    "target"
   ]
  },
  {
   "cell_type": "code",
   "execution_count": null,
   "id": "49287afe-8437-40aa-8825-93f2cffe3a66",
   "metadata": {
    "id": "49287afe-8437-40aa-8825-93f2cffe3a66"
   },
   "outputs": [],
   "source": [
    "for ind_i, i in enumerate(target):\n",
    "    for ind_j, j in enumerate(i):\n",
    "        if j==1: WL_FC1[ind_j].append(V_WRITE)\n",
    "        else: WL_FC1[ind_j].append(V_WRITE/3)\n",
    "    for ind_k in range(len(target)):\n",
    "        if ind_k==ind_i: BL_FC1[ind_i].append(0)\n",
    "        else: BL_FC1[ind_k].append(2*V_WRITE/3)"
   ]
  },
  {
   "cell_type": "markdown",
   "id": "be77131c-005d-4f06-8a70-f40d267eb67e",
   "metadata": {
    "id": "be77131c-005d-4f06-8a70-f40d267eb67e"
   },
   "source": [
    "#### Fully Connected Weights 2"
   ]
  },
  {
   "cell_type": "code",
   "execution_count": null,
   "id": "9adc2b24-ffb0-4470-8eae-3830221cb33d",
   "metadata": {
    "id": "9adc2b24-ffb0-4470-8eae-3830221cb33d"
   },
   "outputs": [],
   "source": [
    "target = (model_RRAM_best.w2>0).int()\n",
    "target"
   ]
  },
  {
   "cell_type": "code",
   "execution_count": null,
   "id": "3f7ca037-0e2f-49a3-98b3-b2e0b93f8b79",
   "metadata": {
    "id": "3f7ca037-0e2f-49a3-98b3-b2e0b93f8b79"
   },
   "outputs": [],
   "source": [
    "for ind_i, i in enumerate(target):\n",
    "    for ind_j, j in enumerate(i):\n",
    "        if j==1: WL_FC2[ind_j].append(V_WRITE)\n",
    "        else: WL_FC2[ind_j].append(V_WRITE/3)\n",
    "    for ind_k in range(len(target)):\n",
    "        if ind_k==ind_i: BL_FC2[ind_i].append(0)\n",
    "        else: BL_FC2[ind_k].append(2*V_WRITE/3)"
   ]
  },
  {
   "cell_type": "markdown",
   "id": "a602368f-07a2-4beb-90e3-d782ca717fea",
   "metadata": {
    "id": "a602368f-07a2-4beb-90e3-d782ca717fea"
   },
   "source": [
    "#### Filling Out Programming Mode"
   ]
  },
  {
   "cell_type": "code",
   "execution_count": null,
   "id": "c4aa24d2-0d95-4ff4-8dfd-5c0800d9de11",
   "metadata": {
    "id": "c4aa24d2-0d95-4ff4-8dfd-5c0800d9de11"
   },
   "outputs": [],
   "source": [
    "WL_FC1 = [i + [0,0] for i in WL_FC1]\n",
    "BL_FC1 = [i + [0,0] for i in BL_FC1]\n",
    "while(len(WL_FC2[0]) < len(WL_FC1[0])):\n",
    "    WL_FC2 = [i + [0,] for i in WL_FC2]\n",
    "    BL_FC2 = [i + [0,] for i in BL_FC2]\n",
    "Mode.extend([V_mode]*(len(WL_FC1[0])-1) + [-V_mode])\n",
    "Mode_B.extend([-V_mode]*(len(WL_FC1[0])-1) + [V_mode])"
   ]
  },
  {
   "cell_type": "code",
   "execution_count": null,
   "id": "f953198a-a107-428c-9624-3c712086e922",
   "metadata": {
    "id": "f953198a-a107-428c-9624-3c712086e922"
   },
   "outputs": [],
   "source": [
    "print(WL_FC1[0])\n",
    "print(BL_FC1[0])\n",
    "print(WL_FC2[0])\n",
    "print(BL_FC2[0])\n",
    "print(Mode)\n",
    "print(Mode_B)\n",
    "print(len(WL_FC1[0]), len(BL_FC1[0]), len(WL_FC2[0]), len(BL_FC2[0]), len(Mode), len(Mode_B))"
   ]
  },
  {
   "cell_type": "markdown",
   "id": "92339f84-e8d6-4280-92af-e5215aa129a0",
   "metadata": {
    "id": "92339f84-e8d6-4280-92af-e5215aa129a0"
   },
   "source": [
    "### Inference: Loading the Testing Set"
   ]
  },
  {
   "cell_type": "code",
   "execution_count": null,
   "id": "b97dacd2-42bb-49f0-8ca9-e0f02ca4cc58",
   "metadata": {
    "id": "b97dacd2-42bb-49f0-8ca9-e0f02ca4cc58"
   },
   "outputs": [],
   "source": [
    "val_inputs[0]"
   ]
  },
  {
   "cell_type": "code",
   "execution_count": null,
   "id": "2336c3ab-2181-4ee7-b1c9-0a97a3700248",
   "metadata": {
    "id": "2336c3ab-2181-4ee7-b1c9-0a97a3700248"
   },
   "outputs": [],
   "source": [
    "V_1 = 0.1\n",
    "V_0 = -0.1\n",
    "include_testing = True\n",
    "include_every = 4"
   ]
  },
  {
   "cell_type": "code",
   "execution_count": null,
   "id": "6a1cfba2-3243-4062-9ef6-4cd309622c73",
   "metadata": {
    "id": "6a1cfba2-3243-4062-9ef6-4cd309622c73"
   },
   "outputs": [],
   "source": [
    "if include_testing:\n",
    "    for i in val_inputs[::include_every]:\n",
    "        i = i.flatten()\n",
    "        for ind, j in enumerate(i):\n",
    "            WL_FC1[ind].append(V_1 if j==1 else V_0)\n",
    "        BL_FC1 = [i + [0,] for i in BL_FC1]\n",
    "        WL_FC2 = [i + [0,] for i in WL_FC2]\n",
    "        BL_FC2 = [i + [0,] for i in BL_FC2]\n",
    "        Mode = Mode + [-V_mode,]\n",
    "        Mode_B = Mode_B + [V_mode,]"
   ]
  },
  {
   "cell_type": "markdown",
   "id": "b9dd97b8-fb1b-4634-9ae4-3a6fe05d0a2c",
   "metadata": {
    "id": "b9dd97b8-fb1b-4634-9ae4-3a6fe05d0a2c"
   },
   "source": [
    "### PWL Convertion"
   ]
  },
  {
   "cell_type": "code",
   "execution_count": null,
   "id": "c98af5ff-8f34-4472-89fc-e308d98d4072",
   "metadata": {
    "id": "c98af5ff-8f34-4472-89fc-e308d98d4072"
   },
   "outputs": [],
   "source": [
    "def pwl(l):\n",
    "    t = 0\n",
    "    res = \"pwl(time, 0us, 0V\"\n",
    "    for i in l:\n",
    "        res += f\", {t+5}us, {i:.2f}V, {t+100}us, {i:.2f}V, {t+105}us, 0V, {t+200}us, 0V\"\n",
    "        t+=200\n",
    "    res += \")\"\n",
    "    return res"
   ]
  },
  {
   "cell_type": "code",
   "execution_count": null,
   "id": "54850dbc-1317-44a2-9093-c5a4e048094c",
   "metadata": {
    "id": "54850dbc-1317-44a2-9093-c5a4e048094c"
   },
   "outputs": [],
   "source": [
    "pwl_data = []\n",
    "\n",
    "for ind, i in enumerate(WL_FC1):\n",
    "    pwl_data.append({\"Signal\": f\"WL_FC1_{ind}\", \"Index\": ind, \"PWL\": pwl(i)})\n",
    "for ind, i in enumerate(BL_FC1):\n",
    "    pwl_data.append({\"Signal\": f\"BL_FC1_{ind}\", \"Index\": ind, \"PWL\": pwl(i)})\n",
    "for ind, i in enumerate(WL_FC2):\n",
    "    pwl_data.append({\"Signal\": f\"WL_FC2_{ind}\", \"Index\": ind, \"PWL\": pwl(i)})\n",
    "for ind, i in enumerate(BL_FC2):\n",
    "    pwl_data.append({\"Signal\": f\"BL_FC2_{ind}\", \"Index\": ind, \"PWL\": pwl(i)})\n",
    "pwl_data.append({\"Signal\": \"Mode\", \"Index\": \"\", \"PWL\": pwl(Mode)})\n",
    "pwl_data.append({\"Signal\": \"Mode_b\", \"Index\": \"\", \"PWL\": pwl(Mode_B)})\n",
    "\n",
    "pwl_data = pd.DataFrame(pwl_data)\n",
    "pwl_data.to_csv(\"pwl_data.csv\", index=False)\n",
    "pwl_data.head()"
   ]
  },
  {
   "cell_type": "markdown",
   "id": "03e13866-8cd8-4b8e-a8d0-a5c69e951174",
   "metadata": {
    "id": "03e13866-8cd8-4b8e-a8d0-a5c69e951174"
   },
   "source": [
    "#### Testing Accuracy on 160 Images\n",
    "ADS isn't allowing PWLs longer than 160 Images, so let's check software accuracy for the same too"
   ]
  },
  {
   "cell_type": "code",
   "execution_count": null,
   "id": "fd4e4e97-5ecd-4c41-9035-4a51015d684e",
   "metadata": {
    "id": "fd4e4e97-5ecd-4c41-9035-4a51015d684e"
   },
   "outputs": [],
   "source": [
    "test(model_RRAM_best, val_inputs[::4], val_labels[::4])"
   ]
  },
  {
   "cell_type": "code",
   "execution_count": null,
   "id": "7cf44b69-14ac-4fdd-a2b5-b9c2cc361e7f",
   "metadata": {
    "id": "7cf44b69-14ac-4fdd-a2b5-b9c2cc361e7f"
   },
   "outputs": [],
   "source": [
    "test(model_RRAM_best, train_inputs, train_labels)"
   ]
  },
  {
   "cell_type": "markdown",
   "id": "1079074f-8781-43af-b52e-fb3581ef8931",
   "metadata": {
    "id": "1079074f-8781-43af-b52e-fb3581ef8931"
   },
   "source": [
    "## Simulation Data from ADS"
   ]
  },
  {
   "cell_type": "code",
   "execution_count": null,
   "id": "e0d523a2-f99f-46bb-93e0-fead2768da75",
   "metadata": {
    "id": "e0d523a2-f99f-46bb-93e0-fead2768da75"
   },
   "outputs": [],
   "source": [
    "simu = pd.read_csv(\"Testing_160_Images.csv\")\n",
    "simu"
   ]
  },
  {
   "cell_type": "code",
   "execution_count": null,
   "id": "fd96e845-0c19-470b-8910-6b45df78022c",
   "metadata": {
    "id": "fd96e845-0c19-470b-8910-6b45df78022c"
   },
   "outputs": [],
   "source": [
    "def remove_units(value):\n",
    "    return float(value.replace('E', 'e').split('V')[0].replace('sec', ''))\n",
    "\n",
    "simu['time'] = simu['time'].apply(remove_units)\n",
    "for col in ['A', 'X', 'V', 'T']:\n",
    "    simu[col] = simu[col].apply(remove_units)\n",
    "simu"
   ]
  },
  {
   "cell_type": "markdown",
   "id": "223576d6-266c-49bd-aaca-ff3444617f09",
   "metadata": {
    "id": "223576d6-266c-49bd-aaca-ff3444617f09"
   },
   "source": [
    "We just need one sample every 0.1ms samples of these starting from 2.050ms to 33.850ms"
   ]
  },
  {
   "cell_type": "code",
   "execution_count": null,
   "id": "a13d6e19-daa6-481f-8ad2-11a357dc20d3",
   "metadata": {
    "id": "a13d6e19-daa6-481f-8ad2-11a357dc20d3"
   },
   "outputs": [],
   "source": [
    "t_stamps = np.arange(2.05e-3, 33.9e-3, 0.2e-3)\n",
    "t_stamps.shape"
   ]
  },
  {
   "cell_type": "code",
   "execution_count": null,
   "id": "f5548dd9-e376-4bd1-b9d2-484f4358f700",
   "metadata": {
    "id": "f5548dd9-e376-4bd1-b9d2-484f4358f700"
   },
   "outputs": [],
   "source": [
    "sampled = []\n",
    "window = 0.02e-3\n",
    "\n",
    "for t in t_stamps:\n",
    "    filtered = simu[(simu['time'] >= t - window) & (simu['time'] <= t + window)]\n",
    "\n",
    "    avg_A = filtered['A'].mean()\n",
    "    avg_X = filtered['X'].mean()\n",
    "    avg_V = filtered['V'].mean()\n",
    "    avg_T = filtered['T'].mean()\n",
    "\n",
    "    sampled.append({\n",
    "        'Image Index': t,\n",
    "        'A': avg_A,\n",
    "        'X': avg_X,\n",
    "        'V': avg_V,\n",
    "        'T': avg_T\n",
    "    })\n",
    "\n",
    "sampled = pd.DataFrame(sampled)\n",
    "sampled"
   ]
  },
  {
   "cell_type": "code",
   "execution_count": null,
   "id": "096828ea-b6be-4839-8b7d-4e0f5a515a7e",
   "metadata": {
    "id": "096828ea-b6be-4839-8b7d-4e0f5a515a7e"
   },
   "outputs": [],
   "source": [
    "def get_max_column(row):\n",
    "    return row[['A', 'X', 'V', 'T']].idxmax()\n",
    "sampled['Predicted Class'] = sampled.apply(get_max_column, axis=1)\n",
    "sampled.to_csv(\"Sampled_Results.csv\", index=False)\n",
    "sampled"
   ]
  },
  {
   "cell_type": "code",
   "execution_count": null,
   "id": "d1143c06-5631-4c79-9965-0cb937929706",
   "metadata": {
    "id": "d1143c06-5631-4c79-9965-0cb937929706"
   },
   "outputs": [],
   "source": [
    "ground_truth = ['A']*40 + ['X']*40 + ['V']*40 + ['T']*40\n",
    "correct_predictions = sampled['Predicted Class'] == ground_truth\n",
    "accuracy = correct_predictions.sum() / len(ground_truth)\n",
    "print(accuracy*100,end=\"%\")"
   ]
  },
  {
   "cell_type": "code",
   "execution_count": null,
   "id": "918b4552-b0d3-4768-bfe7-9b874959d42c",
   "metadata": {
    "id": "918b4552-b0d3-4768-bfe7-9b874959d42c"
   },
   "outputs": [],
   "source": [
    "plt.figure(figsize=(7, 3.5))\n",
    "\n",
    "plt.scatter(sampled.index, sampled['A'], color='red', label='A_pred', s=30, marker='o')  # Red dots for A\n",
    "plt.scatter(sampled.index, sampled['X'], color='blue', label='X_pred', s=30, marker='o')  # Blue dots for X\n",
    "plt.scatter(sampled.index, sampled['T'], color='green', label='T_pred', s=30, marker='o')  # Green dots for T\n",
    "plt.scatter(sampled.index, sampled['V'], color='orange', label='V_pred', s=30, marker='o')  # Orange dots for V\n",
    "\n",
    "plt.xlabel('Image Index')\n",
    "plt.ylabel('Predicted Voltages (V)')\n",
    "plt.legend()\n",
    "\n",
    "plt.axvline(x=40, color='gray', linestyle='--', linewidth=2)\n",
    "plt.axvline(x=80, color='gray', linestyle='--', linewidth=2)\n",
    "plt.axvline(x=120, color='gray', linestyle='--', linewidth=2)\n",
    "\n",
    "plt.text(20, plt.ylim()[1]*(-0.8), 'A', fontsize=15, color='black', ha='center')\n",
    "plt.text(60, plt.ylim()[1]*0.8, 'X', fontsize=15, color='black', ha='center')\n",
    "plt.text(100, plt.ylim()[1]*0.8, 'V', fontsize=15, color='black', ha='center')\n",
    "plt.text(140, plt.ylim()[1]*(-0.8), 'T', fontsize=15, color='black', ha='center')\n",
    "\n",
    "plt.show()"
   ]
  },
  {
   "cell_type": "code",
   "execution_count": null,
   "id": "e86f31ef-ad69-472f-9217-bdde6f8ab1e8",
   "metadata": {
    "id": "e86f31ef-ad69-472f-9217-bdde6f8ab1e8"
   },
   "outputs": [],
   "source": []
  }
 ],
 "metadata": {
  "accelerator": "GPU",
  "colab": {
   "gpuType": "T4",
   "provenance": []
  },
  "kernelspec": {
   "display_name": "Python 3 (ipykernel)",
   "language": "python",
   "name": "python3"
  },
  "language_info": {
   "codemirror_mode": {
    "name": "ipython",
    "version": 3
   },
   "file_extension": ".py",
   "mimetype": "text/x-python",
   "name": "python",
   "nbconvert_exporter": "python",
   "pygments_lexer": "ipython3",
   "version": "3.10.5"
  }
 },
 "nbformat": 4,
 "nbformat_minor": 5
}
